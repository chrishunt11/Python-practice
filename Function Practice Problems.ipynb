{
 "cells": [
  {
   "cell_type": "markdown",
   "id": "5e61ef02",
   "metadata": {},
   "source": [
    "# Function Practice Problems"
   ]
  },
  {
   "cell_type": "markdown",
   "id": "0e4b9028",
   "metadata": {
    "heading_collapsed": true
   },
   "source": [
    "## **Problem 1:**\n",
    "\n",
    "Write a Python function called `count_vowels` that takes a string as input and returns the count of vowels (a, e, i, o, u) in the string. The function should be case-insensitive, meaning it should count both uppercase and lowercase vowels.\n",
    "\n",
    "For example:\n",
    "- `count_vowels(\"Hello\")` should return 2 because there are two vowels 'e' in the string.\n",
    "- `count_vowels(\"Python\")` should return 1 because there is one vowel 'o' in the string.\n",
    "- `count_vowels(\"Programming\")` should return 3 because there are three vowels 'o', 'a', and 'i' in the string.\n",
    "\n",
    "Once you've written the function, you can test it with different strings to ensure it works correctly."
   ]
  },
  {
   "cell_type": "code",
   "execution_count": 1,
   "id": "55cbd3b6",
   "metadata": {
    "hidden": true
   },
   "outputs": [],
   "source": [
    "def count_vowels(string):\n",
    "    \n",
    "    # Creating a string of vowels\n",
    "    vowels = 'aeiou'\n",
    "    \n",
    "    # Setting count\n",
    "    count = 0\n",
    "    \n",
    "    # Iterating through each character in the string\n",
    "    for char in string.lower():\n",
    "        if char in vowels:\n",
    "            \n",
    "            # adding 1 to the count for every vowel\n",
    "            count += 1\n",
    "    return count"
   ]
  },
  {
   "cell_type": "code",
   "execution_count": 2,
   "id": "3dfb6f62",
   "metadata": {
    "hidden": true
   },
   "outputs": [
    {
     "data": {
      "text/plain": [
       "16"
      ]
     },
     "execution_count": 2,
     "metadata": {},
     "output_type": "execute_result"
    }
   ],
   "source": [
    "count_vowels('Hee Hee Hooo HOOOOOOOOO')"
   ]
  },
  {
   "cell_type": "markdown",
   "id": "e410fb8d",
   "metadata": {
    "heading_collapsed": true
   },
   "source": [
    "## **Problem 2:**\n",
    "\n",
    "Write a Python function called `reverse_words` that takes a string as input and returns the string with the order of words reversed. Words in the input string are separated by spaces. You should preserve the spaces between words in the output string.\n",
    "\n",
    "For example:\n",
    "- `reverse_words(\"Hello World\")` should return \"World Hello\".\n",
    "- `reverse_words(\"Python is fun\")` should return \"fun is Python\".\n",
    "- `reverse_words(\"Keep coding and learning\")` should return \"learning and coding Keep\".\n",
    "\n",
    "Once you've written the function, you can test it with different strings to ensure it works correctly."
   ]
  },
  {
   "cell_type": "code",
   "execution_count": 3,
   "id": "5ba2e770",
   "metadata": {
    "hidden": true
   },
   "outputs": [],
   "source": [
    "def reverse_words(string):\n",
    "    # split the words in the string\n",
    "    words = string.split()\n",
    "    \n",
    "    # reverse the order of the words\n",
    "    reversed_words = reversed(words)\n",
    "    \n",
    "    # join the words back together\n",
    "    reversed_string = ' '.join(reversed_words)\n",
    "    \n",
    "    return reversed_string"
   ]
  },
  {
   "cell_type": "code",
   "execution_count": 4,
   "id": "97a66d97",
   "metadata": {
    "hidden": true
   },
   "outputs": [
    {
     "data": {
      "text/plain": [
       "'you Hey'"
      ]
     },
     "execution_count": 4,
     "metadata": {},
     "output_type": "execute_result"
    }
   ],
   "source": [
    "reverse_words('Hey you')"
   ]
  },
  {
   "cell_type": "markdown",
   "id": "7d5b5ae1",
   "metadata": {
    "heading_collapsed": true
   },
   "source": [
    "## **Problem 3:**\n",
    "\n",
    "Write a Python function called `remove_duplicates` that takes a list as input and returns a new list with duplicates removed, preserving the original order of elements. \n",
    "\n",
    "For example:\n",
    "- `remove_duplicates([1, 2, 3, 2, 4, 5, 1])` should return `[1, 2, 3, 4, 5]`.\n",
    "- `remove_duplicates(['a', 'b', 'c', 'a', 'd', 'b', 'e'])` should return `['a', 'b', 'c', 'd', 'e']`.\n",
    "\n",
    "Once you've written the function, you can test it with different lists to ensure it works correctly."
   ]
  },
  {
   "cell_type": "code",
   "execution_count": 5,
   "id": "860177f1",
   "metadata": {
    "hidden": true
   },
   "outputs": [],
   "source": [
    "def remove_duplicates(lst):\n",
    "    new_list = []\n",
    "    for i in lst:\n",
    "        if i not in new_list:\n",
    "            new_list.append(i)\n",
    "            \n",
    "    return new_list"
   ]
  },
  {
   "cell_type": "code",
   "execution_count": 6,
   "id": "10d07be8",
   "metadata": {
    "hidden": true
   },
   "outputs": [
    {
     "data": {
      "text/plain": [
       "['a', 'b', 'c', 'd', 'e']"
      ]
     },
     "execution_count": 6,
     "metadata": {},
     "output_type": "execute_result"
    }
   ],
   "source": [
    "remove_duplicates(['a', 'b', 'c', 'a', 'd', 'b', 'e'])"
   ]
  },
  {
   "cell_type": "markdown",
   "id": "62ea3b4f",
   "metadata": {
    "heading_collapsed": true
   },
   "source": [
    "## **Problem 4:**\n",
    "\n",
    "Write a Python function called `find_common_elements` that takes two lists as input and returns a new list containing elements that are common to both input lists. The order of elements in the output list should match the order in which they appear in the first list.\n",
    "\n",
    "For example:\n",
    "- `find_common_elements([1, 2, 3, 4, 5], [4, 5, 6, 7, 8])` should return `[4, 5]` because 4 and 5 are common elements in both lists.\n",
    "- `find_common_elements(['a', 'b', 'c', 'd'], ['x', 'y', 'z', 'a', 'b'])` should return `['a', 'b']` because 'a' and 'b' are common elements in both lists.\n",
    "\n",
    "Once you've written the function, you can test it with different pairs of lists to ensure it works correctly."
   ]
  },
  {
   "cell_type": "code",
   "execution_count": 21,
   "id": "80a06a81",
   "metadata": {
    "hidden": true
   },
   "outputs": [],
   "source": [
    "def find_common_elements(lst1, lst2):\n",
    "    common_list = []\n",
    "    for item in lst1:\n",
    "        if item in lst2:\n",
    "            common_list.append(item)\n",
    "    return common_list"
   ]
  },
  {
   "cell_type": "code",
   "execution_count": 23,
   "id": "aacd4772",
   "metadata": {
    "hidden": true
   },
   "outputs": [
    {
     "data": {
      "text/plain": [
       "[4, 5]"
      ]
     },
     "execution_count": 23,
     "metadata": {},
     "output_type": "execute_result"
    }
   ],
   "source": [
    "find_common_elements([1, 2, 3, 4, 5], [4, 5, 6, 7, 8])"
   ]
  },
  {
   "cell_type": "code",
   "execution_count": 25,
   "id": "62b52569",
   "metadata": {
    "hidden": true
   },
   "outputs": [
    {
     "data": {
      "text/plain": [
       "['a', 'b']"
      ]
     },
     "execution_count": 25,
     "metadata": {},
     "output_type": "execute_result"
    }
   ],
   "source": [
    "find_common_elements(['a', 'b', 'c', 'd'], ['x', 'y', 'z', 'a', 'b'])"
   ]
  },
  {
   "cell_type": "markdown",
   "id": "ebb6ba31",
   "metadata": {
    "heading_collapsed": true
   },
   "source": [
    "## **Problem 5:**\n",
    "\n",
    "Write a Python function called `is_palindrome` that takes a string as input and returns `True` if the string is a palindrome, and `False` otherwise. A palindrome is a word, phrase, number, or other sequence of characters that reads the same forward and backward, ignoring spaces, punctuation, and capitalization.\n",
    "\n",
    "For example:\n",
    "- `is_palindrome(\"radar\")` should return `True` because \"radar\" reads the same backward and forward.\n",
    "- `is_palindrome(\"hello\")` should return `False` because \"hello\" is not the same backward and forward.\n",
    "- `is_palindrome(\"A man, a plan, a canal, Panama\")` should return `True` because it reads the same backward and forward after ignoring spaces, punctuation, and capitalization.\n",
    "\n",
    "Once you've written the function, you can test it with different strings to ensure it works correctly."
   ]
  },
  {
   "cell_type": "code",
   "execution_count": 82,
   "id": "284872a2",
   "metadata": {
    "hidden": true
   },
   "outputs": [],
   "source": [
    "import string\n",
    "\n",
    "def is_palindrome(s):\n",
    "    \n",
    "    cleaned_string = ''\n",
    "    \n",
    "    for char in s:\n",
    "        if char not in string.punctuation:\n",
    "            cleaned_string += char\n",
    "            \n",
    "    cleaned_string = cleaned_string.replace(' ', '')\n",
    "    cleaned_string = cleaned_string.lower()\n",
    "    \n",
    "    return cleaned_string.lower() == cleaned_string[::-1]"
   ]
  },
  {
   "cell_type": "code",
   "execution_count": 83,
   "id": "66d2e87b",
   "metadata": {
    "hidden": true
   },
   "outputs": [
    {
     "data": {
      "text/plain": [
       "True"
      ]
     },
     "execution_count": 83,
     "metadata": {},
     "output_type": "execute_result"
    }
   ],
   "source": [
    "is_palindrome(\"radar\")"
   ]
  },
  {
   "cell_type": "code",
   "execution_count": 84,
   "id": "3acf170c",
   "metadata": {
    "hidden": true
   },
   "outputs": [
    {
     "data": {
      "text/plain": [
       "True"
      ]
     },
     "execution_count": 84,
     "metadata": {},
     "output_type": "execute_result"
    }
   ],
   "source": [
    "is_palindrome(\"A man, a plan, a canal, Panama\")"
   ]
  },
  {
   "cell_type": "markdown",
   "id": "9c0c451e",
   "metadata": {
    "heading_collapsed": true
   },
   "source": [
    "## **Problem 6:**\n",
    "\n",
    "Write a Python function called `count_words` that takes a string as input and returns a dictionary containing the count of each word in the input string. Words are delimited by spaces, and you should ignore punctuation marks. The keys of the dictionary should be the unique words in the input string (case-insensitive), and the values should be the corresponding counts of each word.\n",
    "\n",
    "For example:\n",
    "- `count_words(\"Hello world hello\")` should return `{'hello': 2, 'world': 1}`.\n",
    "- `count_words(\"Python is fun, Python is cool!\")` should return `{'python': 2, 'is': 2, 'fun': 1, 'cool': 1}`.\n",
    "\n",
    "Once you've written the function, you can test it with different strings to ensure it works correctly."
   ]
  },
  {
   "cell_type": "code",
   "execution_count": 124,
   "id": "c62dc5d8",
   "metadata": {
    "hidden": true
   },
   "outputs": [],
   "source": [
    "import string\n",
    "\n",
    "def count_words(s):\n",
    "    cleaned_string = ''.join(char for char in s if char not in string.punctuation).lower()\n",
    "\n",
    "    words = cleaned_string.split()\n",
    "    \n",
    "    word_count = {}\n",
    "    \n",
    "    for word in words:\n",
    "        word_count[word] = word_count.get(word, 0) + 1\n",
    "        \n",
    "    return word_count"
   ]
  },
  {
   "cell_type": "code",
   "execution_count": 125,
   "id": "43bec554",
   "metadata": {
    "hidden": true
   },
   "outputs": [
    {
     "data": {
      "text/plain": [
       "{'hello': 2, 'world': 1}"
      ]
     },
     "execution_count": 125,
     "metadata": {},
     "output_type": "execute_result"
    }
   ],
   "source": [
    "count_words(\"Hello world hello\")"
   ]
  },
  {
   "cell_type": "code",
   "execution_count": 126,
   "id": "d8eb05f1",
   "metadata": {
    "hidden": true
   },
   "outputs": [
    {
     "data": {
      "text/plain": [
       "{'python': 2, 'is': 2, 'fun': 1, 'cool': 1}"
      ]
     },
     "execution_count": 126,
     "metadata": {},
     "output_type": "execute_result"
    }
   ],
   "source": [
    "count_words(\"Python is fun, Python is cool!\")"
   ]
  },
  {
   "cell_type": "markdown",
   "id": "b7bc544c",
   "metadata": {
    "heading_collapsed": true
   },
   "source": [
    "## **Problem 7:**\n",
    "\n",
    "Write a Python function called `reverse_dictionary` that takes a dictionary as input and returns a new dictionary where the keys and values of the input dictionary are swapped. Assume that the values of the input dictionary are unique and immutable.\n",
    "\n",
    "For example:\n",
    "- `reverse_dictionary({'a': 1, 'b': 2, 'c': 3})` should return `{1: 'a', 2: 'b', 3: 'c'}`.\n",
    "- `reverse_dictionary({'apple': 'red', 'banana': 'yellow', 'grape': 'purple'})` should return `{'red': 'apple', 'yellow': 'banana', 'purple': 'grape'}`.\n",
    "\n",
    "Once you've written the function, you can test it with different dictionaries to ensure it works correctly."
   ]
  },
  {
   "cell_type": "code",
   "execution_count": 131,
   "id": "97f1837b",
   "metadata": {
    "hidden": true
   },
   "outputs": [],
   "source": [
    "def reverse_dictionary(d):\n",
    "    reversed_dict = {}\n",
    "    for key, value in d.items():\n",
    "        reversed_dict[value] = key\n",
    "    return reversed_dict"
   ]
  },
  {
   "cell_type": "code",
   "execution_count": 133,
   "id": "e4e9d104",
   "metadata": {
    "hidden": true
   },
   "outputs": [
    {
     "data": {
      "text/plain": [
       "{1: 'a', 2: 'b', 3: 'c'}"
      ]
     },
     "execution_count": 133,
     "metadata": {},
     "output_type": "execute_result"
    }
   ],
   "source": [
    "reverse_dictionary({'a': 1, 'b': 2, 'c': 3})"
   ]
  },
  {
   "cell_type": "code",
   "execution_count": 132,
   "id": "48b1793a",
   "metadata": {
    "hidden": true
   },
   "outputs": [
    {
     "data": {
      "text/plain": [
       "{'red': 'apple', 'yellow': 'banana', 'purple': 'grape'}"
      ]
     },
     "execution_count": 132,
     "metadata": {},
     "output_type": "execute_result"
    }
   ],
   "source": [
    "reverse_dictionary({'apple': 'red', 'banana': 'yellow', 'grape': 'purple'})"
   ]
  },
  {
   "cell_type": "markdown",
   "id": "2eaf3015",
   "metadata": {
    "heading_collapsed": true
   },
   "source": [
    "## **Problem 8:**\n",
    "\n",
    "Write a Python function called `merge_dicts` that takes two dictionaries as input and returns a new dictionary containing the merged key-value pairs from both input dictionaries. If a key exists in both dictionaries, the value in the returned dictionary should be the sum of the corresponding values from both input dictionaries.\n",
    "\n",
    "For example:\n",
    "- `merge_dicts({'a': 1, 'b': 2}, {'b': 3, 'c': 4})` should return `{'a': 1, 'b': 5, 'c': 4}` because the value for key 'b' is the sum of 2 and 3.\n",
    "- `merge_dicts({'x': 10, 'y': 20}, {'y': 30, 'z': 40})` should return `{'x': 10, 'y': 50, 'z': 40}` because the value for key 'y' is the sum of 20 and 30.\n",
    "\n",
    "Once you've written the function, you can test it with different pairs of dictionaries to ensure it works correctly."
   ]
  },
  {
   "cell_type": "code",
   "execution_count": 134,
   "id": "c775d760",
   "metadata": {
    "hidden": true
   },
   "outputs": [],
   "source": [
    "def merge_dicts(d1, d2):\n",
    "    new_dict = {}\n",
    "    for key, value in d1.items():\n",
    "        new_dict[key] = value\n",
    "        \n",
    "    for key, value in d2.items():\n",
    "        if key in new_dict:\n",
    "            new_dict[key] += value\n",
    "        else:\n",
    "            new_dict[key] = value\n",
    "    return new_dict"
   ]
  },
  {
   "cell_type": "code",
   "execution_count": 135,
   "id": "0042cacc",
   "metadata": {
    "hidden": true
   },
   "outputs": [
    {
     "data": {
      "text/plain": [
       "{'a': 1, 'b': 5, 'c': 4}"
      ]
     },
     "execution_count": 135,
     "metadata": {},
     "output_type": "execute_result"
    }
   ],
   "source": [
    "merge_dicts({'a': 1, 'b': 2}, {'b': 3, 'c': 4})"
   ]
  },
  {
   "cell_type": "markdown",
   "id": "a7d79613",
   "metadata": {
    "hidden": true
   },
   "source": [
    "1. Defining the function `merge_dicts` that takes two dictionaries `d1` and `d2` as input\n",
    "2. Create a new dictionary to store the merged key-value pairs\n",
    "3. Loop over the key-value pairs in `d1` using `d1.items()`\n",
    "4. For each key-value pair `(key, value)` in `d1` we add the key-value pair into the new dictionary\n",
    "\n",
    "After step 4 all of the key-value pairs from `d1`\n",
    "\n",
    "5. Loop over the key-value pairs in `d2` using `d2.items()`\n",
    "6. For each key-value pair (key, value) in `d2`, we check if the key already exists in `new_dict`.\n",
    "7. If the key exists in `new_dict`, we add the value from `d2` to the existing value in `new_dict`\n",
    "8. If the key does not exist in `new_dict`, it means it's unique to `d2`, so we add it to `new_dict`.\n",
    "9. Finally, we return the merged dictionary `new_dict`."
   ]
  },
  {
   "cell_type": "code",
   "execution_count": null,
   "id": "2fa70a8d",
   "metadata": {
    "hidden": true
   },
   "outputs": [],
   "source": []
  }
 ],
 "metadata": {
  "kernelspec": {
   "display_name": "Python (dojo-env)",
   "language": "python",
   "name": "dojo-env"
  },
  "language_info": {
   "codemirror_mode": {
    "name": "ipython",
    "version": 3
   },
   "file_extension": ".py",
   "mimetype": "text/x-python",
   "name": "python",
   "nbconvert_exporter": "python",
   "pygments_lexer": "ipython3",
   "version": "3.9.15"
  },
  "toc": {
   "base_numbering": 1,
   "nav_menu": {},
   "number_sections": false,
   "sideBar": true,
   "skip_h1_title": false,
   "title_cell": "Table of Contents",
   "title_sidebar": "Contents",
   "toc_cell": false,
   "toc_position": {},
   "toc_section_display": true,
   "toc_window_display": false
  }
 },
 "nbformat": 4,
 "nbformat_minor": 5
}
