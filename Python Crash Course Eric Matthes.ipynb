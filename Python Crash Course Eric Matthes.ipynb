{
 "cells": [
  {
   "cell_type": "markdown",
   "id": "8abc5341",
   "metadata": {
    "heading_collapsed": true
   },
   "source": [
    "# Chapter 4:Working with Lists"
   ]
  },
  {
   "cell_type": "markdown",
   "id": "23f82063",
   "metadata": {
    "hidden": true
   },
   "source": [
    "Try it yourself\n",
    "\n",
    "**4-1 Pizzas:** Think of at least three kinds of your favorite pizza. Store these pizza names in a list, and then use a for loop to print the name of each pizza.\n",
    "\n",
    "- Modify your for loop to print a sentence using the name of the pizza, instead of printing just the name of the pizza. For each pizza you should have one line of output containing a simple statement like I like pepperoni pizza.\n",
    "- Add a line at the end of your program, outside the for loop, that states how much you like pizza. The output should consist of three or more lines about the kinds of pizza you like and then an additioanl sentence, such as I really love pizza\n",
    "\n",
    "    "
   ]
  },
  {
   "cell_type": "code",
   "execution_count": 1,
   "id": "5ceac69f",
   "metadata": {
    "hidden": true
   },
   "outputs": [
    {
     "name": "stdout",
     "output_type": "stream",
     "text": [
      "I like pepperoni pizza.\n",
      "I like cheese pizza.\n",
      "I like chicken pizza.\n",
      "\n",
      "Man I really like pizza.\n",
      "\n"
     ]
    }
   ],
   "source": [
    "# 4-1\n",
    "pizzas = ['pepperoni', 'cheese', 'chicken']\n",
    "for pizza in pizzas:\n",
    "    print(f\"I like {pizza} pizza.\")\n",
    "    \n",
    "print(\"\\nMan I really like pizza.\\n\")"
   ]
  },
  {
   "cell_type": "markdown",
   "id": "c6e7b999",
   "metadata": {
    "hidden": true
   },
   "source": [
    "**4-2 Animals:** Think of at least three different animals that have a common characteristic. Store the names of these animals in a list, and then use a for loop to print out the name of each animal.\n",
    "- Modify your program to print a statement about each animal, such as A dog would make a great pet\n",
    "- Add a line at the end of your program, stating what these animals have in common. You could print a sentence, such as Any of these animals would make a great pet!"
   ]
  },
  {
   "cell_type": "code",
   "execution_count": 2,
   "id": "ecfd01bb",
   "metadata": {
    "hidden": true
   },
   "outputs": [
    {
     "name": "stdout",
     "output_type": "stream",
     "text": [
      "A dog would make a great pet!\n",
      "A cat would make a great pet!\n",
      "A pig would make a great pet!\n",
      "\n",
      "Honestly any of these animals would make a great pet!\n"
     ]
    }
   ],
   "source": [
    "# 4-2\n",
    "animals = ['dog', 'cat', 'pig']\n",
    "for animal in animals:\n",
    "    print(f\"A {animal} would make a great pet!\")\n",
    "    \n",
    "print(\"\\nHonestly any of these animals would make a great pet!\")"
   ]
  },
  {
   "cell_type": "markdown",
   "id": "b3ad6dc0",
   "metadata": {
    "hidden": true
   },
   "source": [
    "**4-3 Counting to twenty:** Use a for loop to print the numbers from 1 to 20, inclusive"
   ]
  },
  {
   "cell_type": "code",
   "execution_count": 3,
   "id": "f877d214",
   "metadata": {
    "hidden": true
   },
   "outputs": [
    {
     "name": "stdout",
     "output_type": "stream",
     "text": [
      "[1, 2, 3, 4, 5, 6, 7, 8, 9, 10, 11, 12, 13, 14, 15, 16, 17, 18, 19, 20]\n"
     ]
    }
   ],
   "source": [
    "# 4-3 \n",
    "numbers = [number for number in range(1,21)]\n",
    "print(numbers)"
   ]
  },
  {
   "cell_type": "markdown",
   "id": "57002120",
   "metadata": {
    "hidden": true
   },
   "source": [
    "**4-4 One Million:** Make a list of the numbers from one to one million, and then use a for loop to print the numbers"
   ]
  },
  {
   "cell_type": "code",
   "execution_count": 4,
   "id": "41ec1ba6",
   "metadata": {
    "hidden": true
   },
   "outputs": [
    {
     "name": "stdout",
     "output_type": "stream",
     "text": [
      "[1, 2, 3, 4, 5, 6, 7, 8, 9, 10, 11, 12, 13, 14, 15, 16, 17, 18, 19, 20, 21, 22, 23, 24, 25, 26, 27, 28, 29, 30, 31, 32, 33, 34, 35, 36, 37, 38, 39, 40, 41, 42, 43, 44, 45, 46, 47, 48, 49, 50, 51, 52, 53, 54, 55, 56, 57, 58, 59, 60, 61, 62, 63, 64, 65, 66, 67, 68, 69, 70, 71, 72, 73, 74, 75, 76, 77, 78, 79, 80, 81, 82, 83, 84, 85, 86, 87, 88, 89, 90, 91, 92, 93, 94, 95, 96, 97, 98, 99, 100]\n"
     ]
    }
   ],
   "source": [
    "# 4-4\n",
    "numbers = [number for number in range(1,101)]\n",
    "print(numbers)"
   ]
  },
  {
   "cell_type": "markdown",
   "id": "418f003b",
   "metadata": {
    "hidden": true
   },
   "source": [
    "**4-5 Summing a Million:** Make a list of the numbers from one to one million, then use min() and max() to make sure your list actually starts at one and ends at one million. Also, use the sum() function to see how quickly Python can add a million numbers"
   ]
  },
  {
   "cell_type": "code",
   "execution_count": 5,
   "id": "1aab951d",
   "metadata": {
    "hidden": true
   },
   "outputs": [
    {
     "name": "stdout",
     "output_type": "stream",
     "text": [
      "1000000\n",
      "1\n",
      "500000500000\n"
     ]
    }
   ],
   "source": [
    "# 4-5\n",
    "numbers = [number for number in range(1, 1_000_001)]\n",
    "print(max(numbers))\n",
    "print(min(numbers))\n",
    "print(sum(numbers))"
   ]
  },
  {
   "cell_type": "markdown",
   "id": "067eda97",
   "metadata": {
    "hidden": true
   },
   "source": [
    "**4-6 Odd Numbers:** Use the third argument of the range() function to make a list of the odd numbers from 1 to 20. Use a for loop to print out each number"
   ]
  },
  {
   "cell_type": "code",
   "execution_count": 6,
   "id": "7b653f0f",
   "metadata": {
    "hidden": true
   },
   "outputs": [
    {
     "name": "stdout",
     "output_type": "stream",
     "text": [
      "[1, 3, 5, 7, 9, 11, 13, 15, 17, 19]\n"
     ]
    }
   ],
   "source": [
    "# 4-6\n",
    "odd_numbers = [number for number in range(1, 21, 2)]\n",
    "print(odd_numbers)"
   ]
  },
  {
   "cell_type": "markdown",
   "id": "3ddd73fe",
   "metadata": {
    "hidden": true
   },
   "source": [
    "**4-7:** Make a list of the multiples of 3 from 3 to 30. Use a for loop to print the numbers in your list"
   ]
  },
  {
   "cell_type": "code",
   "execution_count": 7,
   "id": "106a6aed",
   "metadata": {
    "hidden": true
   },
   "outputs": [
    {
     "name": "stdout",
     "output_type": "stream",
     "text": [
      "[3, 6, 9, 12, 15, 18, 21, 24, 27, 30]\n"
     ]
    }
   ],
   "source": [
    "# 4-7\n",
    "mul_of_3 = [number for number in range(3, 31, 3)]\n",
    "print(mul_of_3)"
   ]
  },
  {
   "cell_type": "markdown",
   "id": "427d10de",
   "metadata": {
    "hidden": true
   },
   "source": [
    "**4-8:** A number raised to the third power is called a cube. For example the cube of 2 is written as 2**3 in Python. Make a list of the first 10 cubes (that is, the cube of each integer from 1 through 10), and use a for loop to print out the value in each cube."
   ]
  },
  {
   "cell_type": "code",
   "execution_count": 8,
   "id": "794d8d6c",
   "metadata": {
    "hidden": true
   },
   "outputs": [
    {
     "name": "stdout",
     "output_type": "stream",
     "text": [
      "[1, 8, 27, 64, 125, 216, 343, 512, 729, 1000]\n"
     ]
    }
   ],
   "source": [
    "# 4-8\n",
    "cubed = [number**3 for number in range(1, 11)]\n",
    "print(cubed)"
   ]
  },
  {
   "cell_type": "markdown",
   "id": "da50f8f7",
   "metadata": {
    "hidden": true
   },
   "source": [
    "**4-9 Cube Comprehension:** Use a list comprehension to generate a list of the first 10 cubes"
   ]
  },
  {
   "cell_type": "code",
   "execution_count": 9,
   "id": "eb11f5d9",
   "metadata": {
    "hidden": true
   },
   "outputs": [
    {
     "name": "stdout",
     "output_type": "stream",
     "text": [
      "[1, 64, 343, 1000, 2197, 4096, 6859]\n"
     ]
    }
   ],
   "source": [
    "# 4-9\n",
    "cubed2 = [number**3 for number in range(1, 20, 3)]\n",
    "print(cubed2)"
   ]
  },
  {
   "cell_type": "markdown",
   "id": "4ec41647",
   "metadata": {
    "hidden": true
   },
   "source": [
    "**4-10 Slices:** Using one of the programs you wrote in this chapter, add several lines to the end of the program to do the following:\n",
    "- Print the message `The first three items in the list are:` Then use a slice to print the first three items from that programs list\n",
    "- Print the message `The items from the middle of the list are:` then use a slice to print three items from the middle of the list\n",
    "- Print the message `The last three items in the list are:` Then use a slice to print the last three items in the list"
   ]
  },
  {
   "cell_type": "code",
   "execution_count": 10,
   "id": "85b6d507",
   "metadata": {
    "hidden": true
   },
   "outputs": [
    {
     "name": "stdout",
     "output_type": "stream",
     "text": [
      "The first 3 items in the list are: [1, 3, 5]\n",
      "The items from the middle of the list are:[7, 9, 11]\n",
      "The last 3 items from the list are: [15, 17, 19]\n"
     ]
    }
   ],
   "source": [
    "# 4-10 \n",
    "print(f\"The first 3 items in the list are: {odd_numbers[:3]}\")\n",
    "print(f\"The items from the middle of the list are:{odd_numbers[3:6]}\")\n",
    "print(f\"The last 3 items from the list are: {odd_numbers[-3:]}\")"
   ]
  },
  {
   "cell_type": "markdown",
   "id": "381ab2d9",
   "metadata": {
    "hidden": true
   },
   "source": [
    "**4-11 My Pizzas, Your Pizzas:** Start with your program from exercise 4-1. Make a copy of the list of pizzas, and call it friend_pizzas. Then, do the following:\n",
    "- Add a new pizza to the original list\n",
    "- Add a different pizza to the list friend_pizza\n",
    "- Prove that you have two separate lists. Print the message `My favorite pizzas are:` and then use a for loop to print the first list. Then do the same with your friends pizza list. Make sure each new pizza is stored in the appropriate list"
   ]
  },
  {
   "cell_type": "code",
   "execution_count": 11,
   "id": "5921131b",
   "metadata": {
    "hidden": true
   },
   "outputs": [
    {
     "name": "stdout",
     "output_type": "stream",
     "text": [
      "My favorite Pizzas are:\n",
      "pepperoni\n",
      "cheese\n",
      "chicken\n",
      "mushroom\n",
      "\n",
      "My friends favorite pizzas are:\n",
      "pepperoni\n",
      "cheese\n",
      "chicken\n",
      "beef\n"
     ]
    }
   ],
   "source": [
    "# 4-11\n",
    "# Copy list\n",
    "pizzas = pizzas[:]\n",
    "\n",
    "# Make friends list\n",
    "friends_pizza = pizzas[:]\n",
    "\n",
    "# Add new pizza to original list\n",
    "pizzas.append('mushroom')\n",
    "\n",
    "# Add new pizza to friends list\n",
    "friends_pizza.append('beef')\n",
    "\n",
    "# Stating my favorite pizzas\n",
    "print(f\"My favorite Pizzas are:\")\n",
    "for pizza in pizzas:\n",
    "    print(pizza)\n",
    "    \n",
    "# Stating my friends favorite pizzas\n",
    "print(\"\\nMy friends favorite pizzas are:\")\n",
    "for pizza in friends_pizza:\n",
    "    print(pizza)"
   ]
  },
  {
   "cell_type": "markdown",
   "id": "c531e927",
   "metadata": {
    "heading_collapsed": true
   },
   "source": [
    "# Chapter 5: if Statements"
   ]
  },
  {
   "cell_type": "markdown",
   "id": "90745183",
   "metadata": {
    "hidden": true
   },
   "source": [
    "**5-3 Alien Colors #1:** Imagine an alien was just shot down in a game. Create a variable called alien_color and assign it to a value of 'green', 'yellow', or 'red'.\n",
    "- Write an if statement to test whether the alien's color is green. If it is, print a message that the player has just earned 5 points\n",
    "- Write one version of this program that passes the if test and another that fails. (The version that fails will have no output)"
   ]
  },
  {
   "cell_type": "code",
   "execution_count": 12,
   "id": "20e2d681",
   "metadata": {
    "hidden": true
   },
   "outputs": [
    {
     "name": "stdout",
     "output_type": "stream",
     "text": [
      "5 points\n"
     ]
    }
   ],
   "source": [
    "# 5-3 \n",
    "\n",
    "alien_color = 'green'\n",
    "\n",
    "if alien_color == 'green':\n",
    "    print('5 points')\n",
    "\n",
    "alien_color = 'red'\n",
    "\n",
    "if alien_color == 'green':\n",
    "    print('5 points')"
   ]
  },
  {
   "cell_type": "markdown",
   "id": "89a43899",
   "metadata": {
    "hidden": true
   },
   "source": [
    "**5-4 Alien Colors #2:** Choose a color for an alien as you did in Exercise 5-3, and write and if-else chain.\n",
    "- If the alien's color is green, print a statement that the player has just earned 5 points for shooting the alien\n",
    "- If the alien's color isn't green, print a statement that the player has just earned 10 points\n",
    "- Write one version of this program that runs the if block and another that runs the else block"
   ]
  },
  {
   "cell_type": "code",
   "execution_count": 13,
   "id": "fdad77a3",
   "metadata": {
    "hidden": true
   },
   "outputs": [
    {
     "name": "stdout",
     "output_type": "stream",
     "text": [
      "10 points\n"
     ]
    }
   ],
   "source": [
    "# 5-4\n",
    "\n",
    "alien_color = 'red'\n",
    "\n",
    "if alien_color == 'green':\n",
    "    print('5 points')\n",
    "else:\n",
    "    print('10 points')"
   ]
  },
  {
   "cell_type": "markdown",
   "id": "7ee8fec3",
   "metadata": {
    "hidden": true
   },
   "source": [
    "**5-5 Alien Colors #3:** Turn your if-else chain from Exercise 5-4 into an if-elif-else chain.\n",
    "- If the alien is green, print that they player earned 5 points\n",
    "- If the alien is yellow, print a message that the player earned 10 points\n",
    "- If the alien is red, print a message that the player earned 15 points\n",
    "- Write three versions of this program making sure each message is printed for the appropriate color alien."
   ]
  },
  {
   "cell_type": "code",
   "execution_count": 14,
   "id": "ce910561",
   "metadata": {
    "hidden": true
   },
   "outputs": [
    {
     "name": "stdout",
     "output_type": "stream",
     "text": [
      "15 points\n"
     ]
    }
   ],
   "source": [
    "# 5-5\n",
    "alien_color = 'red'\n",
    "\n",
    "if alien_color == 'green':\n",
    "    print('5 points')\n",
    "elif alien_color == 'yellow':\n",
    "    print('10 points')\n",
    "elif alien_color == 'red':\n",
    "    print('15 points')"
   ]
  },
  {
   "cell_type": "markdown",
   "id": "e6c10b90",
   "metadata": {
    "hidden": true
   },
   "source": [
    "**5-6 Stages of Life:** Write and if-elif-else chain that determines a person's stage of life. Set a value for the variable age, and then:\n",
    "- If the person is less than 2 years old, print a message that the person is a baby\n",
    "- If the person is at least 2 years old but less than 4, print that the person is a toddler\n",
    "- If the person is at least 4 years old but less than 13, print that the person is a kid\n",
    "- If the person is at least 13 years old but less than 20, print the person is a teenager\n",
    "- If the person is at least 20 years old but less then 65, print the person is an adult\n",
    "- If the person is age 65 or older, print a message that the person is an elder"
   ]
  },
  {
   "cell_type": "code",
   "execution_count": 15,
   "id": "0777c3aa",
   "metadata": {
    "hidden": true
   },
   "outputs": [
    {
     "name": "stdout",
     "output_type": "stream",
     "text": [
      "teenager\n"
     ]
    }
   ],
   "source": [
    "# 5-6\n",
    "age = 14\n",
    "if age < 2:\n",
    "    stage = 'baby'\n",
    "elif age < 4:\n",
    "    stage = 'toddler'\n",
    "elif age < 13:\n",
    "    stage = 'kid'\n",
    "elif age < 20:\n",
    "    stage = 'teenager'\n",
    "elif age < 65:\n",
    "    stage = 'adult'\n",
    "else:\n",
    "    stage = 'elder'\n",
    "    \n",
    "print(stage)"
   ]
  },
  {
   "cell_type": "markdown",
   "id": "ffd6b7b7",
   "metadata": {
    "hidden": true
   },
   "source": [
    "**5-7 Favorite Fruit:** Make a list of your favorite fruits, and then write a series of independent if statements that check for certain fruits in your list\n",
    "- Make a list of your three favorite fruits and call it favorite_fruits\n",
    "- Write five if statements. Each should check whether a certain kind of fruit is in your list. If the fruit is in your list, the if block should print a statement, such as `You really like bananas`"
   ]
  },
  {
   "cell_type": "code",
   "execution_count": 16,
   "id": "5eadd4e8",
   "metadata": {
    "hidden": true
   },
   "outputs": [
    {
     "name": "stdout",
     "output_type": "stream",
     "text": [
      "Yeah I don't like watermelon either.\n"
     ]
    }
   ],
   "source": [
    "favorite_fruits = ['apples', 'strawberries', 'bananas', 'oranges', 'blueberries']\n",
    "fruit = 'watermelon'\n",
    "if fruit in favorite_fruits:\n",
    "    print(f\"Man you really like {fruit}.\")\n",
    "else:\n",
    "    print(f\"Yeah I don't like {fruit} either.\")"
   ]
  },
  {
   "cell_type": "markdown",
   "id": "498a1a1a",
   "metadata": {
    "hidden": true
   },
   "source": [
    "**5-8 Hello Admin:** Make a list of five or more usernames, including the name `admin`. Imagine you are writing a code that will print a greeting to each user after they log in to a website. Loop through the list, and print a greeting to each user.\n",
    "- If the username is `admin`, print a special greeting such as `Hello admin, would you like to see a status report?`\n",
    "- Otherwise, print a generic greeting, such as `Hello Jaden, thank you for logging in again`.\n",
    "\n",
    "**5-9 No Users:** Add an if test to hello_admin to make sure the list of users is not empty.\n",
    "- If the list is empty print the message `We need some users!`\n",
    "- Remove all of the users from usernames to make sure the correct message is printed"
   ]
  },
  {
   "cell_type": "code",
   "execution_count": 17,
   "id": "7196a5af",
   "metadata": {
    "hidden": true
   },
   "outputs": [
    {
     "name": "stdout",
     "output_type": "stream",
     "text": [
      "Hello ceejamoe, thank you for logging in again\n",
      "\n",
      "Hello bigmac, thank you for logging in again\n",
      "\n",
      "Hello bigbird, thank you for logging in again\n",
      "\n",
      "Hello admin, would you like to see a status report?\n",
      "\n",
      "Hello kid_goggles, thank you for logging in again\n",
      "\n",
      "Hello cmcgamez, thank you for logging in again\n",
      "\n"
     ]
    }
   ],
   "source": [
    "usernames = ['ceejamoe', 'bigmac', 'bigbird', 'admin', 'kid_goggles', 'cmcgamez']\n",
    "\n",
    "# if usernames has any values this will return True then run the next line\n",
    "# if False it cuts to the next block of code\n",
    "if usernames:\n",
    "    for user in usernames:\n",
    "        if user == 'admin':\n",
    "            print(f\"Hello {user}, would you like to see a status report?\\n\")\n",
    "        else:\n",
    "            print(f\"Hello {user}, thank you for logging in again\\n\")\n",
    "else:\n",
    "    print('We need to find some users!')"
   ]
  },
  {
   "cell_type": "code",
   "execution_count": 18,
   "id": "1d74b777",
   "metadata": {
    "hidden": true
   },
   "outputs": [
    {
     "name": "stdout",
     "output_type": "stream",
     "text": [
      "We need to find some users!\n"
     ]
    }
   ],
   "source": [
    "usernames = []\n",
    "\n",
    "# if usernames has any values this will return True then run the next line\n",
    "# if False it cuts to the next block of code\n",
    "if usernames:\n",
    "    for user in usernames:\n",
    "        if user == 'admin':\n",
    "            print(f\"Hello {user}, would you like to see a status report?\\n\")\n",
    "        else:\n",
    "            print(f\"Hello {user}, thank you for logging in again\\n\")\n",
    "else:\n",
    "    print('We need to find some users!')"
   ]
  },
  {
   "cell_type": "markdown",
   "id": "ec8b26ef",
   "metadata": {
    "hidden": true
   },
   "source": [
    "**5-10 Checking Usernames:** Do the following to create a program that simulates how websites ensure that everyone has a unique username\n",
    "- Make a list of five or more usernames called `current_users`\n",
    "- Make another list of five usernames called `new_users`. Make sure one or two of the new usernames are also in `current_users`\n",
    "- Loop through the `new_users` list to see if each new username has already been used. If it has, print a message that the person will need to enter a new username. If a username has not been used, print a message saying that the username is available\n",
    "- Make sure your comparison is case sensitive."
   ]
  },
  {
   "cell_type": "code",
   "execution_count": 19,
   "id": "5d26a4ce",
   "metadata": {
    "hidden": true
   },
   "outputs": [
    {
     "name": "stdout",
     "output_type": "stream",
     "text": [
      "Sorry mate CeejamoE is already taken, try another name\n",
      "Nice name john is unique!!\n",
      "Sorry mate SoMber is already taken, try another name\n",
      "Nice name Kevin is unique!!\n",
      "Nice name Max is unique!!\n"
     ]
    }
   ],
   "source": [
    "current_users = ['CeejAmoe', 'bigmac', 'bigbird', 'Somber', 'kid_goggles', 'cmcgamez', 'steelfan']\n",
    "new_users = ['CeejamoE', 'john', 'SoMber', 'Kevin', 'Max']\n",
    "\n",
    "# making each user in current_user lowercase\n",
    "current_users = [user.lower() for user in current_users]\n",
    "\n",
    "# looping through each user in new_users to see if it is in current_users\n",
    "for user in new_users:\n",
    "    if user.lower() in current_users:\n",
    "        print(f\"Sorry mate {user} is already taken, try another name\")\n",
    "    else:\n",
    "        print(f\"Nice name {user} is unique!!\")"
   ]
  },
  {
   "cell_type": "markdown",
   "id": "b233aa69",
   "metadata": {
    "hidden": true
   },
   "source": [
    "**5-11 Ordinal Numbers:** Ordinal numbers indicate their position in a list, such as 1st or 2nd. Most ordinal numbers end in `th` except 1, 2, and 3. \n",
    "- Store the numbers 1 through 9 in a list\n",
    "- Loop through the list\n",
    "- Use an if-elif-else chain inside the loop to print the proper ordinal ending for each number. `1st 2nd 3rd 4th 5th 6th 7th 8th 9th` and each result should be on a separate line"
   ]
  },
  {
   "cell_type": "code",
   "execution_count": 20,
   "id": "fba97dfd",
   "metadata": {
    "hidden": true
   },
   "outputs": [
    {
     "name": "stdout",
     "output_type": "stream",
     "text": [
      "1st\n",
      "2nd\n",
      "3rd\n",
      "4th\n",
      "5th\n",
      "6th\n",
      "7th\n",
      "8th\n",
      "9th\n"
     ]
    }
   ],
   "source": [
    "numbers = [1, 2, 3, 4, 5, 6, 7, 8, 9]\n",
    "\n",
    "for number in numbers:\n",
    "    if number == 1:\n",
    "        ordinal = 'st'\n",
    "    elif number == 2:\n",
    "        ordinal = 'nd'\n",
    "    elif number == 3:\n",
    "        ordinal = 'rd'\n",
    "    else:\n",
    "        ordinal = 'th'\n",
    "    print(f\"{number}{ordinal}\")"
   ]
  },
  {
   "cell_type": "markdown",
   "id": "a348cbf1",
   "metadata": {},
   "source": [
    "# Chapter 6: Dictionaries"
   ]
  },
  {
   "cell_type": "markdown",
   "id": "927967ae",
   "metadata": {},
   "source": [
    "**6-1 Person:** Use a dictionary to store information about a person you know. Store their first name, last name, age, and the city in which they live. You should have keys such as `first_name`, `last_name`, `age`, and `city`. Print each piece of information stored in your dictionary"
   ]
  },
  {
   "cell_type": "code",
   "execution_count": 21,
   "id": "d5e13b4a",
   "metadata": {},
   "outputs": [
    {
     "name": "stdout",
     "output_type": "stream",
     "text": [
      "First_Name : Chris\n",
      "Last_Name : Johnson\n",
      "Age : 59\n",
      "City : King of Prussia\n"
     ]
    }
   ],
   "source": [
    "person = {'first_name': 'Chris', 'last_name': 'Johnson', 'age': 59, 'city': 'King of Prussia'}\n",
    "\n",
    "for key, value in person.items():\n",
    "    print(key.title(), \":\", value)"
   ]
  },
  {
   "cell_type": "markdown",
   "id": "7ef57857",
   "metadata": {},
   "source": [
    "**6-2 Favorite Numbers:** Use a dictionary to store people's favorite numbers. Think of five names, and use them as keys in your dictionary. Think of a favorite number for each person, and store each as a value in your dictionary. Print each person's name and their favorite number. For even more fun, poll a few friends and get some actual data for your program."
   ]
  },
  {
   "cell_type": "code",
   "execution_count": 22,
   "id": "7770086b",
   "metadata": {},
   "outputs": [
    {
     "name": "stdout",
     "output_type": "stream",
     "text": [
      "Kevin 5\n",
      "Mark 82\n",
      "Sarah 13\n",
      "Nick 24\n",
      "Aidan 34\n"
     ]
    }
   ],
   "source": [
    "fav_number = {'kevin': 5, 'mark': 82, 'sarah': 13, 'nick':24, 'aidan': 34}\n",
    "for key,value in fav_number.items():\n",
    "    print(key.title(), value)"
   ]
  },
  {
   "cell_type": "markdown",
   "id": "72153f0c",
   "metadata": {},
   "source": [
    "**6-3 Glossary:** A Python dictionary can be used to model an actual dictionary. However to avoid confusion, let's call it a glossary\n",
    "- Think of five programming words you've learned about in the previous chapters. Use these words as the keys in your glossary, and store the meanings as the values.\n",
    "- Print each word and its meaning as neatly formatted output. You might print the word followed by a colon and then its meaning, or print the word on one line and then print its meaning indented on a second line. Use the newline character (\\n) to insert a blank line between each word-meaning pair in your output."
   ]
  },
  {
   "cell_type": "code",
   "execution_count": 23,
   "id": "30567d9e",
   "metadata": {},
   "outputs": [
    {
     "name": "stdout",
     "output_type": "stream",
     "text": [
      "For Loop is a replay button in programming\n",
      "If Statement is a decision maker in programming\n",
      "Dictionary is a set of key-value pairs\n",
      "List is a collection of items stored in a specific order\n",
      "Print Command is a command that tells the computer to display something\n",
      "Get() Command is a retrieve a key in a dictionary, if nothing returns None or desired message\n"
     ]
    }
   ],
   "source": [
    "glossary = {\n",
    "    'for loop' : 'replay button in programming',\n",
    "    'if statement' : 'decision maker in programming',\n",
    "    'dictionary' : 'set of key-value pairs',\n",
    "    'list' : 'collection of items stored in a specific order',\n",
    "    'print command' : 'command that tells the computer to display something',\n",
    "    'get() command' : 'retrieve a key in a dictionary, if nothing returns None or desired message',\n",
    "}\n",
    "\n",
    "for key, value in glossary.items():\n",
    "    print(f\"{key.title()} is a {value}\")"
   ]
  },
  {
   "cell_type": "markdown",
   "id": "72bdfe17",
   "metadata": {},
   "source": [
    "**6-5 Rivers:** Make a dictionary containing three major rivers and the country each river runs through. One key-value pair might be `nile` : `egypt`\n",
    "- Use a loop to print a sentence about each river, such as `The Nile runs through Egypt`\n",
    "- Use a loop to print the name of each river included in the dictionary\n",
    "- Use a loop to print the name of each country included in the dictionary"
   ]
  },
  {
   "cell_type": "code",
   "execution_count": 24,
   "id": "b88a280b",
   "metadata": {},
   "outputs": [
    {
     "name": "stdout",
     "output_type": "stream",
     "text": [
      "Bullet 1:\n",
      "The Nile runs through Egypt.\n",
      "The Amazon runs through Brazil.\n",
      "The Yangtze runs through China.\n",
      "\n",
      "Bullet 2:\n",
      "Nile\n",
      "Amazon\n",
      "Yangtze\n",
      "\n",
      "Bullet 3:\n",
      "Egypt\n",
      "Brazil\n",
      "China\n"
     ]
    }
   ],
   "source": [
    "rivers = {\n",
    "    'Nile': 'Egypt',\n",
    "    'Amazon': 'Brazil',\n",
    "    'Yangtze': 'China',\n",
    "}\n",
    "\n",
    "print(\"Bullet 1:\")\n",
    "for river, country in rivers.items():\n",
    "    print(f\"The {river.title()} runs through {country.title()}.\")\n",
    "    \n",
    "print(\"\\nBullet 2:\")\n",
    "for river in rivers:\n",
    "    print(f\"{river}\")\n",
    "    \n",
    "print(\"\\nBullet 3:\")\n",
    "for country in rivers.values():\n",
    "    print(f\"{country}\")"
   ]
  },
  {
   "cell_type": "markdown",
   "id": "a2820f54",
   "metadata": {},
   "source": [
    "**6-6 Polling:** Use the code from `favorite_languages`\n",
    "- Make a list of people who should take the favorite languages poll. Include some names that are already in the dictionary and some that are not.\n",
    "- Loop through the list of people who should take the poll. If they have already taken the poll, print a message thanking them for responding. If they have not yet taken the poll, print a message inviting them to take the poll."
   ]
  },
  {
   "cell_type": "code",
   "execution_count": 25,
   "id": "0ed924bf",
   "metadata": {},
   "outputs": [
    {
     "name": "stdout",
     "output_type": "stream",
     "text": [
      "Thank you Jen for taking our poll.\n",
      "\n",
      "Hey Cj, would you be kind enough to take our poll?\n",
      "\n",
      "Hey Max, would you be kind enough to take our poll?\n",
      "\n",
      "Thank you Phil for taking our poll.\n",
      "\n",
      "Hey Carl, would you be kind enough to take our poll?\n",
      "\n"
     ]
    }
   ],
   "source": [
    "favorite_languages = {\n",
    "    'jen' : 'python',\n",
    "    'sarah' : 'c',\n",
    "    'edward' : 'rust',\n",
    "    'phil' : 'python',\n",
    "    'kevin' : 'c',\n",
    "}\n",
    "\n",
    "take_poll = ['jen', 'cj', 'max', 'phil', 'carl']\n",
    "\n",
    "for name in take_poll:\n",
    "    if name in favorite_languages:\n",
    "        print(f\"Thank you {name.title()} for taking our poll.\\n\")\n",
    "    else:\n",
    "        print(f\"Hey {name.title()}, would you be kind enough to take our poll?\\n\")"
   ]
  },
  {
   "cell_type": "markdown",
   "id": "622bdd91",
   "metadata": {},
   "source": [
    "**6-7 People:** Start with the program you wrote for Exercise 6-1. Make two new dictionaries representing different people, and store all three dictionaries in a list called `people`. Loop through your list of people. As you loop through the list, print everything you know about each person"
   ]
  },
  {
   "cell_type": "code",
   "execution_count": 26,
   "id": "45671eaa",
   "metadata": {},
   "outputs": [
    {
     "name": "stdout",
     "output_type": "stream",
     "text": [
      "Chris Johnson is 59 years old and is from King Of Prussia.\n",
      "Nick Smith is 23 years old and is from San Francisco.\n",
      "Greg Williams is 35 years old and is from New York.\n"
     ]
    }
   ],
   "source": [
    "person_1 = {\n",
    "    'first_name' : 'Chris', \n",
    "     'last_name' : 'Johnson', \n",
    "     'age' : 59, \n",
    "     'city' : 'King of Prussia',\n",
    "}\n",
    "    \n",
    "person_2 = {\n",
    "    'first_name' : 'Nick',\n",
    "    'last_name': 'Smith',\n",
    "    'age' : 23,\n",
    "    'city' : 'San Francisco',\n",
    "}\n",
    "person_3 = {\n",
    "    'first_name' : 'greg',\n",
    "    'last_name' : 'Williams',\n",
    "    'age' : 35,\n",
    "    'city' : 'New York',\n",
    "}\n",
    "\n",
    "people = [person_1, person_2, person_3]\n",
    "\n",
    "for person in people:\n",
    "    full_name = f\"{person['first_name']} {person['last_name']}\"\n",
    "    print(f\"{full_name.title()} is {person['age']} years old and is from {person['city'].title()}.\")"
   ]
  },
  {
   "cell_type": "markdown",
   "id": "7b7984f6",
   "metadata": {},
   "source": [
    "**6-8 Pets:** Make several dictionaries, where each dictionary represents a different pet. In each dictionary, include the kind of animal and the owner's name. Store these dictionaries in a list called `pets`. Next, loop through your list and as you do, print everything you know about each pet"
   ]
  },
  {
   "cell_type": "code",
   "execution_count": 27,
   "id": "791089ed",
   "metadata": {},
   "outputs": [
    {
     "name": "stdout",
     "output_type": "stream",
     "text": [
      "Alice owns a dog.\n",
      "Bob owns a cat.\n",
      "Charlie owns a bird.\n",
      "David owns a rabbit.\n",
      "Emily owns a fish.\n"
     ]
    }
   ],
   "source": [
    "# Creating dictionaries representing different pets\n",
    "pet1 = {'kind': 'dog', 'owner': 'Alice'}\n",
    "pet2 = {'kind': 'cat', 'owner': 'Bob'}\n",
    "pet3 = {'kind': 'bird', 'owner': 'Charlie'}\n",
    "pet4 = {'kind': 'rabbit', 'owner': 'David'}\n",
    "pet5 = {'kind': 'fish', 'owner': 'Emily'}\n",
    "\n",
    "# Storing the dictionaries in a list called pets\n",
    "pets = [pet1, pet2, pet3, pet4, pet5]\n",
    "\n",
    "for pet in pets:\n",
    "    owner = pet['owner']\n",
    "    kind = pet['kind']\n",
    "    print(f\"{owner.title()} owns a {kind}.\")"
   ]
  },
  {
   "cell_type": "markdown",
   "id": "d85e6097",
   "metadata": {},
   "source": [
    "**6-9 Favorite Places:** Make a dictionary called `favorite_places`. Think of three names to use as keys in the dictionary, and store one to three favorite places for each person. To make this exercise a bit more interesting, ask some of your friends to name a few of their favorite places. Loop through the dictionary, and print each person's name and their favorite places."
   ]
  },
  {
   "cell_type": "code",
   "execution_count": 28,
   "id": "8f488389",
   "metadata": {},
   "outputs": [
    {
     "name": "stdout",
     "output_type": "stream",
     "text": [
      "\n",
      "Kevin's favorite places are:\n",
      "\tHawaii\n",
      "\tVirgin Islands\n",
      "\n",
      "Marvin's favorite places are:\n",
      "\tCalifornia\n",
      "\tParis\n",
      "\tCuba\n",
      "\n",
      "Casey's favorite place is:\n",
      "\tAustralia\n"
     ]
    }
   ],
   "source": [
    "favorite_places = {\n",
    "    'kevin' : ['Hawaii', 'Virgin Islands'],\n",
    "    'marvin' : ['California', 'Paris', 'Cuba'],\n",
    "    'casey' : ['Australia']\n",
    "}\n",
    "\n",
    "for person, places in favorite_places.items():\n",
    "    if len(places) > 1:\n",
    "        print(f\"\\n{person.title()}'s favorite places are:\")\n",
    "    else:\n",
    "        print(f\"\\n{person.title()}'s favorite place is:\")\n",
    "    for place in places:\n",
    "        print(f\"\\t{place.title()}\")"
   ]
  },
  {
   "cell_type": "markdown",
   "id": "1f411a8a",
   "metadata": {},
   "source": [
    "**6-10 Favorite Numbers:** Modify your program from exercise 6-2 so each person can have more than one favorite number. Then print out each person's name along with their favorite numbers."
   ]
  },
  {
   "cell_type": "code",
   "execution_count": 29,
   "id": "4a4eba62",
   "metadata": {},
   "outputs": [
    {
     "name": "stdout",
     "output_type": "stream",
     "text": [
      "\n",
      "Kevin's favorite numbers are:\n",
      "5\n",
      "12\n",
      "23\n",
      "\n",
      "Marvin's favorite numbers are:\n",
      "82\n",
      "39\n",
      "\n",
      "Sarah's favorite number is:\n",
      "13\n",
      "\n",
      "Nick's favorite numbers are:\n",
      "24\n",
      "8\n",
      "23\n",
      "\n",
      "Aidan's favorite number is:\n",
      "69\n"
     ]
    }
   ],
   "source": [
    "favorite_numbers = {\n",
    "    'kevin': [5, 12, 23], 'marvin': [82, 39], 'sarah': [13],\n",
    "    'nick': [24, 8, 23] , 'aidan': [69],\n",
    "}\n",
    "\n",
    "for name, numbers in favorite_numbers.items():\n",
    "    if len(numbers) > 1:\n",
    "        print(f\"\\n{name.title()}'s favorite numbers are:\")\n",
    "    else:\n",
    "        print(f\"\\n{name.title()}'s favorite number is:\")\n",
    "    for number in numbers:\n",
    "        print(number)"
   ]
  },
  {
   "cell_type": "markdown",
   "id": "3799c097",
   "metadata": {},
   "source": [
    "**6-11 Cities:** Make a dictionary called `cities`. Use the names of three cities as keys in your dictionary. Create a dictionary of information about each city and include that the country is in, population, and one fun fact about that city. The keys for each city's dictionary should be something like `country`, `population`, and `fact`. Print the name of each city and all of the information you have stored about it"
   ]
  },
  {
   "cell_type": "code",
   "execution_count": 30,
   "id": "f639b79a",
   "metadata": {},
   "outputs": [
    {
     "name": "stdout",
     "output_type": "stream",
     "text": [
      "Country: Japan \n",
      "City: Tokyo\n",
      "Population: 13929286 \n",
      "Fun fact: Tokyo is the most populous metropolitan area in the world.\n",
      "\n",
      "Country: United Kingdom \n",
      "City: London\n",
      "Population: 9304016 \n",
      "Fun fact: London is home to Big Ben, the iconic clock tower.\n",
      "\n",
      "Country: United States \n",
      "City: New York City\n",
      "Population: 8398748 \n",
      "Fun fact: New York City is known as \"The Big Apple\".\n",
      "\n"
     ]
    }
   ],
   "source": [
    "cities = {\n",
    "    'tokyo': {\n",
    "        'country': 'Japan',\n",
    "        'population': 13929286,\n",
    "        'fun_fact': 'Tokyo is the most populous metropolitan area in the world.'\n",
    "    },\n",
    "    'London': {\n",
    "        'country': 'United Kingdom',\n",
    "        'population': 9304016,\n",
    "        'fun_fact': 'London is home to Big Ben, the iconic clock tower.'\n",
    "    },\n",
    "    'New York City': {\n",
    "        'country': 'United States',\n",
    "        'population': 8398748,\n",
    "        'fun_fact': 'New York City is known as \"The Big Apple\".'\n",
    "    }\n",
    "}\n",
    "\n",
    "for city, info in cities.items():\n",
    "    country = info['country']\n",
    "    population = info['population']\n",
    "    fact = info['fun_fact']\n",
    "    \n",
    "    print(f\"Country: {country.title()} \\nCity: {city.title()}\\n\"\n",
    "          f\"Population: {population} \\nFun fact: {fact}\\n\")"
   ]
  }
 ],
 "metadata": {
  "kernelspec": {
   "display_name": "Python (dojo-env)",
   "language": "python",
   "name": "dojo-env"
  },
  "language_info": {
   "codemirror_mode": {
    "name": "ipython",
    "version": 3
   },
   "file_extension": ".py",
   "mimetype": "text/x-python",
   "name": "python",
   "nbconvert_exporter": "python",
   "pygments_lexer": "ipython3",
   "version": "3.9.15"
  },
  "toc": {
   "base_numbering": 1,
   "nav_menu": {},
   "number_sections": false,
   "sideBar": true,
   "skip_h1_title": false,
   "title_cell": "Table of Contents",
   "title_sidebar": "Contents",
   "toc_cell": false,
   "toc_position": {},
   "toc_section_display": true,
   "toc_window_display": false
  }
 },
 "nbformat": 4,
 "nbformat_minor": 5
}
