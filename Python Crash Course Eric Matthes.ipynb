{
 "cells": [
  {
   "cell_type": "markdown",
   "id": "092edce0",
   "metadata": {
    "heading_collapsed": true
   },
   "source": [
    "# Chapter 4:Working with Lists"
   ]
  },
  {
   "cell_type": "markdown",
   "id": "ef682a4d",
   "metadata": {
    "hidden": true
   },
   "source": [
    "Try it yourself\n",
    "\n",
    "**4-1 Pizzas:** Think of at least three kinds of your favorite pizza. Store these pizza names in a list, and then use a for loop to print the name of each pizza.\n",
    "\n",
    "- Modify your for loop to print a sentence using the name of the pizza, instead of printing just the name of the pizza. For each pizza you should have one line of output containing a simple statement like I like pepperoni pizza.\n",
    "- Add a line at the end of your program, outside the for loop, that states how much you like pizza. The output should consist of three or more lines about the kinds of pizza you like and then an additioanl sentence, such as I really love pizza\n",
    "\n",
    "    "
   ]
  },
  {
   "cell_type": "code",
   "execution_count": 1,
   "id": "929da08d",
   "metadata": {
    "hidden": true
   },
   "outputs": [
    {
     "name": "stdout",
     "output_type": "stream",
     "text": [
      "I like pepperoni pizza.\n",
      "I like cheese pizza.\n",
      "I like chicken pizza.\n",
      "\n",
      "Man I really like pizza.\n",
      "\n"
     ]
    }
   ],
   "source": [
    "# 4-1\n",
    "pizzas = ['pepperoni', 'cheese', 'chicken']\n",
    "for pizza in pizzas:\n",
    "    print(f\"I like {pizza} pizza.\")\n",
    "    \n",
    "print(\"\\nMan I really like pizza.\\n\")"
   ]
  },
  {
   "cell_type": "markdown",
   "id": "0b939432",
   "metadata": {
    "hidden": true
   },
   "source": [
    "**4-2 Animals:** Think of at least three different animals that have a common characteristic. Store the names of these animals in a list, and then use a for loop to print out the name of each animal.\n",
    "- Modify your program to print a statement about each animal, such as A dog would make a great pet\n",
    "- Add a line at the end of your program, stating what these animals have in common. You could print a sentence, such as Any of these animals would make a great pet!"
   ]
  },
  {
   "cell_type": "code",
   "execution_count": 2,
   "id": "e175a79b",
   "metadata": {
    "hidden": true
   },
   "outputs": [
    {
     "name": "stdout",
     "output_type": "stream",
     "text": [
      "A dog would make a great pet!\n",
      "A cat would make a great pet!\n",
      "A pig would make a great pet!\n",
      "\n",
      "Honestly any of these animals would make a great pet!\n"
     ]
    }
   ],
   "source": [
    "# 4-2\n",
    "animals = ['dog', 'cat', 'pig']\n",
    "for animal in animals:\n",
    "    print(f\"A {animal} would make a great pet!\")\n",
    "    \n",
    "print(\"\\nHonestly any of these animals would make a great pet!\")"
   ]
  },
  {
   "cell_type": "markdown",
   "id": "12bed420",
   "metadata": {
    "hidden": true
   },
   "source": [
    "**4-3 Counting to twenty:** Use a for loop to print the numbers from 1 to 20, inclusive"
   ]
  },
  {
   "cell_type": "code",
   "execution_count": 3,
   "id": "c05e3c4b",
   "metadata": {
    "hidden": true
   },
   "outputs": [
    {
     "name": "stdout",
     "output_type": "stream",
     "text": [
      "[1, 2, 3, 4, 5, 6, 7, 8, 9, 10, 11, 12, 13, 14, 15, 16, 17, 18, 19, 20]\n"
     ]
    }
   ],
   "source": [
    "# 4-3 \n",
    "numbers = [number for number in range(1,21)]\n",
    "print(numbers)"
   ]
  },
  {
   "cell_type": "markdown",
   "id": "260801d0",
   "metadata": {
    "hidden": true
   },
   "source": [
    "**4-4 One Million:** Make a list of the numbers from one to one million, and then use a for loop to print the numbers"
   ]
  },
  {
   "cell_type": "code",
   "execution_count": 4,
   "id": "4ff907ed",
   "metadata": {
    "hidden": true
   },
   "outputs": [
    {
     "name": "stdout",
     "output_type": "stream",
     "text": [
      "[1, 2, 3, 4, 5, 6, 7, 8, 9, 10, 11, 12, 13, 14, 15, 16, 17, 18, 19, 20, 21, 22, 23, 24, 25, 26, 27, 28, 29, 30, 31, 32, 33, 34, 35, 36, 37, 38, 39, 40, 41, 42, 43, 44, 45, 46, 47, 48, 49, 50, 51, 52, 53, 54, 55, 56, 57, 58, 59, 60, 61, 62, 63, 64, 65, 66, 67, 68, 69, 70, 71, 72, 73, 74, 75, 76, 77, 78, 79, 80, 81, 82, 83, 84, 85, 86, 87, 88, 89, 90, 91, 92, 93, 94, 95, 96, 97, 98, 99, 100]\n"
     ]
    }
   ],
   "source": [
    "# 4-4\n",
    "numbers = [number for number in range(1,101)]\n",
    "print(numbers)"
   ]
  },
  {
   "cell_type": "markdown",
   "id": "036886e6",
   "metadata": {
    "hidden": true
   },
   "source": [
    "**4-5 Summing a Million:** Make a list of the numbers from one to one million, then use min() and max() to make sure your list actually starts at one and ends at one million. Also, use the sum() function to see how quickly Python can add a million numbers"
   ]
  },
  {
   "cell_type": "code",
   "execution_count": 5,
   "id": "6e08f7f5",
   "metadata": {
    "hidden": true
   },
   "outputs": [
    {
     "name": "stdout",
     "output_type": "stream",
     "text": [
      "1000000\n",
      "1\n",
      "500000500000\n"
     ]
    }
   ],
   "source": [
    "# 4-5\n",
    "numbers = [number for number in range(1, 1_000_001)]\n",
    "print(max(numbers))\n",
    "print(min(numbers))\n",
    "print(sum(numbers))"
   ]
  },
  {
   "cell_type": "markdown",
   "id": "8362d3a1",
   "metadata": {
    "hidden": true
   },
   "source": [
    "**4-6 Odd Numbers:** Use the third argument of the range() function to make a list of the odd numbers from 1 to 20. Use a for loop to print out each number"
   ]
  },
  {
   "cell_type": "code",
   "execution_count": 6,
   "id": "08bac1be",
   "metadata": {
    "hidden": true
   },
   "outputs": [
    {
     "name": "stdout",
     "output_type": "stream",
     "text": [
      "[1, 3, 5, 7, 9, 11, 13, 15, 17, 19]\n"
     ]
    }
   ],
   "source": [
    "# 4-6\n",
    "odd_numbers = [number for number in range(1, 21, 2)]\n",
    "print(odd_numbers)"
   ]
  },
  {
   "cell_type": "markdown",
   "id": "dd47e046",
   "metadata": {
    "hidden": true
   },
   "source": [
    "**4-7:** Make a list of the multiples of 3 from 3 to 30. Use a for loop to print the numbers in your list"
   ]
  },
  {
   "cell_type": "code",
   "execution_count": 7,
   "id": "e4c9ee4f",
   "metadata": {
    "hidden": true
   },
   "outputs": [
    {
     "name": "stdout",
     "output_type": "stream",
     "text": [
      "[3, 6, 9, 12, 15, 18, 21, 24, 27, 30]\n"
     ]
    }
   ],
   "source": [
    "# 4-7\n",
    "mul_of_3 = [number for number in range(3, 31, 3)]\n",
    "print(mul_of_3)"
   ]
  },
  {
   "cell_type": "markdown",
   "id": "94e1080b",
   "metadata": {
    "hidden": true
   },
   "source": [
    "**4-8:** A number raised to the third power is called a cube. For example the cube of 2 is written as 2**3 in Python. Make a list of the first 10 cubes (that is, the cube of each integer from 1 through 10), and use a for loop to print out the value in each cube."
   ]
  },
  {
   "cell_type": "code",
   "execution_count": 8,
   "id": "d371070b",
   "metadata": {
    "hidden": true
   },
   "outputs": [
    {
     "name": "stdout",
     "output_type": "stream",
     "text": [
      "[1, 8, 27, 64, 125, 216, 343, 512, 729, 1000]\n"
     ]
    }
   ],
   "source": [
    "# 4-8\n",
    "cubed = [number**3 for number in range(1, 11)]\n",
    "print(cubed)"
   ]
  },
  {
   "cell_type": "markdown",
   "id": "a74663cf",
   "metadata": {
    "hidden": true
   },
   "source": [
    "**4-9 Cube Comprehension:** Use a list comprehension to generate a list of the first 10 cubes"
   ]
  },
  {
   "cell_type": "code",
   "execution_count": 9,
   "id": "685c7239",
   "metadata": {
    "hidden": true
   },
   "outputs": [
    {
     "name": "stdout",
     "output_type": "stream",
     "text": [
      "[1, 64, 343, 1000, 2197, 4096, 6859]\n"
     ]
    }
   ],
   "source": [
    "# 4-9\n",
    "cubed2 = [number**3 for number in range(1, 20, 3)]\n",
    "print(cubed2)"
   ]
  },
  {
   "cell_type": "markdown",
   "id": "50308bec",
   "metadata": {
    "hidden": true
   },
   "source": [
    "**4-10 Slices:** Using one of the programs you wrote in this chapter, add several lines to the end of the program to do the following:\n",
    "- Print the message `The first three items in the list are:` Then use a slice to print the first three items from that programs list\n",
    "- Print the message `The items from the middle of the list are:` then use a slice to print three items from the middle of the list\n",
    "- Print the message `The last three items in the list are:` Then use a slice to print the last three items in the list"
   ]
  },
  {
   "cell_type": "code",
   "execution_count": 10,
   "id": "055ee831",
   "metadata": {
    "hidden": true
   },
   "outputs": [
    {
     "name": "stdout",
     "output_type": "stream",
     "text": [
      "The first 3 items in the list are: [1, 3, 5]\n",
      "The items from the middle of the list are:[7, 9, 11]\n",
      "The last 3 items from the list are: [15, 17, 19]\n"
     ]
    }
   ],
   "source": [
    "# 4-10 \n",
    "print(f\"The first 3 items in the list are: {odd_numbers[:3]}\")\n",
    "print(f\"The items from the middle of the list are:{odd_numbers[3:6]}\")\n",
    "print(f\"The last 3 items from the list are: {odd_numbers[-3:]}\")"
   ]
  },
  {
   "cell_type": "markdown",
   "id": "f8ad036d",
   "metadata": {
    "hidden": true
   },
   "source": [
    "**4-11 My Pizzas, Your Pizzas:** Start with your program from exercise 4-1. Make a copy of the list of pizzas, and call it friend_pizzas. Then, do the following:\n",
    "- Add a new pizza to the original list\n",
    "- Add a different pizza to the list friend_pizza\n",
    "- Prove that you have two separate lists. Print the message `My favorite pizzas are:` and then use a for loop to print the first list. Then do the same with your friends pizza list. Make sure each new pizza is stored in the appropriate list"
   ]
  },
  {
   "cell_type": "code",
   "execution_count": 11,
   "id": "6700874c",
   "metadata": {
    "hidden": true
   },
   "outputs": [
    {
     "name": "stdout",
     "output_type": "stream",
     "text": [
      "My favorite Pizzas are:\n",
      "pepperoni\n",
      "cheese\n",
      "chicken\n",
      "mushroom\n",
      "\n",
      "My friends favorite pizzas are:\n",
      "pepperoni\n",
      "cheese\n",
      "chicken\n",
      "beef\n"
     ]
    }
   ],
   "source": [
    "# 4-11\n",
    "# Copy list\n",
    "pizzas = pizzas[:]\n",
    "\n",
    "# Make friends list\n",
    "friends_pizza = pizzas[:]\n",
    "\n",
    "# Add new pizza to original list\n",
    "pizzas.append('mushroom')\n",
    "\n",
    "# Add new pizza to friends list\n",
    "friends_pizza.append('beef')\n",
    "\n",
    "# Stating my favorite pizzas\n",
    "print(f\"My favorite Pizzas are:\")\n",
    "for pizza in pizzas:\n",
    "    print(pizza)\n",
    "    \n",
    "# Stating my friends favorite pizzas\n",
    "print(\"\\nMy friends favorite pizzas are:\")\n",
    "for pizza in friends_pizza:\n",
    "    print(pizza)"
   ]
  },
  {
   "cell_type": "markdown",
   "id": "765d6744",
   "metadata": {
    "heading_collapsed": true
   },
   "source": [
    "# Chapter 5: if Statements"
   ]
  },
  {
   "cell_type": "markdown",
   "id": "f13b6888",
   "metadata": {
    "hidden": true
   },
   "source": [
    "**5-3 Alien Colors #1:** Imagine an alien was just shot down in a game. Create a variable called alien_color and assign it to a value of 'green', 'yellow', or 'red'.\n",
    "- Write an if statement to test whether the alien's color is green. If it is, print a message that the player has just earned 5 points\n",
    "- Write one version of this program that passes the if test and another that fails. (The version that fails will have no output)"
   ]
  },
  {
   "cell_type": "code",
   "execution_count": 12,
   "id": "8971cea1",
   "metadata": {
    "hidden": true
   },
   "outputs": [
    {
     "name": "stdout",
     "output_type": "stream",
     "text": [
      "5 points\n"
     ]
    }
   ],
   "source": [
    "# 5-3 \n",
    "\n",
    "alien_color = 'green'\n",
    "\n",
    "if alien_color == 'green':\n",
    "    print('5 points')\n",
    "\n",
    "alien_color = 'red'\n",
    "\n",
    "if alien_color == 'green':\n",
    "    print('5 points')"
   ]
  },
  {
   "cell_type": "markdown",
   "id": "cb7ff0ac",
   "metadata": {
    "hidden": true
   },
   "source": [
    "**5-4 Alien Colors #2:** Choose a color for an alien as you did in Exercise 5-3, and write and if-else chain.\n",
    "- If the alien's color is green, print a statement that the player has just earned 5 points for shooting the alien\n",
    "- If the alien's color isn't green, print a statement that the player has just earned 10 points\n",
    "- Write one version of this program that runs the if block and another that runs the else block"
   ]
  },
  {
   "cell_type": "code",
   "execution_count": 13,
   "id": "fe25b7ee",
   "metadata": {
    "hidden": true
   },
   "outputs": [
    {
     "name": "stdout",
     "output_type": "stream",
     "text": [
      "10 points\n"
     ]
    }
   ],
   "source": [
    "# 5-4\n",
    "\n",
    "alien_color = 'red'\n",
    "\n",
    "if alien_color == 'green':\n",
    "    print('5 points')\n",
    "else:\n",
    "    print('10 points')"
   ]
  },
  {
   "cell_type": "markdown",
   "id": "bbf278a3",
   "metadata": {
    "hidden": true
   },
   "source": [
    "**5-5 Alien Colors #3:** Turn your if-else chain from Exercise 5-4 into an if-elif-else chain.\n",
    "- If the alien is green, print that they player earned 5 points\n",
    "- If the alien is yellow, print a message that the player earned 10 points\n",
    "- If the alien is red, print a message that the player earned 15 points\n",
    "- Write three versions of this program making sure each message is printed for the appropriate color alien."
   ]
  },
  {
   "cell_type": "code",
   "execution_count": 14,
   "id": "8d506d01",
   "metadata": {
    "hidden": true
   },
   "outputs": [
    {
     "name": "stdout",
     "output_type": "stream",
     "text": [
      "15 points\n"
     ]
    }
   ],
   "source": [
    "# 5-5\n",
    "alien_color = 'red'\n",
    "\n",
    "if alien_color == 'green':\n",
    "    print('5 points')\n",
    "elif alien_color == 'yellow':\n",
    "    print('10 points')\n",
    "elif alien_color == 'red':\n",
    "    print('15 points')"
   ]
  },
  {
   "cell_type": "markdown",
   "id": "de46d95a",
   "metadata": {
    "hidden": true
   },
   "source": [
    "**5-6 Stages of Life:** Write and if-elif-else chain that determines a person's stage of life. Set a value for the variable age, and then:\n",
    "- If the person is less than 2 years old, print a message that the person is a baby\n",
    "- If the person is at least 2 years old but less than 4, print that the person is a toddler\n",
    "- If the person is at least 4 years old but less than 13, print that the person is a kid\n",
    "- If the person is at least 13 years old but less than 20, print the person is a teenager\n",
    "- If the person is at least 20 years old but less then 65, print the person is an adult\n",
    "- If the person is age 65 or older, print a message that the person is an elder"
   ]
  },
  {
   "cell_type": "code",
   "execution_count": 15,
   "id": "1086df22",
   "metadata": {
    "hidden": true
   },
   "outputs": [
    {
     "name": "stdout",
     "output_type": "stream",
     "text": [
      "elder\n"
     ]
    }
   ],
   "source": [
    "# 5-6\n",
    "age = 66\n",
    "if age < 2:\n",
    "    stage = 'baby'\n",
    "elif age < 4:\n",
    "    stage = 'toddler'\n",
    "elif age < 13:\n",
    "    stage = 'kid'\n",
    "elif age < 20:\n",
    "    stage = 'teenager'\n",
    "elif age < 65:\n",
    "    stage = 'adult'\n",
    "else:\n",
    "    stage = 'elder'\n",
    "    \n",
    "print(stage)"
   ]
  },
  {
   "cell_type": "markdown",
   "id": "388798f4",
   "metadata": {
    "hidden": true
   },
   "source": [
    "**5-7 Favorite Fruit:** Make a list of your favorite fruits, and then write a series of independent if statements that check for certain fruits in your list\n",
    "- Make a list of your three favorite fruits and call it favorite_fruits\n",
    "- Write five if statements. Each should check whether a certain kind of fruit is in your list. If the fruit is in your list, the if block should print a statement, such as `You really like bananas`"
   ]
  },
  {
   "cell_type": "code",
   "execution_count": 16,
   "id": "803929e8",
   "metadata": {
    "hidden": true
   },
   "outputs": [
    {
     "name": "stdout",
     "output_type": "stream",
     "text": [
      "Yeah I don't like watermelon either.\n"
     ]
    }
   ],
   "source": [
    "favorite_fruits = ['apples', 'strawberries', 'bananas', 'oranges', 'blueberries']\n",
    "fruit = 'watermelon'\n",
    "if fruit in favorite_fruits:\n",
    "    print(f\"Man you really like {fruit}.\")\n",
    "else:\n",
    "    print(f\"Yeah I don't like {fruit} either.\")"
   ]
  },
  {
   "cell_type": "markdown",
   "id": "d8d25ca5",
   "metadata": {
    "hidden": true
   },
   "source": [
    "**5-8 Hello Admin:** Make a list of five or more usernames, including the name `admin`. Imagine you are writing a code that will print a greeting to each user after they log in to a website. Loop through the list, and print a greeting to each user.\n",
    "- If the username is `admin`, print a special greeting such as `Hello admin, would you like to see a status report?`\n",
    "- Otherwise, print a generic greeting, such as `Hello Jaden, thank you for logging in again`.\n",
    "\n",
    "**5-9 No Users:** Add an if test to hello_admin to make sure the list of users is not empty.\n",
    "- If the list is empty print the message `We need some users!`\n",
    "- Remove all of the users from usernames to make sure the correct message is printed"
   ]
  },
  {
   "cell_type": "code",
   "execution_count": 17,
   "id": "9bb0f121",
   "metadata": {
    "hidden": true
   },
   "outputs": [
    {
     "name": "stdout",
     "output_type": "stream",
     "text": [
      "Hello ceejamoe, thank you for logging in again\n",
      "\n",
      "Hello bigmac, thank you for logging in again\n",
      "\n",
      "Hello bigbird, thank you for logging in again\n",
      "\n",
      "Hello admin, would you like to see a status report?\n",
      "\n",
      "Hello kid_goggles, thank you for logging in again\n",
      "\n",
      "Hello cmcgamez, thank you for logging in again\n",
      "\n"
     ]
    }
   ],
   "source": [
    "usernames = ['ceejamoe', 'bigmac', 'bigbird', 'admin', 'kid_goggles', 'cmcgamez']\n",
    "\n",
    "# if usernames has any values this will return True then run the next line\n",
    "# if False it cuts to the next block of code\n",
    "if usernames:\n",
    "    for user in usernames:\n",
    "        if user == 'admin':\n",
    "            print(f\"Hello {user}, would you like to see a status report?\\n\")\n",
    "        else:\n",
    "            print(f\"Hello {user}, thank you for logging in again\\n\")\n",
    "else:\n",
    "    print('We need to find some users!')"
   ]
  },
  {
   "cell_type": "code",
   "execution_count": 18,
   "id": "fc1305f8",
   "metadata": {
    "hidden": true
   },
   "outputs": [
    {
     "name": "stdout",
     "output_type": "stream",
     "text": [
      "We need to find some users!\n"
     ]
    }
   ],
   "source": [
    "usernames = []\n",
    "\n",
    "# if usernames has any values this will return True then run the next line\n",
    "# if False it cuts to the next block of code\n",
    "if usernames:\n",
    "    for user in usernames:\n",
    "        if user == 'admin':\n",
    "            print(f\"Hello {user}, would you like to see a status report?\\n\")\n",
    "        else:\n",
    "            print(f\"Hello {user}, thank you for logging in again\\n\")\n",
    "else:\n",
    "    print('We need to find some users!')"
   ]
  },
  {
   "cell_type": "markdown",
   "id": "9e01174b",
   "metadata": {
    "hidden": true
   },
   "source": [
    "**5-10 Checking Usernames:** Do the following to create a program that simulates how websites ensure that everyone has a unique username\n",
    "- Make a list of five or more usernames called `current_users`\n",
    "- Make another list of five usernames called `new_users`. Make sure one or two of the new usernames are also in `current_users`\n",
    "- Loop through the `new_users` list to see if each new username has already been used. If it has, print a message that the person will need to enter a new username. If a username has not been used, print a message saying that the username is available\n",
    "- Make sure your comparison is case sensitive."
   ]
  },
  {
   "cell_type": "code",
   "execution_count": 19,
   "id": "ecd812ef",
   "metadata": {
    "hidden": true
   },
   "outputs": [
    {
     "name": "stdout",
     "output_type": "stream",
     "text": [
      "Sorry mate CeejamoE is already taken, try another name\n",
      "Nice name john is unique!!\n",
      "Sorry mate SoMber is already taken, try another name\n",
      "Nice name Kevin is unique!!\n",
      "Nice name Max is unique!!\n"
     ]
    }
   ],
   "source": [
    "current_users = ['CeejAmoe', 'bigmac', 'bigbird', 'Somber', 'kid_goggles', 'cmcgamez', 'steelfan']\n",
    "new_users = ['CeejamoE', 'john', 'SoMber', 'Kevin', 'Max']\n",
    "\n",
    "# making each user in current_user lowercase\n",
    "current_users = [user.lower() for user in current_users]\n",
    "\n",
    "# looping through each user in new_users to see if it is in current_users\n",
    "for user in new_users:\n",
    "    if user.lower() in current_users:\n",
    "        print(f\"Sorry mate {user} is already taken, try another name\")\n",
    "    else:\n",
    "        print(f\"Nice name {user} is unique!!\")"
   ]
  },
  {
   "cell_type": "markdown",
   "id": "a563e8cd",
   "metadata": {
    "hidden": true
   },
   "source": [
    "**5-11 Ordinal Numbers:** Ordinal numbers indicate their position in a list, such as 1st or 2nd. Most ordinal numbers end in `th` except 1, 2, and 3. \n",
    "- Store the numbers 1 through 9 in a list\n",
    "- Loop through the list\n",
    "- Use an if-elif-else chain inside the loop to print the proper ordinal ending for each number. `1st 2nd 3rd 4th 5th 6th 7th 8th 9th` and each result should be on a separate line"
   ]
  },
  {
   "cell_type": "code",
   "execution_count": 20,
   "id": "91b81727",
   "metadata": {
    "hidden": true
   },
   "outputs": [
    {
     "name": "stdout",
     "output_type": "stream",
     "text": [
      "1st\n",
      "2nd\n",
      "3rd\n",
      "4th\n",
      "5th\n",
      "6th\n",
      "7th\n",
      "8th\n",
      "9th\n"
     ]
    }
   ],
   "source": [
    "numbers = [1, 2, 3, 4, 5, 6, 7, 8, 9]\n",
    "\n",
    "for number in numbers:\n",
    "    if number == 1:\n",
    "        ordinal = 'st'\n",
    "    elif number == 2:\n",
    "        ordinal = 'nd'\n",
    "    elif number == 3:\n",
    "        ordinal = 'rd'\n",
    "    else:\n",
    "        ordinal = 'th'\n",
    "    print(f\"{number}{ordinal}\")"
   ]
  },
  {
   "cell_type": "markdown",
   "id": "a658804e",
   "metadata": {
    "heading_collapsed": true
   },
   "source": [
    "# Chapter 6: Dictionaries"
   ]
  },
  {
   "cell_type": "markdown",
   "id": "4b2d82bc",
   "metadata": {
    "hidden": true
   },
   "source": [
    "**6-1 Person:** Use a dictionary to store information about a person you know. Store their first name, last name, age, and the city in which they live. You should have keys such as `first_name`, `last_name`, `age`, and `city`. Print each piece of information stored in your dictionary"
   ]
  },
  {
   "cell_type": "code",
   "execution_count": 21,
   "id": "c8f95fe5",
   "metadata": {
    "hidden": true
   },
   "outputs": [
    {
     "name": "stdout",
     "output_type": "stream",
     "text": [
      "First_Name : Chris\n",
      "Last_Name : Johnson\n",
      "Age : 59\n",
      "City : King of Prussia\n"
     ]
    }
   ],
   "source": [
    "person = {'first_name': 'Chris', 'last_name': 'Johnson', 'age': 59, 'city': 'King of Prussia'}\n",
    "\n",
    "for key, value in person.items():\n",
    "    print(key.title(), \":\", value)"
   ]
  },
  {
   "cell_type": "markdown",
   "id": "afb3a0ee",
   "metadata": {
    "hidden": true
   },
   "source": [
    "**6-2 Favorite Numbers:** Use a dictionary to store people's favorite numbers. Think of five names, and use them as keys in your dictionary. Think of a favorite number for each person, and store each as a value in your dictionary. Print each person's name and their favorite number. For even more fun, poll a few friends and get some actual data for your program."
   ]
  },
  {
   "cell_type": "code",
   "execution_count": 22,
   "id": "685f0a8d",
   "metadata": {
    "hidden": true
   },
   "outputs": [
    {
     "name": "stdout",
     "output_type": "stream",
     "text": [
      "Kevin 5\n",
      "Mark 82\n",
      "Sarah 13\n",
      "Nick 24\n",
      "Aidan 34\n"
     ]
    }
   ],
   "source": [
    "fav_number = {'kevin': 5, 'mark': 82, 'sarah': 13, 'nick':24, 'aidan': 34}\n",
    "for key,value in fav_number.items():\n",
    "    print(key.title(), value)"
   ]
  },
  {
   "cell_type": "markdown",
   "id": "bc949129",
   "metadata": {
    "hidden": true
   },
   "source": [
    "**6-3 Glossary:** A Python dictionary can be used to model an actual dictionary. However to avoid confusion, let's call it a glossary\n",
    "- Think of five programming words you've learned about in the previous chapters. Use these words as the keys in your glossary, and store the meanings as the values.\n",
    "- Print each word and its meaning as neatly formatted output. You might print the word followed by a colon and then its meaning, or print the word on one line and then print its meaning indented on a second line. Use the newline character (\\n) to insert a blank line between each word-meaning pair in your output."
   ]
  },
  {
   "cell_type": "code",
   "execution_count": 23,
   "id": "ee92e270",
   "metadata": {
    "hidden": true
   },
   "outputs": [
    {
     "name": "stdout",
     "output_type": "stream",
     "text": [
      "For Loop is a replay button in programming\n",
      "If Statement is a decision maker in programming\n",
      "Dictionary is a set of key-value pairs\n",
      "List is a collection of items stored in a specific order\n",
      "Print Command is a command that tells the computer to display something\n",
      "Get() Command is a retrieve a key in a dictionary, if nothing returns None or desired message\n"
     ]
    }
   ],
   "source": [
    "glossary = {\n",
    "    'for loop' : 'replay button in programming',\n",
    "    'if statement' : 'decision maker in programming',\n",
    "    'dictionary' : 'set of key-value pairs',\n",
    "    'list' : 'collection of items stored in a specific order',\n",
    "    'print command' : 'command that tells the computer to display something',\n",
    "    'get() command' : 'retrieve a key in a dictionary, if nothing returns None or desired message',\n",
    "}\n",
    "\n",
    "for key, value in glossary.items():\n",
    "    print(f\"{key.title()} is a {value}\")"
   ]
  },
  {
   "cell_type": "markdown",
   "id": "feb739f7",
   "metadata": {
    "hidden": true
   },
   "source": [
    "**6-5 Rivers:** Make a dictionary containing three major rivers and the country each river runs through. One key-value pair might be `nile` : `egypt`\n",
    "- Use a loop to print a sentence about each river, such as `The Nile runs through Egypt`\n",
    "- Use a loop to print the name of each river included in the dictionary\n",
    "- Use a loop to print the name of each country included in the dictionary"
   ]
  },
  {
   "cell_type": "code",
   "execution_count": 24,
   "id": "98764ab7",
   "metadata": {
    "hidden": true
   },
   "outputs": [
    {
     "name": "stdout",
     "output_type": "stream",
     "text": [
      "Bullet 1:\n",
      "The Nile runs through Egypt.\n",
      "The Amazon runs through Brazil.\n",
      "The Yangtze runs through China.\n",
      "\n",
      "Bullet 2:\n",
      "Nile\n",
      "Amazon\n",
      "Yangtze\n",
      "\n",
      "Bullet 3:\n",
      "Egypt\n",
      "Brazil\n",
      "China\n"
     ]
    }
   ],
   "source": [
    "rivers = {\n",
    "    'Nile': 'Egypt',\n",
    "    'Amazon': 'Brazil',\n",
    "    'Yangtze': 'China',\n",
    "}\n",
    "\n",
    "print(\"Bullet 1:\")\n",
    "for river, country in rivers.items():\n",
    "    print(f\"The {river.title()} runs through {country.title()}.\")\n",
    "    \n",
    "print(\"\\nBullet 2:\")\n",
    "for river in rivers:\n",
    "    print(f\"{river}\")\n",
    "    \n",
    "print(\"\\nBullet 3:\")\n",
    "for country in rivers.values():\n",
    "    print(f\"{country}\")"
   ]
  },
  {
   "cell_type": "markdown",
   "id": "05370bc6",
   "metadata": {
    "hidden": true
   },
   "source": [
    "**6-6 Polling:** Use the code from `favorite_languages`\n",
    "- Make a list of people who should take the favorite languages poll. Include some names that are already in the dictionary and some that are not.\n",
    "- Loop through the list of people who should take the poll. If they have already taken the poll, print a message thanking them for responding. If they have not yet taken the poll, print a message inviting them to take the poll."
   ]
  },
  {
   "cell_type": "code",
   "execution_count": 25,
   "id": "faf913ff",
   "metadata": {
    "hidden": true
   },
   "outputs": [
    {
     "name": "stdout",
     "output_type": "stream",
     "text": [
      "Thank you Jen for taking our poll.\n",
      "\n",
      "Hey Cj, would you be kind enough to take our poll?\n",
      "\n",
      "Hey Max, would you be kind enough to take our poll?\n",
      "\n",
      "Thank you Phil for taking our poll.\n",
      "\n",
      "Hey Carl, would you be kind enough to take our poll?\n",
      "\n"
     ]
    }
   ],
   "source": [
    "favorite_languages = {\n",
    "    'jen' : 'python',\n",
    "    'sarah' : 'c',\n",
    "    'edward' : 'rust',\n",
    "    'phil' : 'python',\n",
    "    'kevin' : 'c',\n",
    "}\n",
    "\n",
    "take_poll = ['jen', 'cj', 'max', 'phil', 'carl']\n",
    "\n",
    "for name in take_poll:\n",
    "    if name in favorite_languages:\n",
    "        print(f\"Thank you {name.title()} for taking our poll.\\n\")\n",
    "    else:\n",
    "        print(f\"Hey {name.title()}, would you be kind enough to take our poll?\\n\")"
   ]
  },
  {
   "cell_type": "markdown",
   "id": "981862cc",
   "metadata": {
    "hidden": true
   },
   "source": [
    "**6-7 People:** Start with the program you wrote for Exercise 6-1. Make two new dictionaries representing different people, and store all three dictionaries in a list called `people`. Loop through your list of people. As you loop through the list, print everything you know about each person"
   ]
  },
  {
   "cell_type": "code",
   "execution_count": 26,
   "id": "a36115e4",
   "metadata": {
    "hidden": true
   },
   "outputs": [
    {
     "name": "stdout",
     "output_type": "stream",
     "text": [
      "Chris Johnson is 59 years old and is from King Of Prussia.\n",
      "Nick Smith is 23 years old and is from San Francisco.\n",
      "Greg Williams is 35 years old and is from New York.\n"
     ]
    }
   ],
   "source": [
    "person_1 = {\n",
    "    'first_name' : 'Chris', \n",
    "     'last_name' : 'Johnson', \n",
    "     'age' : 59, \n",
    "     'city' : 'King of Prussia',\n",
    "}\n",
    "    \n",
    "person_2 = {\n",
    "    'first_name' : 'Nick',\n",
    "    'last_name': 'Smith',\n",
    "    'age' : 23,\n",
    "    'city' : 'San Francisco',\n",
    "}\n",
    "person_3 = {\n",
    "    'first_name' : 'greg',\n",
    "    'last_name' : 'Williams',\n",
    "    'age' : 35,\n",
    "    'city' : 'New York',\n",
    "}\n",
    "\n",
    "people = [person_1, person_2, person_3]\n",
    "\n",
    "for person in people:\n",
    "    full_name = f\"{person['first_name']} {person['last_name']}\"\n",
    "    print(f\"{full_name.title()} is {person['age']} years old and is from {person['city'].title()}.\")"
   ]
  },
  {
   "cell_type": "markdown",
   "id": "6ac2c3ca",
   "metadata": {
    "hidden": true
   },
   "source": [
    "**6-8 Pets:** Make several dictionaries, where each dictionary represents a different pet. In each dictionary, include the kind of animal and the owner's name. Store these dictionaries in a list called `pets`. Next, loop through your list and as you do, print everything you know about each pet"
   ]
  },
  {
   "cell_type": "code",
   "execution_count": 27,
   "id": "3edc0289",
   "metadata": {
    "hidden": true
   },
   "outputs": [
    {
     "name": "stdout",
     "output_type": "stream",
     "text": [
      "Alice owns a dog.\n",
      "Bob owns a cat.\n",
      "Charlie owns a bird.\n",
      "David owns a rabbit.\n",
      "Emily owns a fish.\n"
     ]
    }
   ],
   "source": [
    "# Creating dictionaries representing different pets\n",
    "pet1 = {'kind': 'dog', 'owner': 'Alice'}\n",
    "pet2 = {'kind': 'cat', 'owner': 'Bob'}\n",
    "pet3 = {'kind': 'bird', 'owner': 'Charlie'}\n",
    "pet4 = {'kind': 'rabbit', 'owner': 'David'}\n",
    "pet5 = {'kind': 'fish', 'owner': 'Emily'}\n",
    "\n",
    "# Storing the dictionaries in a list called pets\n",
    "pets = [pet1, pet2, pet3, pet4, pet5]\n",
    "\n",
    "for pet in pets:\n",
    "    owner = pet['owner']\n",
    "    kind = pet['kind']\n",
    "    print(f\"{owner.title()} owns a {kind}.\")"
   ]
  },
  {
   "cell_type": "markdown",
   "id": "6bba5530",
   "metadata": {
    "hidden": true
   },
   "source": [
    "**6-9 Favorite Places:** Make a dictionary called `favorite_places`. Think of three names to use as keys in the dictionary, and store one to three favorite places for each person. To make this exercise a bit more interesting, ask some of your friends to name a few of their favorite places. Loop through the dictionary, and print each person's name and their favorite places."
   ]
  },
  {
   "cell_type": "code",
   "execution_count": 28,
   "id": "bd8f34f3",
   "metadata": {
    "hidden": true
   },
   "outputs": [
    {
     "name": "stdout",
     "output_type": "stream",
     "text": [
      "\n",
      "Kevin's favorite places are:\n",
      "\tHawaii\n",
      "\tVirgin Islands\n",
      "\n",
      "Marvin's favorite places are:\n",
      "\tCalifornia\n",
      "\tParis\n",
      "\tCuba\n",
      "\n",
      "Casey's favorite place is:\n",
      "\tAustralia\n"
     ]
    }
   ],
   "source": [
    "favorite_places = {\n",
    "    'kevin' : ['Hawaii', 'Virgin Islands'],\n",
    "    'marvin' : ['California', 'Paris', 'Cuba'],\n",
    "    'casey' : ['Australia']\n",
    "}\n",
    "\n",
    "for person, places in favorite_places.items():\n",
    "    if len(places) > 1:\n",
    "        print(f\"\\n{person.title()}'s favorite places are:\")\n",
    "    else:\n",
    "        print(f\"\\n{person.title()}'s favorite place is:\")\n",
    "    for place in places:\n",
    "        print(f\"\\t{place.title()}\")"
   ]
  },
  {
   "cell_type": "markdown",
   "id": "589d8aa4",
   "metadata": {
    "hidden": true
   },
   "source": [
    "**6-10 Favorite Numbers:** Modify your program from exercise 6-2 so each person can have more than one favorite number. Then print out each person's name along with their favorite numbers."
   ]
  },
  {
   "cell_type": "code",
   "execution_count": 29,
   "id": "f61cfc83",
   "metadata": {
    "hidden": true
   },
   "outputs": [
    {
     "name": "stdout",
     "output_type": "stream",
     "text": [
      "\n",
      "Kevin's favorite numbers are:\n",
      "5\n",
      "12\n",
      "23\n",
      "\n",
      "Marvin's favorite numbers are:\n",
      "82\n",
      "39\n",
      "\n",
      "Sarah's favorite number is:\n",
      "13\n",
      "\n",
      "Nick's favorite numbers are:\n",
      "24\n",
      "8\n",
      "23\n",
      "\n",
      "Aidan's favorite number is:\n",
      "69\n"
     ]
    }
   ],
   "source": [
    "favorite_numbers = {\n",
    "    'kevin': [5, 12, 23], 'marvin': [82, 39], 'sarah': [13],\n",
    "    'nick': [24, 8, 23] , 'aidan': [69],\n",
    "}\n",
    "\n",
    "for name, numbers in favorite_numbers.items():\n",
    "    if len(numbers) > 1:\n",
    "        print(f\"\\n{name.title()}'s favorite numbers are:\")\n",
    "    else:\n",
    "        print(f\"\\n{name.title()}'s favorite number is:\")\n",
    "    for number in numbers:\n",
    "        print(number)"
   ]
  },
  {
   "cell_type": "markdown",
   "id": "4c311219",
   "metadata": {
    "hidden": true
   },
   "source": [
    "**6-11 Cities:** Make a dictionary called `cities`. Use the names of three cities as keys in your dictionary. Create a dictionary of information about each city and include that the country is in, population, and one fun fact about that city. The keys for each city's dictionary should be something like `country`, `population`, and `fact`. Print the name of each city and all of the information you have stored about it"
   ]
  },
  {
   "cell_type": "code",
   "execution_count": 30,
   "id": "63e6991e",
   "metadata": {
    "hidden": true
   },
   "outputs": [
    {
     "name": "stdout",
     "output_type": "stream",
     "text": [
      "Country: Japan \n",
      "City: Tokyo\n",
      "Population: 13929286 \n",
      "Fun fact: Tokyo is the most populous metropolitan area in the world.\n",
      "\n",
      "Country: United Kingdom \n",
      "City: London\n",
      "Population: 9304016 \n",
      "Fun fact: London is home to Big Ben, the iconic clock tower.\n",
      "\n",
      "Country: United States \n",
      "City: New York City\n",
      "Population: 8398748 \n",
      "Fun fact: New York City is known as \"The Big Apple\".\n",
      "\n"
     ]
    }
   ],
   "source": [
    "cities = {\n",
    "    'tokyo': {\n",
    "        'country': 'Japan',\n",
    "        'population': 13929286,\n",
    "        'fun_fact': 'Tokyo is the most populous metropolitan area in the world.'\n",
    "    },\n",
    "    'London': {\n",
    "        'country': 'United Kingdom',\n",
    "        'population': 9304016,\n",
    "        'fun_fact': 'London is home to Big Ben, the iconic clock tower.'\n",
    "    },\n",
    "    'New York City': {\n",
    "        'country': 'United States',\n",
    "        'population': 8398748,\n",
    "        'fun_fact': 'New York City is known as \"The Big Apple\".'\n",
    "    }\n",
    "}\n",
    "\n",
    "for city, info in cities.items():\n",
    "    country = info['country']\n",
    "    population = info['population']\n",
    "    fact = info['fun_fact']\n",
    "    \n",
    "    print(f\"Country: {country.title()} \\nCity: {city.title()}\\n\"\n",
    "          f\"Population: {population} \\nFun fact: {fact}\\n\")"
   ]
  },
  {
   "cell_type": "markdown",
   "id": "7ee3f47a",
   "metadata": {},
   "source": [
    "# Chapter 7: User Input and While loops"
   ]
  },
  {
   "cell_type": "markdown",
   "id": "8996b2cb",
   "metadata": {},
   "source": [
    "**7-1 Rental Car:** Write a program that asks the user what kind of rental car they would like. Print a message about that car, such as `Let me see if I can find you a Subaru.`"
   ]
  },
  {
   "cell_type": "code",
   "execution_count": 31,
   "id": "09059f0b",
   "metadata": {},
   "outputs": [
    {
     "name": "stdout",
     "output_type": "stream",
     "text": [
      "What kind of car would you like? u\n",
      "\n",
      "Let me see if I can find you a U.\n"
     ]
    }
   ],
   "source": [
    "car = input(\"What kind of car would you like? \")\n",
    "\n",
    "print(f\"\\nLet me see if I can find you a {car.title()}.\")"
   ]
  },
  {
   "cell_type": "markdown",
   "id": "daff9508",
   "metadata": {},
   "source": [
    "**7-2 Restaurant Seating:** Write a program that asks the user how many people are in their dinner group. If the answer is more than eight, print a message saying they'll have to wait do a table. Otherwise, report that their table is ready."
   ]
  },
  {
   "cell_type": "code",
   "execution_count": 32,
   "id": "6f579c14",
   "metadata": {},
   "outputs": [
    {
     "name": "stdout",
     "output_type": "stream",
     "text": [
      "How many people are in your dinner group? 8\n",
      "\n",
      "Ah yes, we have a table for 8, follow me.\n"
     ]
    }
   ],
   "source": [
    "dinner = input(\"How many people are in your dinner group? \")\n",
    "dinner = int(dinner)\n",
    "\n",
    "if dinner > 8:\n",
    "    print(f\"\\nI'm sorry but to seat {dinner} people, you will have to wait for a table.\")\n",
    "else:\n",
    "    print(f\"\\nAh yes, we have a table for {dinner}, follow me.\")"
   ]
  },
  {
   "cell_type": "markdown",
   "id": "237f90b5",
   "metadata": {},
   "source": [
    "**7-3 Multiples of Ten:** Ask the user for a number, and then report whether the number is a multiple of 10 or not."
   ]
  },
  {
   "cell_type": "code",
   "execution_count": 33,
   "id": "bc0fdbe9",
   "metadata": {},
   "outputs": [
    {
     "name": "stdout",
     "output_type": "stream",
     "text": [
      "Give me a number and I will tell you if it is a multiple of 10 or not: 10\n",
      "\n",
      "Ah yes, it looks like your number 10 is divisibly by 10!\n"
     ]
    }
   ],
   "source": [
    "multiples_10 = \"Give me a number and I will tell you if it is a multiple\"\n",
    "multiples_10 += \" of 10 or not: \"\n",
    "number = input(multiples_10)\n",
    "number = int(number)\n",
    "\n",
    "if number % 10 == 0:\n",
    "    print(f\"\\nAh yes, it looks like your number {number:,} is divisibly by 10!\")\n",
    "else:\n",
    "    print(f\"\\nNope your number {number:,} is not divisble by 10\")"
   ]
  },
  {
   "cell_type": "markdown",
   "id": "a7a1358f",
   "metadata": {},
   "source": [
    "**7-4 Pizza Toppings:** Write a loop that prompts the user to enter a series of pizza toppings until they enter a `quit` value. As they enter each topping, print a message saying you'll add that topping to their pizza"
   ]
  },
  {
   "cell_type": "code",
   "execution_count": 34,
   "id": "b218e9cd",
   "metadata": {},
   "outputs": [
    {
     "name": "stdout",
     "output_type": "stream",
     "text": [
      "\n",
      "Enter your pizza topping: \n",
      "Type 'done' when you are finished: done\n"
     ]
    }
   ],
   "source": [
    "prompt = '\\nEnter your pizza topping: '\n",
    "prompt += \"\\nType 'done' when you are finished: \" \n",
    "\n",
    "message = ''\n",
    "while message != 'done':\n",
    "    message = input(prompt)\n",
    "    if message != 'done':\n",
    "        print(f\"\\nAdding {message} topping to your pizza\")"
   ]
  },
  {
   "cell_type": "markdown",
   "id": "9c917387",
   "metadata": {},
   "source": [
    "**7-5 Movie Tickets:** A movie theater charges different ticket prices depending on a person's age. If a person is under the `age of 3`, the ticket is `free`; if they are between `ages 3 and 12`, the ticket is `$10`; and if they are over the `age of 12` the ticket is `$15`. Write a loop in which you ask the users their age, and then tell them the cost of their movie ticket."
   ]
  },
  {
   "cell_type": "code",
   "execution_count": 35,
   "id": "cf61a1e1",
   "metadata": {},
   "outputs": [
    {
     "name": "stdout",
     "output_type": "stream",
     "text": [
      "How old are you? 9\n",
      "Since you are 9, your cost is $10.\n"
     ]
    }
   ],
   "source": [
    "prompt = 'How old are you? '\n",
    "\n",
    "costs = [0, 10, 15]\n",
    "\n",
    "while True:\n",
    "    age = int(input(prompt))\n",
    "    if age < 3:\n",
    "        print(f'Since you are {age}, your ticket is ${costs[0]}!')\n",
    "        break\n",
    "    elif age < 12:\n",
    "        print(f'Since you are {age}, your cost is ${costs[1]}.')\n",
    "        break\n",
    "    else:\n",
    "        print(f\"Since you are {age}, your cost will be ${costs[2]}.\")\n",
    "        break"
   ]
  },
  {
   "cell_type": "markdown",
   "id": "bda79857",
   "metadata": {},
   "source": [
    "**7-6 Three Exits:** Write different versions of either Exercise 7-4 or 7-5 that do each of the following at least once:\n",
    "- Use a conditional test in the while statement to stop the loop\n",
    "- Use an active variable to control how long the loop runs\n",
    "- Use a break statement to exit the loop when the user enters a `quit` value"
   ]
  },
  {
   "cell_type": "code",
   "execution_count": 36,
   "id": "bcd08bf4",
   "metadata": {},
   "outputs": [
    {
     "name": "stdout",
     "output_type": "stream",
     "text": [
      "\n",
      "Enter your pizza topping: \n",
      "Type 'done' when you are finished done\n"
     ]
    }
   ],
   "source": [
    "prompt = '\\nEnter your pizza topping: '\n",
    "prompt += \"\\nType 'done' when you are finished \" \n",
    "\n",
    "active = True\n",
    "while active == True:\n",
    "    message = input(prompt)\n",
    "    \n",
    "    if message == 'done':\n",
    "        active = False\n",
    "    else:\n",
    "        print(f\"\\nAdding {message.title()} topping to your pizza\")"
   ]
  },
  {
   "cell_type": "markdown",
   "id": "f266975f",
   "metadata": {},
   "source": [
    "**7-7 Infinity:** Write a loop that never ends, and run it. (To end the loop, press CTRL-C or close the window displaying the output). Once you have made an infinite loop, comment out the code so you do not accidentally run it again."
   ]
  },
  {
   "cell_type": "code",
   "execution_count": 37,
   "id": "f64f16df",
   "metadata": {},
   "outputs": [],
   "source": [
    "#num = 1\n",
    "#while num < 5:\n",
    "    #print(num)"
   ]
  },
  {
   "cell_type": "markdown",
   "id": "42797e91",
   "metadata": {},
   "source": [
    "**Lesson:** Moving Items from one list to another\n",
    "- Consider a list of newly registered users but unverified users of a website. After we verify these users, how can we move them to a separate list of confirmed users?"
   ]
  },
  {
   "cell_type": "code",
   "execution_count": 38,
   "id": "4dc04b86",
   "metadata": {},
   "outputs": [
    {
     "name": "stdout",
     "output_type": "stream",
     "text": [
      "Verifying user: Andres\n",
      "Verifying user: Chet\n",
      "Verifying user: Levy\n",
      "Verifying user: Mac\n",
      "Verifying user: Foster\n",
      "Verifying user: Casey\n",
      "Verifying user: Nick\n",
      "Verifying user: Hunt\n",
      "\n",
      "The following users have been verified:\n",
      "Andres\n",
      "Chet\n",
      "Levy\n",
      "Mac\n",
      "Foster\n",
      "Casey\n",
      "Nick\n",
      "Hunt\n"
     ]
    }
   ],
   "source": [
    "unconfirmed_users = ['hunt', 'nick', 'casey', 'foster', 'mac', 'levy', 'chet',\n",
    "                    'andres']\n",
    "confirmed_users = []\n",
    "\n",
    "# checking if there are any users in unconfirmed users\n",
    "while unconfirmed_users:\n",
    "    # Removing last user from unconfirmed_users\n",
    "    current_user = unconfirmed_users.pop()\n",
    "    \n",
    "    # Adding current_user to confirmed_users\n",
    "    print(f\"Verifying user: {current_user.title()}\")\n",
    "    confirmed_users.append(current_user)\n",
    "    \n",
    "print(\"\\nThe following users have been verified:\")\n",
    "for confirmed_user in confirmed_users:\n",
    "          print(confirmed_user.title())"
   ]
  },
  {
   "cell_type": "markdown",
   "id": "35540763",
   "metadata": {},
   "source": [
    "**Lesson:** Polling program\n",
    "- Make a polling program in which each pass through the loop prompts for the participants name and response\n",
    "- Store the data in a dictionary. (want to connect each response with a particular user)"
   ]
  },
  {
   "cell_type": "code",
   "execution_count": 39,
   "id": "485d940e",
   "metadata": {},
   "outputs": [
    {
     "name": "stdout",
     "output_type": "stream",
     "text": [
      "What is your name? yeah\n",
      "What mountain would you like to climb someday? yeah\n",
      "Does someone else want take this poll? (yes/no) no\n",
      "\n",
      "--- Poll Results ---\n",
      "Yeah would like to climb Yeah someday.\n"
     ]
    }
   ],
   "source": [
    "# Assigning empty dictionary for the responses\n",
    "responses = {}\n",
    "\n",
    "polling_active = True\n",
    "\n",
    "# Running the while loop as long as polling_active = True\n",
    "while polling_active:\n",
    "    \n",
    "    # Asking for name and response\n",
    "    name = input(\"What is your name? \")\n",
    "    response = input(\"What mountain would you like to climb someday? \")\n",
    "    \n",
    "    # Assigning the value 'response' to the key 'name'\n",
    "    responses[name] = response\n",
    "    \n",
    "    # Asking the user if they want someone else to take the poll\n",
    "    repeat = input(\"Does someone else want take this poll? (yes/no) \")\n",
    "    \n",
    "    # If the answer is no set polling_active to 'False' to quit while loop\n",
    "    # Using .lower() so any case sensitive 'no' response will end while loop\n",
    "    if repeat.lower() == 'no':\n",
    "        polling_active = False\n",
    "\n",
    "# Viewing the polling results\n",
    "print(\"\\n--- Poll Results ---\")\n",
    "for name, response in responses.items():\n",
    "    print(f\"{name.title()} would like to climb {response.title()} someday.\")"
   ]
  },
  {
   "cell_type": "markdown",
   "id": "1a609b6e",
   "metadata": {},
   "source": [
    "**7-8 Deli:** Make a list called `sandwich_orders` and fill it with the names of various sandwiches. Then make an empty list called `finished_sandwiches`. Loop through the list of sandwich orders and print a message for each order, such as `I made your tuna sandwich`. As each sandwich is made, move it to the list of finished sandwiches. After all of the sandwiches have been made, print a message listing each sandwich that was made."
   ]
  },
  {
   "cell_type": "code",
   "execution_count": 40,
   "id": "805523f4",
   "metadata": {},
   "outputs": [
    {
     "name": "stdout",
     "output_type": "stream",
     "text": [
      "Making your Bacon Egg & Cheese.\n",
      "Making your Hamburger.\n",
      "Making your Pastrami.\n",
      "Making your Cheeseburger.\n",
      "Making your Grilled Cheese.\n",
      "Making your Pastrami.\n",
      "Making your Pastrami.\n",
      "Making your Pb&J.\n",
      "\n",
      "All sandwiches have been made.\n",
      "Bacon Egg & Cheese\n",
      "Hamburger\n",
      "Pastrami\n",
      "Cheeseburger\n",
      "Grilled Cheese\n",
      "Pastrami\n",
      "Pastrami\n",
      "Pb&J\n"
     ]
    }
   ],
   "source": [
    "sandwich_orders = ['pb&j', 'pastrami', 'pastrami', 'grilled cheese',\n",
    "                  'cheeseburger', 'pastrami', 'hamburger',\n",
    "                   'bacon egg & cheese']\n",
    "finished_sandwiches = []\n",
    "\n",
    "while sandwich_orders:\n",
    "    current_sandwich = sandwich_orders.pop()\n",
    "    \n",
    "    print(f\"Making your {current_sandwich.title()}.\")\n",
    "    finished_sandwiches.append(current_sandwich)\n",
    "    \n",
    "print(f\"\\nAll sandwiches have been made.\")\n",
    "for sandwich in finished_sandwiches:\n",
    "    print(sandwich.title())"
   ]
  },
  {
   "cell_type": "markdown",
   "id": "5b564fc8",
   "metadata": {},
   "source": [
    "**7-9 No Pastrami:** Using the list `sandwich_orders` from exercise 7-8, make sure the sandwich `pastrami` appears in the list at least three times. Add code near the beginning of your program to print a message saying that the deli has run out of pastrami, and then use a while loop to remove all occurrences of `pastrami` from `sandwich_orders`. Make sure no pastrami sandwiches end up in `finished_sandwiches`."
   ]
  },
  {
   "cell_type": "code",
   "execution_count": 41,
   "id": "e7684089",
   "metadata": {},
   "outputs": [
    {
     "name": "stdout",
     "output_type": "stream",
     "text": [
      "I'm sorry but the deli has run out of pastrami.\n",
      "I'm sorry but the deli has run out of pastrami.\n",
      "I'm sorry but the deli has run out of pastrami.\n",
      "Making your bacon egg & cheese.\n",
      "Making your hamburger.\n",
      "Making your cheeseburger.\n",
      "Making your grilled cheese.\n",
      "Making your pb&j.\n",
      "\n",
      "Finished Sandwiches:\n",
      "Bacon Egg & Cheese\n",
      "Hamburger\n",
      "Cheeseburger\n",
      "Grilled Cheese\n",
      "Pb&J\n"
     ]
    }
   ],
   "source": [
    "sandwich_orders = ['pb&j', 'pastrami', 'pastrami', 'grilled cheese',\n",
    "                  'cheeseburger', 'pastrami', 'hamburger',\n",
    "                   'bacon egg & cheese']\n",
    "finished_sandwiches = []\n",
    "\n",
    "while sandwich_orders:\n",
    "    while 'pastrami' in sandwich_orders:\n",
    "        sandwich_orders.remove('pastrami')\n",
    "        print(\"I'm sorry but the deli has run out of pastrami.\")\n",
    "            \n",
    "    current_sandwich = sandwich_orders.pop()\n",
    "    \n",
    "    print(f\"Making your {current_sandwich}.\")\n",
    "    \n",
    "    finished_sandwiches.append(current_sandwich)\n",
    "    \n",
    "print(\"\\nFinished Sandwiches:\")\n",
    "for sandwich in finished_sandwiches:\n",
    "    print(sandwich.title())"
   ]
  },
  {
   "cell_type": "markdown",
   "id": "3cc7ba33",
   "metadata": {},
   "source": [
    "**7-10 Dream Vacation:** Write a program that polls users about their dream vacation. Write a prompt similar to `If you could visit one place in the world, where would you go?` Include a block of code that prints out the results of the poll."
   ]
  },
  {
   "cell_type": "code",
   "execution_count": 42,
   "id": "ef4fa2ca",
   "metadata": {
    "scrolled": true
   },
   "outputs": [
    {
     "name": "stdout",
     "output_type": "stream",
     "text": [
      "What is your name? yeah\n",
      "If you could visit one place in the world, where would you go? yeah\n",
      "Does anyone else who wants to take the poll? (yes/no) no\n",
      "\n",
      "--- Poll Results ---\n",
      "Yeah would like to travel to Yeah.\n"
     ]
    }
   ],
   "source": [
    "responses = {}\n",
    "\n",
    "polling_active = True\n",
    "\n",
    "while polling_active:\n",
    "    name = input(\"What is your name? \")\n",
    "    response = \"If you could visit one place in the world, \"\n",
    "    response += \"where would you go? \"\n",
    "    response = input(response)\n",
    "    \n",
    "    responses[name] = response\n",
    "    \n",
    "    repeat = input(\"Does anyone else who wants to take the poll? (yes/no) \")\n",
    "    \n",
    "    if repeat.lower() == 'no':\n",
    "        polling_active = False\n",
    "        \n",
    "print(\"\\n--- Poll Results ---\")\n",
    "for name, response in responses.items():\n",
    "    print(f\"{name.title()} would like to travel to {response.title()}.\")"
   ]
  },
  {
   "cell_type": "markdown",
   "id": "146c4c12",
   "metadata": {},
   "source": [
    "# Chapter 8: Functions"
   ]
  },
  {
   "cell_type": "markdown",
   "id": "3a124a7a",
   "metadata": {},
   "source": [
    "**8-1 Message:** Write a function called `display_message()` that prints one sentence telling everyone what you are learning about in this chapter. Call the function, and make sure the message displays correctly"
   ]
  },
  {
   "cell_type": "code",
   "execution_count": 43,
   "id": "7dc7bca7",
   "metadata": {},
   "outputs": [],
   "source": [
    "def display_message():\n",
    "    print('I am learning about functions and how to use them.')"
   ]
  },
  {
   "cell_type": "code",
   "execution_count": 44,
   "id": "2d1b3bc4",
   "metadata": {},
   "outputs": [
    {
     "name": "stdout",
     "output_type": "stream",
     "text": [
      "I am learning about functions and how to use them.\n"
     ]
    }
   ],
   "source": [
    "display_message()"
   ]
  },
  {
   "cell_type": "markdown",
   "id": "5b71154d",
   "metadata": {},
   "source": [
    "**8-2 Favorite Book:** Write a function called `favorite_book()` that accepts one parameter title. The function should print a message, such as `One of my favorite books is Alice in Wonderland.` Call the function and make sure to include a book title as an argument in the function call.\n"
   ]
  },
  {
   "cell_type": "code",
   "execution_count": 45,
   "id": "d084efbf",
   "metadata": {},
   "outputs": [],
   "source": [
    "def favorite_book(title):\n",
    "    print(f\"One of my favorite books is {title.title()}.\")"
   ]
  },
  {
   "cell_type": "code",
   "execution_count": 46,
   "id": "14f9aaaf",
   "metadata": {},
   "outputs": [
    {
     "name": "stdout",
     "output_type": "stream",
     "text": [
      "One of my favorite books is Atomic Habits.\n"
     ]
    }
   ],
   "source": [
    "favorite_book('atomic habits')"
   ]
  },
  {
   "cell_type": "markdown",
   "id": "70613162",
   "metadata": {},
   "source": [
    "**8-3 T-shirt:** Write a function called `make_shirt()` that accepts a size and the text of a message that should be printed on the shirt. The function should print a sentence summarizing the size of the shirt and the message printed on it. \n",
    "- Call the function once using the positional arguments to make a shirt. Call the function a second time using keyword arguments."
   ]
  },
  {
   "cell_type": "code",
   "execution_count": 47,
   "id": "c4c5d52d",
   "metadata": {},
   "outputs": [],
   "source": [
    "def make_shirt(size, message):\n",
    "    print(f\"Shirt size: {size.title()} \\nShirt message: {message}\")"
   ]
  },
  {
   "cell_type": "code",
   "execution_count": 48,
   "id": "957111b6",
   "metadata": {},
   "outputs": [
    {
     "name": "stdout",
     "output_type": "stream",
     "text": [
      "Shirt size: Large \n",
      "Shirt message: Hello, world!\n"
     ]
    }
   ],
   "source": [
    "make_shirt('large', 'Hello, world!')"
   ]
  },
  {
   "cell_type": "code",
   "execution_count": 49,
   "id": "d718ac6d",
   "metadata": {},
   "outputs": [
    {
     "name": "stdout",
     "output_type": "stream",
     "text": [
      "Shirt size: Large \n",
      "Shirt message: Hello, world!\n"
     ]
    }
   ],
   "source": [
    "make_shirt(size='large', message='Hello, world!')"
   ]
  },
  {
   "cell_type": "markdown",
   "id": "3dde1588",
   "metadata": {},
   "source": [
    "**8-4 Large Shirts:** Modify the `make_shirt()` function so that shirts are large by default with a message that reads `I love Python.` Make a large shirt and a medium shirt with the default message, and a shirt of any size with a different message."
   ]
  },
  {
   "cell_type": "code",
   "execution_count": 50,
   "id": "fa41e706",
   "metadata": {},
   "outputs": [],
   "source": [
    "def make_shirt(size, message='I love Pyton.'):\n",
    "    print(f\"Shirt size: {size.title()} \\nShirt message: {message}\")"
   ]
  },
  {
   "cell_type": "code",
   "execution_count": 51,
   "id": "43e13b4c",
   "metadata": {},
   "outputs": [
    {
     "name": "stdout",
     "output_type": "stream",
     "text": [
      "Shirt size: Large \n",
      "Shirt message: I love Pyton.\n"
     ]
    }
   ],
   "source": [
    "make_shirt('large')"
   ]
  },
  {
   "cell_type": "code",
   "execution_count": 52,
   "id": "6ed619b0",
   "metadata": {},
   "outputs": [
    {
     "name": "stdout",
     "output_type": "stream",
     "text": [
      "Shirt size: Medium \n",
      "Shirt message: I love Pyton.\n"
     ]
    }
   ],
   "source": [
    "make_shirt('medium')"
   ]
  },
  {
   "cell_type": "code",
   "execution_count": 53,
   "id": "82c054fa",
   "metadata": {},
   "outputs": [
    {
     "name": "stdout",
     "output_type": "stream",
     "text": [
      "Shirt size: Small \n",
      "Shirt message: Read this for good luck\n"
     ]
    }
   ],
   "source": [
    "make_shirt('small', 'Read this for good luck')"
   ]
  },
  {
   "cell_type": "markdown",
   "id": "eda88771",
   "metadata": {},
   "source": [
    "**8-5 Cities:** Write a function called `describe_city()` that accepts the name of a city and its country. The function should print a simple sentence, such as `Reykjvik is in Iceland.` Give the parameter for the country a default value. Call your function for three different cities, at least one of which is not the default country."
   ]
  },
  {
   "cell_type": "code",
   "execution_count": 54,
   "id": "35deb191",
   "metadata": {},
   "outputs": [],
   "source": [
    "def describe_city(city, country='USA'):\n",
    "    print(f\"{city.title()} is in the {country}.\")"
   ]
  },
  {
   "cell_type": "code",
   "execution_count": 55,
   "id": "b5a22d2e",
   "metadata": {},
   "outputs": [
    {
     "name": "stdout",
     "output_type": "stream",
     "text": [
      "New York is in the USA.\n"
     ]
    }
   ],
   "source": [
    "describe_city('New York')"
   ]
  },
  {
   "cell_type": "code",
   "execution_count": 56,
   "id": "ab5fe301",
   "metadata": {},
   "outputs": [
    {
     "name": "stdout",
     "output_type": "stream",
     "text": [
      "Philadelphia is in the USA.\n"
     ]
    }
   ],
   "source": [
    "describe_city('Philadelphia')"
   ]
  },
  {
   "cell_type": "code",
   "execution_count": 57,
   "id": "df20ecd7",
   "metadata": {},
   "outputs": [
    {
     "name": "stdout",
     "output_type": "stream",
     "text": [
      "London is in the United Kingdom.\n"
     ]
    }
   ],
   "source": [
    "describe_city('London', 'United Kingdom')"
   ]
  },
  {
   "cell_type": "markdown",
   "id": "3c0ffa1f",
   "metadata": {},
   "source": [
    "**8-6 City Names:** Write a function called `city_country()` that takes the name of a city and its country. The function should return a string formatted like this: `Santiago, Chicago`. Call your function with at least three city-country pairs, and print the values that are returned"
   ]
  },
  {
   "cell_type": "code",
   "execution_count": 58,
   "id": "38b8a45b",
   "metadata": {},
   "outputs": [],
   "source": [
    "def city_country(city, country):\n",
    "    pairs = f\"{city}, {country}\"\n",
    "    return pairs.title()"
   ]
  },
  {
   "cell_type": "code",
   "execution_count": 59,
   "id": "74832be8",
   "metadata": {},
   "outputs": [
    {
     "name": "stdout",
     "output_type": "stream",
     "text": [
      "New York, New York\n"
     ]
    }
   ],
   "source": [
    "country = city_country('New York', 'New York')\n",
    "print(country)"
   ]
  },
  {
   "cell_type": "code",
   "execution_count": 60,
   "id": "d0d73be0",
   "metadata": {},
   "outputs": [
    {
     "name": "stdout",
     "output_type": "stream",
     "text": [
      "Philadelphia, Pennsylvania\n"
     ]
    }
   ],
   "source": [
    "country = city_country('Philadelphia', 'Pennsylvania')\n",
    "print(country)"
   ]
  },
  {
   "cell_type": "markdown",
   "id": "95d8218f",
   "metadata": {},
   "source": [
    "**8-7 Album:** Write a function called `make_album()` that builds a dictionary describing a music album. The function should take in an artist name and an album title, and it should return a dictionary containing these two pieces of information. Use the function to make three dictionaries representing different albums. Print each return value to show that the dictionaries are storing the album correctly.\n",
    "- Use `None` to add an optional parameter to `make_album()` that allows you to store the number of songs on an album. If the calling line includes a value for the number of songs, add that value to the album's dictionary. Make at least one new function call that includes the number of songs on an album."
   ]
  },
  {
   "cell_type": "code",
   "execution_count": 61,
   "id": "86ca4f7b",
   "metadata": {},
   "outputs": [],
   "source": [
    "def make_album(artist_name, album_title, num_songs=None):\n",
    "    d = {'name' : artist_name, 'title' : album_title}\n",
    "    if num_songs:\n",
    "        d['songs'] = num_songs\n",
    "    return d"
   ]
  },
  {
   "cell_type": "code",
   "execution_count": 62,
   "id": "1e913e21",
   "metadata": {},
   "outputs": [
    {
     "name": "stdout",
     "output_type": "stream",
     "text": [
      "{'name': 'Jackson 5', 'title': 'ABC'}\n"
     ]
    }
   ],
   "source": [
    "biebs = make_album('Jackson 5', 'ABC')\n",
    "print(biebs)"
   ]
  },
  {
   "cell_type": "code",
   "execution_count": 63,
   "id": "3bcd71dc",
   "metadata": {},
   "outputs": [
    {
     "name": "stdout",
     "output_type": "stream",
     "text": [
      "{'name': 'Usher', 'title': 'Yeah!', 'songs': 12}\n"
     ]
    }
   ],
   "source": [
    "usher = make_album('Usher', 'Yeah!', num_songs=12)\n",
    "print(usher)"
   ]
  },
  {
   "cell_type": "markdown",
   "id": "ea60048d",
   "metadata": {},
   "source": [
    "**8-8 User Albums:** Start with your program from Exercise 8-7. Write a while loop that allows users to enter an album's artist and title. Once you have that information, call `make_album()` with the user's input and print the dictionary that's created. Be sure to include a quit value in the while loop."
   ]
  },
  {
   "cell_type": "code",
   "execution_count": 64,
   "id": "88731aa4",
   "metadata": {},
   "outputs": [
    {
     "name": "stdout",
     "output_type": "stream",
     "text": [
      "\n",
      "Type out the name of the artist and album\n",
      "(type 'q' to quit)\n",
      "\n",
      "Artist name: q\n"
     ]
    }
   ],
   "source": [
    "def make_album(artist_name, album_title, num_songs=None):\n",
    "    d = {'name' : artist_name, 'title' : album_title}\n",
    "    if num_songs:\n",
    "        d['songs'] = int(num_songs)\n",
    "    return d\n",
    "\n",
    "while True:\n",
    "    print(\"\\nType out the name of the artist and album\")\n",
    "    print(\"(type 'q' to quit)\\n\")\n",
    "    \n",
    "    name = input('Artist name: ')\n",
    "    if name == 'q':\n",
    "        break\n",
    "    album = input('Album name: ')\n",
    "    if album == 'q':\n",
    "        break\n",
    "    songs = int(input('Number of songs: '))\n",
    "    if songs == 'q':\n",
    "        break\n",
    "\n",
    "    artist_album = make_album(name, album, songs)\n",
    "    print(f\"\\n{artist_album}\")"
   ]
  },
  {
   "cell_type": "markdown",
   "id": "1b6519cc",
   "metadata": {},
   "source": [
    "**8-9 Messages:** Make a list containing a series of short text messages. Pass the list to a function called `show_messages()`, which prints each text message."
   ]
  },
  {
   "cell_type": "code",
   "execution_count": 65,
   "id": "bb2656d1",
   "metadata": {},
   "outputs": [],
   "source": [
    "msgs = ['Hey dude', 'Did you see the phillies game last night?',\n",
    "       'Happy birthday man']\n",
    "def show_messages(msgs):\n",
    "    for msg in msgs:\n",
    "        print(msg)"
   ]
  },
  {
   "cell_type": "code",
   "execution_count": 66,
   "id": "7d6c1de8",
   "metadata": {},
   "outputs": [
    {
     "name": "stdout",
     "output_type": "stream",
     "text": [
      "Hey dude\n",
      "Did you see the phillies game last night?\n",
      "Happy birthday man\n"
     ]
    }
   ],
   "source": [
    "show_messages(msgs)"
   ]
  },
  {
   "cell_type": "markdown",
   "id": "1405146d",
   "metadata": {},
   "source": [
    "**8-10 Sending Messages:** Start with a copy of your program from Exercise 8-9. Write a function called `send_messages()` that prints each text message and moves each message to a new list called `sent_messages` as it's printed. After calling the function, print both of your lists to make sure the messages were moved correctly."
   ]
  },
  {
   "cell_type": "code",
   "execution_count": 122,
   "id": "2bd5f20b",
   "metadata": {},
   "outputs": [],
   "source": [
    "msgs = ['Hey dude', 'Did you see the phillies game last night?',\n",
    "       'Happy birthday man']\n",
    "sent_msgs = []\n",
    "def show_messages(msgs):\n",
    "    for msg in msgs:\n",
    "        print(msg)\n",
    "        \n",
    "def send_msgs(msgs, sent_msgs):\n",
    "    while msgs:\n",
    "        current_message = msgs.pop()\n",
    "        print(f\"Moving message: {current_message}\")\n",
    "        sent_msgs.append(current_message)"
   ]
  },
  {
   "cell_type": "code",
   "execution_count": 123,
   "id": "78fca5d6",
   "metadata": {
    "scrolled": true
   },
   "outputs": [
    {
     "name": "stdout",
     "output_type": "stream",
     "text": [
      "Moving message: Happy birthday man\n",
      "Moving message: Did you see the phillies game last night?\n",
      "Moving message: Hey dude\n"
     ]
    }
   ],
   "source": [
    "send_msgs(msgs, sent_msgs)"
   ]
  },
  {
   "cell_type": "code",
   "execution_count": 124,
   "id": "687d9f7e",
   "metadata": {},
   "outputs": [
    {
     "name": "stdout",
     "output_type": "stream",
     "text": [
      "Original Messages: []\n",
      "Sent Messages: ['Happy birthday man', 'Did you see the phillies game last night?', 'Hey dude']\n"
     ]
    }
   ],
   "source": [
    "print(f\"Original Messages: {msgs}\")\n",
    "print(f\"Sent Messages: {sent_msgs}\")"
   ]
  },
  {
   "cell_type": "markdown",
   "id": "5a5db68e",
   "metadata": {},
   "source": [
    "**8-11 Archived Messages:** Start with your work from 8-10. Call the function `send_messages()` with a copy of the list of messages. After calling the function, print both of your lists to show that the original list has retained its messages."
   ]
  },
  {
   "cell_type": "code",
   "execution_count": 104,
   "id": "76818cce",
   "metadata": {},
   "outputs": [],
   "source": [
    "messages = ['Hey dude', 'Did you see the phillies game last night?',\n",
    "       'Happy birthday man']\n",
    "sent_messages = []\n",
    "\n",
    "def sending_messages(messages, sent_messages):\n",
    "    while messages:\n",
    "        current_message = messages.pop()\n",
    "        print(f\"Sending message: {current_message}\")\n",
    "        sent_messages.append(current_message)\n",
    "\n",
    "def print_sent_messages(sent_messages):\n",
    "    for message in sent_messages:\n",
    "        print(message)"
   ]
  },
  {
   "cell_type": "code",
   "execution_count": 105,
   "id": "c0a599b4",
   "metadata": {},
   "outputs": [
    {
     "name": "stdout",
     "output_type": "stream",
     "text": [
      "Sending message: Happy birthday man\n",
      "Sending message: Did you see the phillies game last night?\n",
      "Sending message: Hey dude\n"
     ]
    }
   ],
   "source": [
    "sending_messages(messages[:], sent_messages)"
   ]
  },
  {
   "cell_type": "code",
   "execution_count": 125,
   "id": "a5cc9b72",
   "metadata": {},
   "outputs": [
    {
     "name": "stdout",
     "output_type": "stream",
     "text": [
      "['Hey dude', 'Did you see the phillies game last night?', 'Happy birthday man']\n",
      "['Happy birthday man', 'Did you see the phillies game last night?', 'Hey dude']\n"
     ]
    }
   ],
   "source": [
    "print(messages)\n",
    "print(sent_messages)"
   ]
  },
  {
   "cell_type": "markdown",
   "id": "bb18ac40",
   "metadata": {},
   "source": [
    "**8-12 Sandwiches:** Write a function that accepts a list of items a person wants on a sandwich. The function should have one parameter that collects as many items as the function call provides, and it should print a summary of the sandwich that's being ordered. Call the function three times, using a different number of arguments each time."
   ]
  },
  {
   "cell_type": "code",
   "execution_count": 150,
   "id": "c067189a",
   "metadata": {},
   "outputs": [],
   "source": [
    "def make_sandwich(*args):\n",
    "    print('Making a sandwich with the follwing items:')\n",
    "    for item in args:\n",
    "        print(f\"- {item.title()}\")"
   ]
  },
  {
   "cell_type": "code",
   "execution_count": 151,
   "id": "b91ccd66",
   "metadata": {},
   "outputs": [
    {
     "name": "stdout",
     "output_type": "stream",
     "text": [
      "Making a sandwich with the follwing items:\n",
      "- Pepperoni\n"
     ]
    }
   ],
   "source": [
    "make_sandwich('pepperoni')"
   ]
  },
  {
   "cell_type": "code",
   "execution_count": 152,
   "id": "a3aa7e36",
   "metadata": {},
   "outputs": [
    {
     "name": "stdout",
     "output_type": "stream",
     "text": [
      "Making a sandwich with the follwing items:\n",
      "- Cheese\n",
      "- Extra Peppers\n",
      "- Hot Sauce\n"
     ]
    }
   ],
   "source": [
    "make_sandwich('cheese', 'extra peppers', 'hot sauce')"
   ]
  },
  {
   "cell_type": "code",
   "execution_count": 154,
   "id": "3534766b",
   "metadata": {},
   "outputs": [
    {
     "name": "stdout",
     "output_type": "stream",
     "text": [
      "Making a sandwich with the follwing items:\n",
      "- Ice Cream\n",
      "- Chicken\n"
     ]
    }
   ],
   "source": [
    "make_sandwich('ice cream', 'chicken')"
   ]
  },
  {
   "cell_type": "markdown",
   "id": "ca2a0061",
   "metadata": {},
   "source": [
    "**8-13 User Profile:** Start with a copy of `user_profile()` from page 148. Build a profile yourself by calling `build_profile()`, using your first and last names and three other key-value pairs that describe you."
   ]
  },
  {
   "cell_type": "code",
   "execution_count": 158,
   "id": "0dc40720",
   "metadata": {},
   "outputs": [
    {
     "name": "stdout",
     "output_type": "stream",
     "text": [
      "{'age': 25, 'location': 'King of Prussia', 'first': 'cj', 'last': 'hunt'}\n"
     ]
    }
   ],
   "source": [
    "def build_profile(first, last, **user_info):\n",
    "    user_info['first'] = first\n",
    "    user_info['last'] = last\n",
    "    return user_info\n",
    "\n",
    "user_profile = build_profile('cj', 'hunt', age=25, location='King of Prussia')\n",
    "print(user_profile)"
   ]
  },
  {
   "cell_type": "markdown",
   "id": "2a1b5ea2",
   "metadata": {},
   "source": [
    "**8-14 Cars:** Write a function that stores information about a car in a dictionary. The function should always receive a manufacturer and a model name. It should then accept an arbitrary number of keyword arguments. Call the function with the required information and two other name-value pairs, such as a color or an optional feature. Your function should work for a call like this one:\n",
    "\n",
    "`car = make_car('subaru', 'outback', color='blue', tow_package=True)`\n",
    "\n",
    "Print the dictionary that's returned to make sure all the information was stored correctly."
   ]
  },
  {
   "cell_type": "code",
   "execution_count": 166,
   "id": "6123e42a",
   "metadata": {},
   "outputs": [],
   "source": [
    "def make_car(manufacturer, model, **car_info):\n",
    "    car_info['manufacturer'] = manufacturer\n",
    "    car_info['model'] = model\n",
    "    return car_info"
   ]
  },
  {
   "cell_type": "code",
   "execution_count": 167,
   "id": "22e28a8c",
   "metadata": {},
   "outputs": [],
   "source": [
    "car = make_car('subaru', 'outback', color='blue', tow_package=True)\n",
    "car1 = make_car('nissan', 'pathfinder', color='gray', tow_package=True)"
   ]
  },
  {
   "cell_type": "code",
   "execution_count": 169,
   "id": "4a542ae8",
   "metadata": {},
   "outputs": [
    {
     "name": "stdout",
     "output_type": "stream",
     "text": [
      "{'color': 'blue', 'tow_package': True, 'manufacturer': 'subaru', 'model': 'outback'}\n",
      "{'color': 'gray', 'tow_package': True, 'manufacturer': 'nissan', 'model': 'pathfinder'}\n"
     ]
    }
   ],
   "source": [
    "print(car)\n",
    "print(car1)"
   ]
  },
  {
   "cell_type": "markdown",
   "id": "d6da4502",
   "metadata": {},
   "source": [
    "# Chapter 9: Classes"
   ]
  },
  {
   "cell_type": "markdown",
   "id": "a5840f33",
   "metadata": {},
   "source": [
    "Notes:"
   ]
  },
  {
   "cell_type": "code",
   "execution_count": 185,
   "id": "258e9e4c",
   "metadata": {},
   "outputs": [],
   "source": [
    "class Dog:\n",
    "    \"\"\"A simple attempt to model a dog\"\"\"\n",
    "    def __init__(self, name, age):\n",
    "        \"\"\"Initialize name and age attributes\"\"\"\n",
    "        self.name = name\n",
    "        self.age = age\n",
    "    \n",
    "    def sit(self):\n",
    "        \"\"\"Simulate a dog sitting from a command\"\"\"\n",
    "        print(f\"{self.name} is now sitting.\")\n",
    "        \n",
    "    def roll_over(self):\n",
    "        \"\"\"Simulate a dog rolling over from a command\"\"\"\n",
    "        print(f\"{self.name} rolled over!\")\n",
    "        \n",
    "    def info(self):\n",
    "        print(f\"My dog's name is {self.name} and is {self.age} years old.\")\n",
    "        print(f\"That is {(self.age) * (7)} in dog years!\")"
   ]
  },
  {
   "cell_type": "code",
   "execution_count": 186,
   "id": "836a4f6a",
   "metadata": {},
   "outputs": [],
   "source": [
    "my_dog = Dog('Buddy', 8)"
   ]
  },
  {
   "cell_type": "code",
   "execution_count": 189,
   "id": "ec30ded4",
   "metadata": {},
   "outputs": [
    {
     "name": "stdout",
     "output_type": "stream",
     "text": [
      "My dog's name is Buddy and is 8 years old.\n",
      "That is 56 in dog years!\n",
      "Buddy is now sitting.\n",
      "Buddy rolled over!\n"
     ]
    }
   ],
   "source": [
    "my_dog.info()\n",
    "my_dog.sit()\n",
    "my_dog.roll_over()"
   ]
  },
  {
   "cell_type": "markdown",
   "id": "35d54a8f",
   "metadata": {},
   "source": [
    "**9-1 Restaurant:** Make a class called `Restaurant`. The __init__() method for `Restaurant` should store two attributes: a `restaurant_name` and a `cuisine_type`. Make a method called `describe_restaurant()` that prints these two pieces of information, and a method called `open_restaurant()` that prints a message indicating that the restaurant is open.\n",
    "- Make an instance called `restaurant` from your class. Print the two attributes individually, then call both methods"
   ]
  },
  {
   "cell_type": "code",
   "execution_count": 212,
   "id": "788bc108",
   "metadata": {},
   "outputs": [],
   "source": [
    "class Restaurant:\n",
    "    \n",
    "    def __init__(self, restaurant_name, cuisine_type):\n",
    "        self.restaurant_name = restaurant_name\n",
    "        self.cuisine_type = cuisine_type\n",
    "        \n",
    "    def describe_restaurant(self):\n",
    "        print(f\"Restaurant name: {self.restaurant_name}\")\n",
    "        print(f\"Restaurant Cuisine Type: {self.cuisine_type}\\n\")\n",
    "        \n",
    "    def open_restaurant(self):\n",
    "        print(f\"{self.restaurant_name} is open.\")"
   ]
  },
  {
   "cell_type": "code",
   "execution_count": 213,
   "id": "58facbf2",
   "metadata": {},
   "outputs": [
    {
     "name": "stdout",
     "output_type": "stream",
     "text": [
      "Restaurant name: Fox and Hound\n",
      "Restaurant Cuisine Type: Sports Bar\n",
      "\n",
      "Fox and Hound is open.\n"
     ]
    }
   ],
   "source": [
    "restaurant = Restaurant('Fox and Hound', 'Sports Bar')\n",
    "restaurant.describe_restaurant()\n",
    "restaurant.open_restaurant()"
   ]
  },
  {
   "cell_type": "markdown",
   "id": "99084fd5",
   "metadata": {},
   "source": [
    "**9-2 Three Restaurants:** Start with your class from 9-1. Create three different instances from the class, and call `describe_restaurant()` for each instance. "
   ]
  },
  {
   "cell_type": "code",
   "execution_count": 214,
   "id": "109af36e",
   "metadata": {},
   "outputs": [],
   "source": [
    "restaurant_1 = Restaurant('Screwballs', 'Bar')\n",
    "restaurant_2 = Restaurant('McDonalds', 'Fast Food')\n",
    "restaurant_3 = Restaurant('Peppers', 'Dine and Dash')"
   ]
  },
  {
   "cell_type": "code",
   "execution_count": 215,
   "id": "7f6b0cdd",
   "metadata": {},
   "outputs": [
    {
     "name": "stdout",
     "output_type": "stream",
     "text": [
      "Restaurant name: Screwballs\n",
      "Restaurant Cuisine Type: Bar\n",
      "\n",
      "Restaurant name: McDonalds\n",
      "Restaurant Cuisine Type: Fast Food\n",
      "\n",
      "Restaurant name: Peppers\n",
      "Restaurant Cuisine Type: Dine and Dash\n",
      "\n"
     ]
    }
   ],
   "source": [
    "restaurant_1.describe_restaurant()\n",
    "restaurant_2.describe_restaurant()\n",
    "restaurant_3.describe_restaurant()"
   ]
  },
  {
   "cell_type": "markdown",
   "id": "81a85583",
   "metadata": {},
   "source": [
    "**9-3 Users:** Make a class called `User`. Create two attributes called `first_name` and `last_name`, and then create several other attributes that are typically stored in a user profile. Make a method called `describe_user()` that prints a summary of the user's information. Make another method called `greet_user()` that prints a personalized greeting to the user.\n",
    "- Create several instances representing different users, and call both methods for each user."
   ]
  },
  {
   "cell_type": "code",
   "execution_count": 223,
   "id": "76146581",
   "metadata": {},
   "outputs": [],
   "source": [
    "class User:\n",
    "    \n",
    "    def __init__(self, first_name, last_name, age, gender):\n",
    "        self.first_name = first_name.title()\n",
    "        self.last_name = last_name.title()\n",
    "        self.age = age\n",
    "        self.gender = gender.title()\n",
    "    \n",
    "    def describe_user(self):\n",
    "        print(f\"First Name: {self.first_name}\")\n",
    "        print(f\"Last Name: {self.last_name}\")\n",
    "        print(f\"Age: {self.age}\")\n",
    "        print(f\"Gender: {self.gender}\\n\")\n",
    "        \n",
    "    def greet_user(self):\n",
    "        print(f\"Welcome {self.first_name} {self.last_name}!\\n\")"
   ]
  },
  {
   "cell_type": "code",
   "execution_count": 225,
   "id": "a2b313fd",
   "metadata": {},
   "outputs": [
    {
     "name": "stdout",
     "output_type": "stream",
     "text": [
      "Welcome Cj Hunt!\n",
      "\n",
      "First Name: Cj\n",
      "Last Name: Hunt\n",
      "Age: 25\n",
      "Gender: Male\n",
      "\n",
      "Welcome Chris Hunt!\n",
      "\n",
      "First Name: Chris\n",
      "Last Name: Hunt\n",
      "Age: 63\n",
      "Gender: Male\n",
      "\n",
      "Welcome Maggie Hunt!\n",
      "\n",
      "First Name: Maggie\n",
      "Last Name: Hunt\n",
      "Age: 60\n",
      "Gender: Female\n",
      "\n"
     ]
    }
   ],
   "source": [
    "cj = User('cj', 'Hunt', 25, 'male')\n",
    "Chris = User('Chris', 'hunt', 63, 'male')\n",
    "Maggie = User('Maggie', 'hunt', 60, 'female')\n",
    "\n",
    "cj.greet_user()\n",
    "cj.describe_user()\n",
    "\n",
    "Chris.greet_user()\n",
    "Chris.describe_user()\n",
    "\n",
    "Maggie.greet_user()\n",
    "Maggie.describe_user()"
   ]
  },
  {
   "cell_type": "markdown",
   "id": "714eb9fb",
   "metadata": {},
   "source": [
    "**Extra Practice, Cars:** Create a class called `Car`. The class should have two attributes: `make` and `model`. Additionally, include an `odometer_reading` attribute that starts at 0 by default.\n",
    "- Add a method to the class called `read_odometer()` that prints the car's mileage.\n",
    "- Add another method called `update_odometer()` that takes in a mileage value and updates the `odometer_reading` attribute.\n",
    "- Create an instance of the `Car` class. Print the car's mileage, then update the mileage and print it again."
   ]
  },
  {
   "cell_type": "code",
   "execution_count": 334,
   "id": "f9c6a2c6",
   "metadata": {},
   "outputs": [],
   "source": [
    "class Car:\n",
    "    \n",
    "    def __init__(self, make, model):\n",
    "        self.make = make\n",
    "        self.model = model\n",
    "        self.odometer_reading = 0\n",
    "    \n",
    "    def read_odometer(self):\n",
    "        print(f\"The cars total milage is {self.odometer_reading:,}.\\n\")\n",
    "    \n",
    "    def update_odometer(self, milage):\n",
    "        if milage > 0:\n",
    "            self.odometer_reading = milage\n",
    "        else:\n",
    "            print(\"You can't roll back an odometer!\\n\")\n",
    "    \n",
    "    def increment_odometer(self, miles):\n",
    "        if miles > 0:\n",
    "            self.odometer_reading += miles\n",
    "        else:\n",
    "            print(\"You can't roll back an odometer!\\n\")"
   ]
  },
  {
   "cell_type": "code",
   "execution_count": 336,
   "id": "2be754c8",
   "metadata": {},
   "outputs": [
    {
     "name": "stdout",
     "output_type": "stream",
     "text": [
      "The cars total milage is 0.\n",
      "\n",
      "The cars total milage is 5,000.\n",
      "\n",
      "The cars total milage is 28,500.\n",
      "\n",
      "You can't roll back an odometer!\n",
      "\n",
      "You can't roll back an odometer!\n",
      "\n"
     ]
    }
   ],
   "source": [
    "# Creating inital Instance of Car\n",
    "audi = Car('Audi', 'A4')\n",
    "\n",
    "# Reading original odometer\n",
    "audi.read_odometer()\n",
    "\n",
    "# Updating odometer then checking\n",
    "audi.update_odometer(5_000)\n",
    "audi.read_odometer()\n",
    "\n",
    "# Incrementing odometer then checking\n",
    "audi.increment_odometer(23_500)\n",
    "audi.read_odometer()\n",
    "\n",
    "# Checking when negative number is added on\n",
    "audi.increment_odometer(-2)\n",
    "audi.update_odometer(-44)"
   ]
  },
  {
   "cell_type": "markdown",
   "id": "15b1999c",
   "metadata": {},
   "source": [
    "**9-4 Number Served:** Start with your program from exercise 9-1. Add an attribute called `number_served` with a default value of 0. Create an instance called `restaurant` from this class. Print the number of customers the restaurant has served, and then change this value and print it again.\n",
    "- Add a method called `set_number_served()` that lets you set the number of customers that has been served. Call this method with a new number and print the value again.\n",
    "- Add a method called `increment_number_served()` that lets you increment the number of customers who've been served. Call this method with any number you like that could represent how many customers were served in, say, a day of business."
   ]
  },
  {
   "cell_type": "code",
   "execution_count": 297,
   "id": "a71ede26",
   "metadata": {},
   "outputs": [],
   "source": [
    "class Restaurant:\n",
    "    \n",
    "    def __init__(self, restaurant_name, cuisine_type):\n",
    "        self.restaurant_name = restaurant_name\n",
    "        self.cuisine_type = cuisine_type\n",
    "        self.customers_served = 0\n",
    "        \n",
    "    def describe_restaurant(self):\n",
    "        print(f\"Restaurant name: {self.restaurant_name}\")\n",
    "        print(f\"Restaurant Cuisine Type: {self.cuisine_type}\")\n",
    "        print(f\"Customers served: {self.customers_served}\\n\")\n",
    "        \n",
    "    def open_restaurant(self):\n",
    "        print(f\"{self.restaurant_name} is now open.\\n\")\n",
    "    \n",
    "    def set_number_served(self, current_customers_served):\n",
    "        self.customers_served = current_customers_served\n",
    "        \n",
    "    def increment_number_served(self, new_customers_served):\n",
    "        self.customers_served += new_customers_served"
   ]
  },
  {
   "cell_type": "code",
   "execution_count": 298,
   "id": "6c237bce",
   "metadata": {},
   "outputs": [
    {
     "name": "stdout",
     "output_type": "stream",
     "text": [
      "Restaurant name: Fox and Hound\n",
      "Restaurant Cuisine Type: Sports Bar\n",
      "Customers served: 0\n",
      "\n",
      "Fox and Hound is now open.\n",
      "\n",
      "Restaurant name: Fox and Hound\n",
      "Restaurant Cuisine Type: Sports Bar\n",
      "Customers served: 20\n",
      "\n",
      "Restaurant name: Fox and Hound\n",
      "Restaurant Cuisine Type: Sports Bar\n",
      "Customers served: 40\n",
      "\n"
     ]
    }
   ],
   "source": [
    "restaurant = Restaurant('Fox and Hound', 'Sports Bar')\n",
    "restaurant.describe_restaurant()\n",
    "\n",
    "restaurant.open_restaurant()\n",
    "\n",
    "restaurant.set_number_served(20)\n",
    "restaurant.describe_restaurant()\n",
    "\n",
    "restaurant.increment_number_served(20)\n",
    "restaurant.describe_restaurant()"
   ]
  },
  {
   "cell_type": "markdown",
   "id": "dbeedb2c",
   "metadata": {},
   "source": [
    "**9-5 Login Attempts:** Add an attribute called `login_attempts` to your `User` class from Exercise 9-3. Write a method called `increment_login_attempts()` that increments the value of `login_attempts` by 1. Write another method called `reset_login_attempts()` that resets the value of `login_attempts` to 0\n",
    "- Make an instance of the `User` class and call `increment_login_attempts()` several times. Print the value of `login_attempts` to make sure it was incremented properly, and then call `reset_login_attempts()`. Print `login_attempts` again to make sure it was reset to 0."
   ]
  },
  {
   "cell_type": "code",
   "execution_count": 534,
   "id": "547a6357",
   "metadata": {},
   "outputs": [],
   "source": [
    "class User:\n",
    "    def __init__(self, first_name, last_name, age, gender):\n",
    "        self.first_name = first_name.title()\n",
    "        self.last_name = last_name.title()\n",
    "        self.age = age\n",
    "        self.gender = gender.title()\n",
    "        self.login_attempts = 0\n",
    "        self.user = f\"{first_name.title()} {last_name.title()}\"\n",
    "    \n",
    "    def describe_user(self):\n",
    "        print(f\"First Name: {self.first_name}\")\n",
    "        print(f\"Last Name: {self.last_name}\")\n",
    "        print(f\"Age: {self.age}\")\n",
    "        print(f\"Gender: {self.gender}\")\n",
    "        print(f\"Login attempts: {self.login_attempts}\\n\")\n",
    "        \n",
    "    def greet_user(self):\n",
    "        print(f\"Welcome {self.user}!\\n\")\n",
    "        \n",
    "    def increment_login_attempts(self):\n",
    "        self.login_attempts += 1\n",
    "        print(\"Attempting to login...\")\n",
    "        if self.login_attempts > 3:\n",
    "            print(\"You're account has been locked.\\n\")\n",
    "            \n",
    "    def reset_login_attempts(self):\n",
    "        print(f\"Resetting {self.user} login attempts...\")\n",
    "        self.login_attempts = 0\n",
    "        \n",
    "    def attempts(self):\n",
    "        print(f\"\\nUser: {self.user}\")\n",
    "        print(f\"Login attempts: {self.login_attempts}\\n\")"
   ]
  },
  {
   "cell_type": "code",
   "execution_count": 535,
   "id": "fb639157",
   "metadata": {},
   "outputs": [
    {
     "name": "stdout",
     "output_type": "stream",
     "text": [
      "Welcome Cj Hunt!\n",
      "\n",
      "First Name: Cj\n",
      "Last Name: Hunt\n",
      "Age: 25\n",
      "Gender: Male\n",
      "Login attempts: 0\n",
      "\n",
      "Attempting to login...\n",
      "Attempting to login...\n",
      "Attempting to login...\n",
      "\n",
      "User: Cj Hunt\n",
      "Login attempts: 3\n",
      "\n",
      "Attempting to login...\n",
      "You're account has been locked.\n",
      "\n",
      "Resetting Cj Hunt login attempts...\n",
      "\n",
      "User: Cj Hunt\n",
      "Login attempts: 0\n",
      "\n"
     ]
    }
   ],
   "source": [
    "cj = User('cj', 'Hunt', 25, 'male')\n",
    "\n",
    "# Greeting user and describe initial state\n",
    "cj.greet_user()\n",
    "cj.describe_user()\n",
    "\n",
    "# Updating login attempts 3 times\n",
    "cj.increment_login_attempts()\n",
    "cj.increment_login_attempts()\n",
    "cj.increment_login_attempts()\n",
    "\n",
    "# Checking the 3th attempt\n",
    "cj.attempts()\n",
    "\n",
    "# Locking account\n",
    "cj.increment_login_attempts()\n",
    "\n",
    "# Resetting login attempts\n",
    "cj.reset_login_attempts()\n",
    "cj.attempts()"
   ]
  },
  {
   "cell_type": "markdown",
   "id": "9403576f",
   "metadata": {},
   "source": [
    "**Bank Account Management:** Develop a Python class named `Bank_Account` to facilitate the management of a user's bank account. Follow these steps to implement the class:\n",
    "\n",
    "1. Create private attributes `__current_balance`, `__money_in`, and `__money_out` within the class to store relevant account information securely.\n",
    "2. Define a method `summary()` to provide a formatted display of the current balance.\n",
    "3. Implement a `withdraw(money_out)` method enabling users to withdraw funds, ensuring validity checks on withdrawal amounts.\n",
    "4. Provide a `deposit(money_in)` method allowing users to add funds to their account, rejecting negative deposit amounts.\n",
    "5. Utilize the encapsulation principle by prefixing private attributes with double underscores.\n",
    "\n",
    "Once implemented, instantiate the `Bank_Account` class and perform the following actions:\n",
    "- Call `withdraw()` and `deposit()` methods to simulate transactions.\n",
    "- Verify that the account balance is updated accurately after each transaction.\n",
    "- Ensure that invalid transactions are handled appropriately."
   ]
  },
  {
   "cell_type": "code",
   "execution_count": 496,
   "id": "ac2433a5",
   "metadata": {},
   "outputs": [],
   "source": [
    "class Bank_Account:\n",
    "    \n",
    "    def __init__(self, f_name, l_name):\n",
    "        self.f_name = f_name.title()\n",
    "        self.l_name = l_name.title()\n",
    "        self.full_name = f\"{f_name.title()} {l_name.title()}\"\n",
    "        self.__current_balance = 0\n",
    "        self.__money_in = 0\n",
    "        self.__money_out = 0\n",
    "        \n",
    "    def summary(self):\n",
    "        print(f\"Account: {self.full_name}\")\n",
    "        print(f\"Current Balance: ${self.__current_balance:,.2f}\\n\")\n",
    "        \n",
    "    def withdraw(self, money_out):\n",
    "        if self.__current_balance > money_out:\n",
    "            self.__current_balance -= money_out\n",
    "            print(f\"Withdrawing: ${money_out:,.2f}\\n\")\n",
    "        else:\n",
    "            print(f\"You cannot withdraw more than ${self.__current_balance:,.2f}.\\n\")\n",
    "            \n",
    "    def deposit(self, money_in):\n",
    "        if money_in > 0:\n",
    "            print(f\"Depositing: ${money_in:,.2f}\\n\")\n",
    "            self.__current_balance += money_in\n",
    "        else:\n",
    "            print(f\"Sorry man, you cannot deposit negative amounts\\n\")"
   ]
  },
  {
   "cell_type": "code",
   "execution_count": 498,
   "id": "93885aa4",
   "metadata": {
    "scrolled": true
   },
   "outputs": [
    {
     "name": "stdout",
     "output_type": "stream",
     "text": [
      "Account: Michael Jordan\n",
      "Current Balance: $0.00\n",
      "\n",
      "Depositing: $2,000,000.00\n",
      "\n",
      "Withdrawing: $150,250.99\n",
      "\n",
      "Account: Michael Jordan\n",
      "Current Balance: $1,849,749.01\n",
      "\n"
     ]
    }
   ],
   "source": [
    "account1 = Bank_Account('Michael', 'jordan')\n",
    "account1.summary()\n",
    "\n",
    "account1.deposit(2_000_000)\n",
    "account1.withdraw(150_250.99)\n",
    "\n",
    "account1.summary()"
   ]
  },
  {
   "cell_type": "code",
   "execution_count": 622,
   "id": "b5489c53",
   "metadata": {},
   "outputs": [],
   "source": [
    "class Car:\n",
    "    \n",
    "    def __init__(self, make, model, year):\n",
    "        self.make = make\n",
    "        self.model = model\n",
    "        self.year = year\n",
    "        self.odometer_reading = 0\n",
    "    \n",
    "    def read_odometer(self):\n",
    "        print(f\"The cars total milage is {self.odometer_reading:,}.\\n\")\n",
    "    \n",
    "    def update_odometer(self, milage):\n",
    "        if milage > 0:\n",
    "            self.odometer_reading = milage\n",
    "        else:\n",
    "            print(\"You can't roll back an odometer!\\n\")\n",
    "    \n",
    "    def increment_odometer(self, miles):\n",
    "        if miles > 0:\n",
    "            self.odometer_reading += miles\n",
    "        else:\n",
    "            print(\"You can't roll back an odometer!\\n\")\n",
    "\n",
    "class Battery:\n",
    "    \n",
    "    def __init__(self, battery_size=40):\n",
    "        self.battery_size = battery_size\n",
    "    \n",
    "    def describe_battery(self):\n",
    "        print(f\"This car has a {self.battery_size}-kWh battery.\")\n",
    "        \n",
    "    def get_range(self):\n",
    "        if self.battery_size == 40:\n",
    "            distance = 150\n",
    "        elif self.battery_size == 65:\n",
    "            distance = 225\n",
    "        print(f\"This car will go about {distance} miles on a full charge.\")\n",
    "        \n",
    "        \n",
    "class Charge:\n",
    "    \n",
    "    def __init__(self, battery_size=40):\n",
    "        self.battery_size = battery_size\n",
    "        \n",
    "    def describe_charge_time(self):\n",
    "        if self.battery_size == 40:\n",
    "            charge_time = 30\n",
    "        elif self.battery_size == 65:\n",
    "            charge_time = 45\n",
    "        yeah = f\"{self.battery_size}-kWh battery will take\" \n",
    "        yeah += f\" about {charge_time} minutes to charge.\"\n",
    "        print(yeah)\n",
    "        \n",
    "class ElectricCar(Car):\n",
    "    \n",
    "    def __init__(self, make, model, year):\n",
    "        super().__init__(make, model, year)\n",
    "        self.battery = Battery()\n",
    "        self.charge = Charge(self.battery.battery_size)\n",
    "        \n",
    "    def upgrade_battery(self, new_battery):\n",
    "        self.battery.battery_size = new_battery\n",
    "        self.charge.battery_size = new_battery"
   ]
  },
  {
   "cell_type": "code",
   "execution_count": 623,
   "id": "5b811f78",
   "metadata": {},
   "outputs": [
    {
     "name": "stdout",
     "output_type": "stream",
     "text": [
      "This car has a 40-kWh battery.\n",
      "This car will go about 150 miles on a full charge.\n",
      "40-kWh battery will take about 30 minutes to charge.\n",
      "65-kWh battery will take about 45 minutes to charge.\n"
     ]
    }
   ],
   "source": [
    "my_leaf = ElectricCar('nissan', 'leaf', 2024)\n",
    "# When you want to view anything battery related\n",
    "# and there is a separate class 'Battery'\n",
    "# You need to call that class '.battery' after the variable you made for your car\n",
    "# then call the method provided (describe_battery, get_range)\n",
    "my_leaf.battery.describe_battery()\n",
    "my_leaf.battery.get_range()\n",
    "\n",
    "\n",
    "# Checking the charge time\n",
    "my_leaf.charge.describe_charge_time()\n",
    "my_leaf.upgrade_battery(65)\n",
    "my_leaf.charge.describe_charge_time()"
   ]
  },
  {
   "cell_type": "code",
   "execution_count": 642,
   "id": "7cecbf7d",
   "metadata": {},
   "outputs": [],
   "source": [
    "class Car:\n",
    "    \n",
    "    def __init__(self, make, model, year):\n",
    "        self.make = make\n",
    "        self.model = model\n",
    "        self.year = year\n",
    "        self.odometer_reading = 0\n",
    "    \n",
    "    def read_odometer(self):\n",
    "        print(f\"The cars total milage is {self.odometer_reading:,}.\\n\")\n",
    "    \n",
    "    def update_odometer(self, milage):\n",
    "        if milage > 0:\n",
    "            self.odometer_reading = milage\n",
    "        else:\n",
    "            print(\"You can't roll back an odometer!\\n\")\n",
    "    \n",
    "    def increment_odometer(self, miles):\n",
    "        if miles > 0:\n",
    "            self.odometer_reading += miles\n",
    "        else:\n",
    "            print(\"You can't roll back an odometer!\\n\")\n",
    "\n",
    "class Battery:\n",
    "    \n",
    "    def __init__(self, battery_size=40):\n",
    "        self.battery_size = battery_size\n",
    "    \n",
    "    def describe_battery(self):\n",
    "        print(f\"This car has a {self.battery_size}-kWh battery.\")\n",
    "        \n",
    "    def get_range(self):\n",
    "        if self.battery_size == 40:\n",
    "            distance = 150\n",
    "        elif self.battery_size == 65:\n",
    "            distance = 225\n",
    "        print(f\"This car will go about {distance} miles on a full charge.\")\n",
    "    \n",
    "    def charge_time(self):\n",
    "        if self.battery_size == 40:\n",
    "            time = 30\n",
    "        elif self.battery_size == 65:\n",
    "            time = 45\n",
    "        print(f\"A {self.battery_size}-kWh battery will take {time} minutes to charge.\")\n",
    "\n",
    "    def weight_of_battery(self):\n",
    "        if self.battery_size == 40:\n",
    "            weight = 20\n",
    "        elif self.battery_size == 65:\n",
    "            weight = 35\n",
    "        print(f\"A {self.battery_size}-kWh battery weighs {weight} pounds.\\n\")\n",
    "        \n",
    "class ElectricCar(Car):\n",
    "    \n",
    "    def __init__(self, make, model, year):\n",
    "        super().__init__(make, model, year)\n",
    "        # sets the attribute 'battery' to the Battery class\n",
    "        self.battery = Battery()\n",
    "        \n",
    "    def upgrade_battery(self, new_battery):\n",
    "        # calls the battery attribute then battery_size, and sets it to new_battery\n",
    "        self.battery.battery_size = new_battery"
   ]
  },
  {
   "cell_type": "markdown",
   "id": "59d612d7",
   "metadata": {},
   "source": [
    "**9-6 Ice Cream Stand:** An ice cream stand is a specific kind of restaurant. Write a class called `IceCreamStand` that inherits from the `Restaurant` class you wrote in Exercise 9-1 or 9-4. Either version of the class will work. Add an attribute called `flavors` that stores a list of ice cream flavors. Write a method that displays these flavors. Create an instance of `IceCreamStand`, and call this method."
   ]
  },
  {
   "cell_type": "code",
   "execution_count": 659,
   "id": "056378db",
   "metadata": {},
   "outputs": [],
   "source": [
    "class Restaurant:\n",
    "    \n",
    "    def __init__(self, restaurant_name, cuisine_type):\n",
    "        self.restaurant_name = restaurant_name\n",
    "        self.cuisine_type = cuisine_type\n",
    "        self.customers_served = 0\n",
    "        \n",
    "    def describe_restaurant(self):\n",
    "        print(f\"Restaurant name: {self.restaurant_name}\")\n",
    "        print(f\"Restaurant Cuisine Type: {self.cuisine_type}\")\n",
    "        print(f\"Customers served: {self.customers_served}\\n\")\n",
    "        \n",
    "    def open_restaurant(self):\n",
    "        print(f\"{self.restaurant_name} is now open.\\n\")\n",
    "    \n",
    "    def set_number_served(self, current_customers_served):\n",
    "        self.customers_served = current_customers_served\n",
    "        \n",
    "    def increment_number_served(self, new_customers_served):\n",
    "        self.customers_served += new_customers_served\n",
    "        \n",
    "class IceCreamStand(Restaurant):\n",
    "    \n",
    "    def __init__(self, restaurant_name, cuisine_type):\n",
    "        super().__init__(restaurant_name, cuisine_type)\n",
    "        self.flavors = ['strawberry', 'vanilla', 'chocolate', 'mint', 'cookie dough']\n",
    "    \n",
    "    def show_flavors(self):\n",
    "        for flavor in self.flavors:\n",
    "            print(flavor)"
   ]
  },
  {
   "cell_type": "code",
   "execution_count": 661,
   "id": "3e0d62ff",
   "metadata": {},
   "outputs": [
    {
     "name": "stdout",
     "output_type": "stream",
     "text": [
      "strawberry\n",
      "vanilla\n",
      "chocolate\n",
      "mint\n",
      "cookie dough\n"
     ]
    }
   ],
   "source": [
    "# Create an instance of IceCreamStand with only two arguments\n",
    "ice_cream_stand = IceCreamStand(\"Scoops\", \"Ice Cream\")\n",
    "\n",
    "# Call the show_flavors method\n",
    "ice_cream_stand.show_flavors()"
   ]
  },
  {
   "cell_type": "markdown",
   "id": "5a47dc7c",
   "metadata": {},
   "source": [
    "**9-7 Admin:** An administrator is a special kind of user. write a class called `Admin` that inherits from the `User` class you wrote in Exercise 9-3 or 9-5. Add an attribute `privileges` that stores a list of strings like `can add post`, `can delete post`, `can ban user`, and so on. Write a method called `show_privileges()` that lists the administrator's set of privileges. Create an instance of `Admin`, and call your method."
   ]
  },
  {
   "cell_type": "code",
   "execution_count": 671,
   "id": "73c3e79f",
   "metadata": {},
   "outputs": [],
   "source": [
    "class User:\n",
    "    def __init__(self, first_name, last_name, age, gender):\n",
    "        self.first_name = first_name.title()\n",
    "        self.last_name = last_name.title()\n",
    "        self.age = age\n",
    "        self.gender = gender.title()\n",
    "        self.login_attempts = 0\n",
    "        self.user = f\"{first_name.title()} {last_name.title()}\"\n",
    "    \n",
    "    def describe_user(self):\n",
    "        print(f\"First Name: {self.first_name}\")\n",
    "        print(f\"Last Name: {self.last_name}\")\n",
    "        print(f\"Age: {self.age}\")\n",
    "        print(f\"Gender: {self.gender}\")\n",
    "        print(f\"Login attempts: {self.login_attempts}\\n\")\n",
    "        \n",
    "    def greet_user(self):\n",
    "        print(f\"Welcome {self.user}!\\n\")\n",
    "        \n",
    "    def increment_login_attempts(self):\n",
    "        self.login_attempts += 1\n",
    "        print(\"Attempting to login...\")\n",
    "        if self.login_attempts > 3:\n",
    "            print(\"You're account has been locked.\\n\")\n",
    "            \n",
    "    def reset_login_attempts(self):\n",
    "        print(f\"Resetting {self.user} login attempts...\")\n",
    "        self.login_attempts = 0\n",
    "        \n",
    "    def attempts(self):\n",
    "        print(f\"\\nUser: {self.user}\")\n",
    "        print(f\"Login attempts: {self.login_attempts}\\n\")\n",
    "        \n",
    "class Admin(User):\n",
    "    \n",
    "    def __init__(self, first_name, last_name, age, gender):\n",
    "        super().__init__(first_name, last_name, age, gender)\n",
    "        self.privileges = ['Can edit post', 'Can delete post', 'Can ban user']\n",
    "        \n",
    "    def show_privileges(self):\n",
    "        print(\"Admin has the following privileges:\")\n",
    "        for privilege in self.privileges:\n",
    "            print(f\"- {privilege}\")"
   ]
  },
  {
   "cell_type": "code",
   "execution_count": 674,
   "id": "e481cff4",
   "metadata": {},
   "outputs": [
    {
     "name": "stdout",
     "output_type": "stream",
     "text": [
      "Welcome Cj Hunt!\n",
      "\n",
      "Admin has the following privileges:\n",
      "- Can edit post\n",
      "- Can delete post\n",
      "- Can ban user\n"
     ]
    }
   ],
   "source": [
    "cj = Admin('cj', 'Hunt', 25, 'male')\n",
    "\n",
    "cj.greet_user()\n",
    "cj.show_privileges() \n"
   ]
  },
  {
   "cell_type": "markdown",
   "id": "03f7d7bf",
   "metadata": {},
   "source": [
    "**9-8 Privileges:** Write a separate `Privileges` class. The class should have one attribute `privileges` that stores a list of strings as described in 9-7. Move the `show_privileges()` method to this class. Make a `Privileges` instance as an attribute in the `Admin` class. Create a new instance of `Admin` and use your method to show its privileges."
   ]
  },
  {
   "cell_type": "code",
   "execution_count": 720,
   "id": "db5f5063",
   "metadata": {},
   "outputs": [],
   "source": [
    "class User:\n",
    "    def __init__(self, first_name, last_name, age, gender):\n",
    "        self.first_name = first_name.title()\n",
    "        self.last_name = last_name.title()\n",
    "        self.age = age\n",
    "        self.gender = gender.title()\n",
    "        self.login_attempts = 0\n",
    "        self.user = f\"{first_name.title()} {last_name.title()}\"\n",
    "    \n",
    "    def describe_user(self):\n",
    "        print(f\"First Name: {self.first_name}\")\n",
    "        print(f\"Last Name: {self.last_name}\")\n",
    "        print(f\"Age: {self.age}\")\n",
    "        print(f\"Gender: {self.gender}\")\n",
    "        print(f\"Login attempts: {self.login_attempts}\\n\")\n",
    "        \n",
    "    def greet_user(self):\n",
    "        print(f\"Welcome {self.user}!\\n\")\n",
    "        \n",
    "    def increment_login_attempts(self):\n",
    "        self.login_attempts += 1\n",
    "        print(\"Attempting to login...\")\n",
    "        if self.login_attempts > 3:\n",
    "            print(\"You're account has been locked.\\n\")\n",
    "            \n",
    "    def reset_login_attempts(self):\n",
    "        print(f\"Resetting {self.user} login attempts...\")\n",
    "        self.login_attempts = 0\n",
    "        \n",
    "    def attempts(self):\n",
    "        print(f\"\\nUser: {self.user}\")\n",
    "        print(f\"Login attempts: {self.login_attempts}\\n\")\n",
    "        \n",
    "        \n",
    "class Privilege:\n",
    "    \n",
    "    def __init__(self, privileges):\n",
    "        self.privileges = ['Can edit post', 'Can delete post', 'Can ban user']\n",
    "        \n",
    "    def show_privileges(self):\n",
    "        print(\"Admin has the following privileges:\")\n",
    "        for privilege in self.privileges:\n",
    "            print(f\"- {privilege}\")\n",
    "    \n",
    "class Admin(User):\n",
    "    \n",
    "    def __init__(self, first_name, last_name, age, gender):\n",
    "        super().__init__(first_name, last_name, age, gender)\n",
    "        self.privileges = Privilege([])"
   ]
  },
  {
   "cell_type": "code",
   "execution_count": 722,
   "id": "1437cb89",
   "metadata": {
    "scrolled": true
   },
   "outputs": [
    {
     "name": "stdout",
     "output_type": "stream",
     "text": [
      "Admin has the following privileges:\n",
      "- Can edit post\n",
      "- Can delete post\n",
      "- Can ban user\n"
     ]
    }
   ],
   "source": [
    "# Create an admin instance\n",
    "admin = Admin(\"John\", \"Doe\", 30, \"male\")\n",
    "\n",
    "# Call the method to display privileges\n",
    "admin.privileges.show_privileges()"
   ]
  },
  {
   "cell_type": "markdown",
   "id": "fa4af2da",
   "metadata": {},
   "source": [
    "**9-9 Battery Usage:** Use the final version of electric_car from this section. Add a method to the `Battery` class called `upgrade_battery()`. This method should check the size of the batter and set the capacity to 65 if it isn't already. Make an electric car with a default battery size and call `get_range()` once, and then call `get_range()` a second time after upgrading the battery. You should see an increase in the car's range."
   ]
  },
  {
   "cell_type": "code",
   "execution_count": 755,
   "id": "44598611",
   "metadata": {},
   "outputs": [],
   "source": [
    "class Car:\n",
    "    \n",
    "    def __init__(self, make, model, year):\n",
    "        self.make = make\n",
    "        self.model = model\n",
    "        self.year = year\n",
    "        self.odometer_reading = 0\n",
    "    \n",
    "    def read_odometer(self):\n",
    "        print(f\"The cars total milage is {self.odometer_reading:,}.\\n\")\n",
    "    \n",
    "    def update_odometer(self, milage):\n",
    "        if milage > 0:\n",
    "            self.odometer_reading = milage\n",
    "        else:\n",
    "            print(\"You can't roll back an odometer!\\n\")\n",
    "    \n",
    "    def increment_odometer(self, miles):\n",
    "        if miles > 0:\n",
    "            self.odometer_reading += miles\n",
    "        else:\n",
    "            print(\"You can't roll back an odometer!\\n\")\n",
    "\n",
    "class Battery:\n",
    "    \n",
    "    def __init__(self, battery_size=40):\n",
    "        self.battery_size = battery_size\n",
    "    \n",
    "    def describe_battery(self):\n",
    "        print(f\"This car has a {self.battery_size}-kWh battery.\")\n",
    "        \n",
    "    def get_range(self):\n",
    "        if self.battery_size == 40:\n",
    "            distance = 150\n",
    "        elif self.battery_size == 65:\n",
    "            distance = 225\n",
    "        print(f\"This car will go about {distance} miles on a full charge.\\n\")\n",
    "        \n",
    "    def upgrade_battery(self, new_battery):\n",
    "        if self.battery_size < 65:\n",
    "            self.battery_size = 65\n",
    "        \n",
    "        \n",
    "class ElectricCar(Car):\n",
    "    \n",
    "    def __init__(self, make, model, year):\n",
    "        super().__init__(make, model, year)\n",
    "        # sets the attribute 'battery' to the Battery class\n",
    "        self.battery = Battery()"
   ]
  },
  {
   "cell_type": "code",
   "execution_count": 756,
   "id": "cdee7235",
   "metadata": {},
   "outputs": [
    {
     "name": "stdout",
     "output_type": "stream",
     "text": [
      "This car has a 40-kWh battery.\n",
      "This car will go about 150 miles on a full charge.\n",
      "\n",
      "This car has a 65-kWh battery.\n",
      "This car will go about 225 miles on a full charge.\n",
      "\n"
     ]
    }
   ],
   "source": [
    "my_leaf = ElectricCar('nissan', 'leaf', 2024)\n",
    "\n",
    "# 40 kWh battery\n",
    "my_leaf.battery.describe_battery()\n",
    "my_leaf.battery.get_range()\n",
    "\n",
    "# 65 kWh battery\n",
    "my_leaf.battery.upgrade_battery(65)\n",
    "my_leaf.battery.describe_battery()\n",
    "my_leaf.battery.get_range()"
   ]
  },
  {
   "cell_type": "code",
   "execution_count": null,
   "id": "84a76a50",
   "metadata": {},
   "outputs": [],
   "source": []
  }
 ],
 "metadata": {
  "kernelspec": {
   "display_name": "Python (dojo-env)",
   "language": "python",
   "name": "dojo-env"
  },
  "language_info": {
   "codemirror_mode": {
    "name": "ipython",
    "version": 3
   },
   "file_extension": ".py",
   "mimetype": "text/x-python",
   "name": "python",
   "nbconvert_exporter": "python",
   "pygments_lexer": "ipython3",
   "version": "3.9.15"
  },
  "toc": {
   "base_numbering": 1,
   "nav_menu": {},
   "number_sections": false,
   "sideBar": true,
   "skip_h1_title": false,
   "title_cell": "Table of Contents",
   "title_sidebar": "Contents",
   "toc_cell": false,
   "toc_position": {},
   "toc_section_display": true,
   "toc_window_display": false
  }
 },
 "nbformat": 4,
 "nbformat_minor": 5
}
