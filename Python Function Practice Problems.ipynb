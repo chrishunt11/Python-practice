{
 "cells": [
  {
   "cell_type": "markdown",
   "id": "385df7b9",
   "metadata": {},
   "source": [
    "# Python Function Practice Problems"
   ]
  },
  {
   "cell_type": "markdown",
   "id": "9851e486",
   "metadata": {
    "heading_collapsed": true
   },
   "source": [
    "## **Problem 1:**\n",
    "\n",
    "Write a Python function called `count_vowels` that takes a string as input and returns the count of vowels (a, e, i, o, u) in the string. The function should be case-insensitive, meaning it should count both uppercase and lowercase vowels.\n",
    "\n",
    "For example:\n",
    "- `count_vowels(\"Hello\")` should return 2 because there are two vowels 'e' in the string.\n",
    "- `count_vowels(\"Python\")` should return 1 because there is one vowel 'o' in the string.\n",
    "- `count_vowels(\"Programming\")` should return 3 because there are three vowels 'o', 'a', and 'i' in the string.\n",
    "\n",
    "Once you've written the function, you can test it with different strings to ensure it works correctly."
   ]
  },
  {
   "cell_type": "markdown",
   "id": "842e30e8",
   "metadata": {
    "heading_collapsed": true,
    "hidden": true
   },
   "source": [
    "### Attempt 1:"
   ]
  },
  {
   "cell_type": "code",
   "execution_count": 1,
   "id": "d4fd2b01",
   "metadata": {
    "hidden": true
   },
   "outputs": [],
   "source": [
    "def count_vowels(string):\n",
    "    \n",
    "    # Creating a string of vowels\n",
    "    vowels = 'aeiou'\n",
    "    \n",
    "    # Setting count\n",
    "    count = 0\n",
    "    \n",
    "    # Iterating through each character in the string\n",
    "    for char in string.lower():\n",
    "        if char in vowels:\n",
    "            \n",
    "            # adding 1 to the count for every vowel\n",
    "            count += 1\n",
    "    return count"
   ]
  },
  {
   "cell_type": "code",
   "execution_count": 228,
   "id": "f37b4e86",
   "metadata": {
    "hidden": true
   },
   "outputs": [
    {
     "data": {
      "text/plain": [
       "3"
      ]
     },
     "execution_count": 228,
     "metadata": {},
     "output_type": "execute_result"
    }
   ],
   "source": [
    "count_vowels(\"Programming\")"
   ]
  },
  {
   "cell_type": "markdown",
   "id": "e8f8e144",
   "metadata": {
    "heading_collapsed": true,
    "hidden": true
   },
   "source": [
    "### Attempt 2:"
   ]
  },
  {
   "cell_type": "code",
   "execution_count": 225,
   "id": "4aeca86f",
   "metadata": {
    "hidden": true
   },
   "outputs": [],
   "source": [
    "def count_vowels(string):\n",
    "    vowels = 'aeiou'\n",
    "    count = 0\n",
    "    for char in string.lower():\n",
    "        if char in vowels:\n",
    "            count += 1\n",
    "            \n",
    "    return count"
   ]
  },
  {
   "cell_type": "code",
   "execution_count": 227,
   "id": "768e33df",
   "metadata": {
    "hidden": true
   },
   "outputs": [
    {
     "data": {
      "text/plain": [
       "3"
      ]
     },
     "execution_count": 227,
     "metadata": {},
     "output_type": "execute_result"
    }
   ],
   "source": [
    "count_vowels(\"Programming\")"
   ]
  },
  {
   "cell_type": "markdown",
   "id": "e8e1b4fe",
   "metadata": {},
   "source": [
    "## **Problem 2:**\n",
    "\n",
    "Write a Python function called `reverse_words` that takes a string as input and returns the string with the order of words reversed. Words in the input string are separated by spaces. You should preserve the spaces between words in the output string.\n",
    "\n",
    "For example:\n",
    "- `reverse_words(\"Hello World\")` should return \"World Hello\".\n",
    "- `reverse_words(\"Python is fun\")` should return \"fun is Python\".\n",
    "- `reverse_words(\"Keep coding and learning\")` should return \"learning and coding Keep\".\n",
    "\n",
    "Once you've written the function, you can test it with different strings to ensure it works correctly."
   ]
  },
  {
   "cell_type": "markdown",
   "id": "f0a29cef",
   "metadata": {},
   "source": [
    "### Attempt 1:"
   ]
  },
  {
   "cell_type": "code",
   "execution_count": 3,
   "id": "1b3b9cc6",
   "metadata": {},
   "outputs": [],
   "source": [
    "def reverse_words(string):\n",
    "    # split the words in the string\n",
    "    words = string.split()\n",
    "    \n",
    "    # reverse the order of the words\n",
    "    reversed_words = reversed(words)\n",
    "    \n",
    "    # join the words back together\n",
    "    reversed_string = ' '.join(reversed_words)\n",
    "    \n",
    "    return reversed_string"
   ]
  },
  {
   "cell_type": "code",
   "execution_count": 4,
   "id": "22dc1dff",
   "metadata": {
    "scrolled": true
   },
   "outputs": [
    {
     "data": {
      "text/plain": [
       "'you Hey'"
      ]
     },
     "execution_count": 4,
     "metadata": {},
     "output_type": "execute_result"
    }
   ],
   "source": [
    "reverse_words('Hey you')"
   ]
  },
  {
   "cell_type": "code",
   "execution_count": null,
   "id": "ea6b1e16",
   "metadata": {},
   "outputs": [],
   "source": []
  },
  {
   "cell_type": "markdown",
   "id": "70332fe5",
   "metadata": {},
   "source": [
    "### Attempt 2:"
   ]
  },
  {
   "cell_type": "code",
   "execution_count": 232,
   "id": "836bf3ce",
   "metadata": {},
   "outputs": [],
   "source": [
    "def reverse_words(string):\n",
    "    words = string.split()\n",
    "    \n",
    "    reversed_words = reversed(words)\n",
    "    \n",
    "    reversed_string = ' '.join(reversed_words)\n",
    "    \n",
    "    return reversed_string"
   ]
  },
  {
   "cell_type": "code",
   "execution_count": 233,
   "id": "86ca0254",
   "metadata": {},
   "outputs": [
    {
     "data": {
      "text/plain": [
       "'learning and coding Keep'"
      ]
     },
     "execution_count": 233,
     "metadata": {},
     "output_type": "execute_result"
    }
   ],
   "source": [
    "reverse_words(\"Keep coding and learning\")"
   ]
  },
  {
   "cell_type": "markdown",
   "id": "8dbf0a62",
   "metadata": {},
   "source": [
    "## **Problem 3:**\n",
    "\n",
    "Write a Python function called `remove_duplicates` that takes a list as input and returns a new list with duplicates removed, preserving the original order of elements. \n",
    "\n",
    "For example:\n",
    "- `remove_duplicates([1, 2, 3, 2, 4, 5, 1])` should return `[1, 2, 3, 4, 5]`.\n",
    "- `remove_duplicates(['a', 'b', 'c', 'a', 'd', 'b', 'e'])` should return `['a', 'b', 'c', 'd', 'e']`.\n",
    "\n",
    "Once you've written the function, you can test it with different lists to ensure it works correctly."
   ]
  },
  {
   "cell_type": "markdown",
   "id": "07971db5",
   "metadata": {
    "heading_collapsed": true
   },
   "source": [
    "### Attempt 1:"
   ]
  },
  {
   "cell_type": "code",
   "execution_count": 5,
   "id": "648ce675",
   "metadata": {
    "hidden": true
   },
   "outputs": [],
   "source": [
    "def remove_duplicates(lst):\n",
    "    new_list = []\n",
    "    for i in lst:\n",
    "        if i not in new_list:\n",
    "            new_list.append(i)\n",
    "            \n",
    "    return new_list"
   ]
  },
  {
   "cell_type": "code",
   "execution_count": 6,
   "id": "32d2089b",
   "metadata": {
    "hidden": true
   },
   "outputs": [
    {
     "data": {
      "text/plain": [
       "['a', 'b', 'c', 'd', 'e']"
      ]
     },
     "execution_count": 6,
     "metadata": {},
     "output_type": "execute_result"
    }
   ],
   "source": [
    "remove_duplicates(['a', 'b', 'c', 'a', 'd', 'b', 'e'])"
   ]
  },
  {
   "cell_type": "markdown",
   "id": "4ea502b5",
   "metadata": {},
   "source": [
    "### Attempt 2:"
   ]
  },
  {
   "cell_type": "code",
   "execution_count": 242,
   "id": "b3c004fb",
   "metadata": {},
   "outputs": [],
   "source": [
    "def remove_duplicates(lst):\n",
    "    new_list = []\n",
    "    for item in lst:\n",
    "        if item not in new_list:\n",
    "            new_list.append(item)\n",
    "            \n",
    "    return new_list"
   ]
  },
  {
   "cell_type": "code",
   "execution_count": 243,
   "id": "c15d8b3d",
   "metadata": {},
   "outputs": [
    {
     "data": {
      "text/plain": [
       "['a', 'b', 'c', 'd', 'e']"
      ]
     },
     "execution_count": 243,
     "metadata": {},
     "output_type": "execute_result"
    }
   ],
   "source": [
    "remove_duplicates(['a', 'b', 'c', 'a', 'd', 'b', 'e']) "
   ]
  },
  {
   "cell_type": "markdown",
   "id": "a2943acf",
   "metadata": {},
   "source": [
    "## **Problem 4:**\n",
    "\n",
    "Write a Python function called `find_common_elements` that takes two lists as input and returns a new list containing elements that are common to both input lists. The order of elements in the output list should match the order in which they appear in the first list.\n",
    "\n",
    "For example:\n",
    "- `find_common_elements([1, 2, 3, 4, 5], [4, 5, 6, 7, 8])` should return `[4, 5]` because 4 and 5 are common elements in both lists.\n",
    "- `find_common_elements(['a', 'b', 'c', 'd'], ['x', 'y', 'z', 'a', 'b'])` should return `['a', 'b']` because 'a' and 'b' are common elements in both lists.\n",
    "\n",
    "Once you've written the function, you can test it with different pairs of lists to ensure it works correctly."
   ]
  },
  {
   "cell_type": "markdown",
   "id": "f12e011f",
   "metadata": {
    "heading_collapsed": true
   },
   "source": [
    "### Attempt 1:"
   ]
  },
  {
   "cell_type": "code",
   "execution_count": 21,
   "id": "d3b75a7a",
   "metadata": {
    "hidden": true
   },
   "outputs": [],
   "source": [
    "def find_common_elements(lst1, lst2):\n",
    "    common_list = []\n",
    "    for item in lst1:\n",
    "        if item in lst2:\n",
    "            common_list.append(item)\n",
    "    return common_list### Attempt 1:"
   ]
  },
  {
   "cell_type": "code",
   "execution_count": 23,
   "id": "b29781c0",
   "metadata": {
    "hidden": true
   },
   "outputs": [
    {
     "data": {
      "text/plain": [
       "[4, 5]"
      ]
     },
     "execution_count": 23,
     "metadata": {},
     "output_type": "execute_result"
    }
   ],
   "source": [
    "find_common_elements([1, 2, 3, 4, 5], [4, 5, 6, 7, 8])"
   ]
  },
  {
   "cell_type": "markdown",
   "id": "84988fb4",
   "metadata": {},
   "source": [
    "### Attempt 2:"
   ]
  },
  {
   "cell_type": "code",
   "execution_count": 244,
   "id": "cbbe8452",
   "metadata": {},
   "outputs": [],
   "source": [
    "def find_common_elements(lst1, lst2):\n",
    "    common_list = []\n",
    "    for item in lst1:\n",
    "        if item in lst2:\n",
    "            common_list.append(item)\n",
    "    return common_list"
   ]
  },
  {
   "cell_type": "code",
   "execution_count": 246,
   "id": "622a3baf",
   "metadata": {},
   "outputs": [
    {
     "data": {
      "text/plain": [
       "['a', 'b', 'z']"
      ]
     },
     "execution_count": 246,
     "metadata": {},
     "output_type": "execute_result"
    }
   ],
   "source": [
    "find_common_elements(['a', 'b', 'c', 'd','z'], ['x', 'y', 'z', 'a', 'b'])"
   ]
  },
  {
   "cell_type": "markdown",
   "id": "db42af06",
   "metadata": {},
   "source": [
    "## **Problem 5:**\n",
    "\n",
    "Write a Python function called `is_palindrome` that takes a string as input and returns `True` if the string is a palindrome, and `False` otherwise. A palindrome is a word, phrase, number, or other sequence of characters that reads the same forward and backward, ignoring spaces, punctuation, and capitalization.\n",
    "\n",
    "For example:\n",
    "- `is_palindrome(\"radar\")` should return `True` because \"radar\" reads the same backward and forward.\n",
    "- `is_palindrome(\"hello\")` should return `False` because \"hello\" is not the same backward and forward.\n",
    "- `is_palindrome(\"A man, a plan, a canal, Panama\")` should return `True` because it reads the same backward and forward after ignoring spaces, punctuation, and capitalization.\n",
    "\n",
    "Once you've written the function, you can test it with different strings to ensure it works correctly."
   ]
  },
  {
   "cell_type": "markdown",
   "id": "e52f7ed4",
   "metadata": {},
   "source": [
    "### Attempt 1:"
   ]
  },
  {
   "cell_type": "code",
   "execution_count": 259,
   "id": "25f3f12b",
   "metadata": {},
   "outputs": [],
   "source": [
    "import string\n",
    "\n",
    "def is_palindrome(s):\n",
    "    \n",
    "    cleaned_string = ''\n",
    "    \n",
    "    for char in s:\n",
    "        if char not in string.punctuation:\n",
    "            cleaned_string += char\n",
    "            \n",
    "    cleaned_string = cleaned_string.replace(' ', '')\n",
    "    cleaned_string = cleaned_string.lower()\n",
    "    \n",
    "    return cleaned_string.lower() == cleaned_string[::-1]"
   ]
  },
  {
   "cell_type": "code",
   "execution_count": 264,
   "id": "0aac9928",
   "metadata": {},
   "outputs": [
    {
     "data": {
      "text/plain": [
       "False"
      ]
     },
     "execution_count": 264,
     "metadata": {},
     "output_type": "execute_result"
    }
   ],
   "source": [
    "is_palidrome('yeah, dude')"
   ]
  },
  {
   "cell_type": "markdown",
   "id": "50a4ea0a",
   "metadata": {},
   "source": [
    "### Attempt 2:"
   ]
  },
  {
   "cell_type": "code",
   "execution_count": 267,
   "id": "de54f701",
   "metadata": {},
   "outputs": [],
   "source": [
    "import string\n",
    "def is_palindrome(s):\n",
    "    \n",
    "    cleaned_string = ''\n",
    "    \n",
    "    for char in s:\n",
    "        if char not in string.punctuation:\n",
    "            cleaned_string += char\n",
    "                \n",
    "    cleaned_string = cleaned_string.replace(' ', '')\n",
    "    cleaned_string = cleaned_string.lower()\n",
    "    \n",
    "    return cleaned_string.lower() == cleaned_string[::-1]"
   ]
  },
  {
   "cell_type": "code",
   "execution_count": 268,
   "id": "87bba8e6",
   "metadata": {},
   "outputs": [
    {
     "data": {
      "text/plain": [
       "True"
      ]
     },
     "execution_count": 268,
     "metadata": {},
     "output_type": "execute_result"
    }
   ],
   "source": [
    "is_palindrome(\"A man, a plan, a canal, Panama\")"
   ]
  },
  {
   "cell_type": "markdown",
   "id": "306c4755",
   "metadata": {},
   "source": [
    "## **Problem 6:**\n",
    "\n",
    "Write a Python function called `count_words` that takes a string as input and returns a dictionary containing the count of each word in the input string. Words are delimited by spaces, and you should ignore punctuation marks. The keys of the dictionary should be the unique words in the input string (case-insensitive), and the values should be the corresponding counts of each word.\n",
    "\n",
    "For example:\n",
    "- `count_words(\"Hello world hello\")` should return `{'hello': 2, 'world': 1}`.\n",
    "- `count_words(\"Python is fun, Python is cool!\")` should return `{'python': 2, 'is': 2, 'fun': 1, 'cool': 1}`.\n",
    "\n",
    "Once you've written the function, you can test it with different strings to ensure it works correctly."
   ]
  },
  {
   "cell_type": "markdown",
   "id": "a73446d8",
   "metadata": {
    "heading_collapsed": true
   },
   "source": [
    "### Attempt 1:"
   ]
  },
  {
   "cell_type": "code",
   "execution_count": 269,
   "id": "b5d762b4",
   "metadata": {
    "hidden": true
   },
   "outputs": [],
   "source": [
    "import string\n",
    "\n",
    "def count_words(s):\n",
    "    cleaned_string = ''.join(char for char in s if char not in string.punctuation).lower()\n",
    "\n",
    "    words = cleaned_string.split()\n",
    "    \n",
    "    word_count = {}\n",
    "    \n",
    "    for word in words:\n",
    "        word_count[word] = word_count.get(word, 0) + 1\n",
    "        \n",
    "    return word_count"
   ]
  },
  {
   "cell_type": "code",
   "execution_count": 270,
   "id": "b68f7d70",
   "metadata": {
    "hidden": true
   },
   "outputs": [
    {
     "data": {
      "text/plain": [
       "{'hello': 2, 'world': 1}"
      ]
     },
     "execution_count": 270,
     "metadata": {},
     "output_type": "execute_result"
    }
   ],
   "source": [
    "count_words(\"Hello world hello\")"
   ]
  },
  {
   "cell_type": "markdown",
   "id": "47f145fa",
   "metadata": {
    "heading_collapsed": true
   },
   "source": [
    "### Attempt 2:"
   ]
  },
  {
   "cell_type": "code",
   "execution_count": 271,
   "id": "cb98daad",
   "metadata": {
    "hidden": true
   },
   "outputs": [],
   "source": [
    "def count_words(s):\n",
    "    cleaned_string = ''.join(char for char in s if char not in string.punctuation).lower()\n",
    "    \n",
    "    words = cleaned_string.split()\n",
    "    \n",
    "    word_count = {}\n",
    "    \n",
    "    for word in words:\n",
    "        word_count[word] = word_count.get(word, 0) + 1\n",
    "        \n",
    "    return word_count"
   ]
  },
  {
   "cell_type": "code",
   "execution_count": 272,
   "id": "0f1f3b78",
   "metadata": {
    "hidden": true
   },
   "outputs": [
    {
     "data": {
      "text/plain": [
       "{'hello': 2, 'world': 1}"
      ]
     },
     "execution_count": 272,
     "metadata": {},
     "output_type": "execute_result"
    }
   ],
   "source": [
    "count_words(\"Hello world hello\")"
   ]
  },
  {
   "cell_type": "markdown",
   "id": "4fe7e5f9",
   "metadata": {
    "heading_collapsed": true
   },
   "source": [
    "## **Problem 7:**\n",
    "\n",
    "Write a Python function called `reverse_dictionary` that takes a dictionary as input and returns a new dictionary where the keys and values of the input dictionary are swapped. Assume that the values of the input dictionary are unique and immutable.\n",
    "\n",
    "For example:\n",
    "- `reverse_dictionary({'a': 1, 'b': 2, 'c': 3})` should return `{1: 'a', 2: 'b', 3: 'c'}`.\n",
    "- `reverse_dictionary({'apple': 'red', 'banana': 'yellow', 'grape': 'purple'})` should return `{'red': 'apple', 'yellow': 'banana', 'purple': 'grape'}`.\n",
    "\n",
    "Once you've written the function, you can test it with different dictionaries to ensure it works correctly."
   ]
  },
  {
   "cell_type": "markdown",
   "id": "42724867",
   "metadata": {
    "heading_collapsed": true,
    "hidden": true
   },
   "source": [
    "### Attempt 1:"
   ]
  },
  {
   "cell_type": "code",
   "execution_count": 131,
   "id": "1262dd79",
   "metadata": {
    "hidden": true
   },
   "outputs": [],
   "source": [
    "def reverse_dictionary(d):\n",
    "    reversed_dict### Attempt 1: = {}\n",
    "    for key, value in d.items():\n",
    "        reversed_dict[value] = key\n",
    "    return reversed_dict"
   ]
  },
  {
   "cell_type": "code",
   "execution_count": 133,
   "id": "061bdb7f",
   "metadata": {
    "hidden": true
   },
   "outputs": [
    {
     "data": {
      "text/plain": [
       "{1: 'a', 2: 'b', 3: 'c'}"
      ]
     },
     "execution_count": 133,
     "metadata": {},
     "output_type": "execute_result"
    }
   ],
   "source": [
    "reverse_dictionary({'a': 1, 'b': 2, 'c': 3})"
   ]
  },
  {
   "cell_type": "markdown",
   "id": "8b5c4695",
   "metadata": {
    "heading_collapsed": true,
    "hidden": true
   },
   "source": [
    "### Attempt 2:"
   ]
  },
  {
   "cell_type": "code",
   "execution_count": null,
   "id": "4789958c",
   "metadata": {
    "hidden": true
   },
   "outputs": [],
   "source": []
  },
  {
   "cell_type": "markdown",
   "id": "c1b3842d",
   "metadata": {
    "heading_collapsed": true
   },
   "source": [
    "## **Problem 8:**\n",
    "\n",
    "Write a Python function called `merge_dicts` that takes two dictionaries as input and returns a new dictionary containing the merged key-value pairs from both input dictionaries. If a key exists in both dictionaries, the value in the returned dictionary should be the sum of the corresponding values from both input dictionaries.\n",
    "\n",
    "For example:\n",
    "- `merge_dicts({'a': 1, 'b': 2}, {'b': 3, 'c': 4})` should return `{'a': 1, 'b': 5, 'c': 4}` because the value for key 'b' is the sum of 2 and 3.\n",
    "- `merge_dicts({'x': 10, 'y': 20}, {'y': 30, 'z': 40})` should return `{'x': 10, 'y': 50, 'z': 40}` because the value for key 'y' is the sum of 20 and 30.\n",
    "\n",
    "Once you've written the function, you can test it with different pairs of dictionaries to ensure it works correctly."
   ]
  },
  {
   "cell_type": "markdown",
   "id": "77cd5614",
   "metadata": {
    "heading_collapsed": true,
    "hidden": true
   },
   "source": [
    "### Attempt 1:"
   ]
  },
  {
   "cell_type": "code",
   "execution_count": 134,
   "id": "2bcdb5b5",
   "metadata": {
    "hidden": true
   },
   "outputs": [],
   "source": [
    "def merge_dicts(d1, d2):\n",
    "    new_dict = {}\n",
    "    for key, value in d1.items():\n",
    "        new_dict[key] = value\n",
    "        \n",
    "    for key, value in d2.items():\n",
    "        if key in new_dict:\n",
    "            new_dict[key] += value\n",
    "        else:\n",
    "            new_dict[key] = value\n",
    "    return new_dict### Attempt 1:"
   ]
  },
  {
   "cell_type": "code",
   "execution_count": 135,
   "id": "5a2d6e84",
   "metadata": {
    "hidden": true
   },
   "outputs": [
    {
     "data": {
      "text/plain": [
       "{'a': 1, 'b': 5, 'c': 4}"
      ]
     },
     "execution_count": 135,
     "metadata": {},
     "output_type": "execute_result"
    }
   ],
   "source": [
    "merge_dicts({'a': 1, 'b': 2}, {'b': 3, 'c': 4})"
   ]
  },
  {
   "cell_type": "markdown",
   "id": "58bf8abc",
   "metadata": {
    "hidden": true
   },
   "source": [
    "1. Defining the function `merge_dicts` that takes two dictionaries `d1` and `d2` as input\n",
    "2. Create a new dictionary to store the merged key-value pairs\n",
    "3. Loop over the key-value pairs in `d1` using `d1.items()`\n",
    "4. For each key-value pair `(key, value)` in `d1` we add the key-value pair into the new dictionary\n",
    "\n",
    "After step 4 all of the key-value pairs from `d1`\n",
    "\n",
    "5. Loop over the key-value pairs in `d2` using `d2.items()`\n",
    "6. For each key-value pair (key, value) in `d2`, we check if the key already exists in `new_dict`.\n",
    "7. If the key exists in `new_dict`, we add the value from `d2` to the existing value in `new_dict`\n",
    "8. If the key does not exist in `new_dict`, it means it's unique to `d2`, so we add it to `new_dict`.\n",
    "9. Finally, we return the merged dictionary `new_dict`."
   ]
  },
  {
   "cell_type": "markdown",
   "id": "7593ab55",
   "metadata": {
    "heading_collapsed": true,
    "hidden": true
   },
   "source": [
    "### Attempt 2:"
   ]
  },
  {
   "cell_type": "code",
   "execution_count": null,
   "id": "391e4bab",
   "metadata": {
    "hidden": true
   },
   "outputs": [],
   "source": []
  },
  {
   "cell_type": "markdown",
   "id": "098c7b86",
   "metadata": {},
   "source": [
    "## **Problem 9:**\n",
    "\n",
    "Write a Python function called `calculate_average` that takes a list of numbers as input and returns the average (mean) of those numbers.\n",
    "\n",
    "For example:\n",
    "- `calculate_average([1, 2, 3, 4, 5])` should return `3.0`.\n",
    "- `calculate_average([10, 20, 30, 40, 50])` should return `30.0`.\n",
    "- `calculate_average([2.5, 3.5, 4.5])` should return `3.5`.\n",
    "\n",
    "Once you've written the function, you can test it with different lists of numbers to ensure it works correctly.\n",
    "\n",
    "This function can be useful for various tasks, such as calculating average scores, grades, or numerical data in general."
   ]
  },
  {
   "cell_type": "markdown",
   "id": "cad22e61",
   "metadata": {
    "heading_collapsed": true
   },
   "source": [
    "### Attempt 1:"
   ]
  },
  {
   "cell_type": "code",
   "execution_count": 141,
   "id": "eea3953b",
   "metadata": {
    "hidden": true
   },
   "outputs": [],
   "source": [
    "def calculate_average(lst):\n",
    "    total = 0\n",
    "    count = 0\n",
    "    for num in lst:\n",
    "        total += num\n",
    "        count += 1\n",
    "    avg = total/count\n",
    "    return avg### Attempt 1:"
   ]
  },
  {
   "cell_type": "code",
   "execution_count": 148,
   "id": "bb73ee3e",
   "metadata": {
    "hidden": true
   },
   "outputs": [
    {
     "data": {
      "text/plain": [
       "30.0"
      ]
     },
     "execution_count": 148,
     "metadata": {},
     "output_type": "execute_result"
    }
   ],
   "source": [
    "calculate_average([10, 20, 30, 40, 50])"
   ]
  },
  {
   "cell_type": "code",
   "execution_count": 150,
   "id": "1bd8f2f5",
   "metadata": {
    "hidden": true
   },
   "outputs": [],
   "source": [
    "def calc_avg(lst):\n",
    "    total = sum(lst)\n",
    "    count = len(lst)\n",
    "    avg = total/count if count != 0 else 0\n",
    "    return avg"
   ]
  },
  {
   "cell_type": "code",
   "execution_count": 151,
   "id": "43145bd5",
   "metadata": {
    "hidden": true
   },
   "outputs": [
    {
     "data": {
      "text/plain": [
       "30.0"
      ]
     },
     "execution_count": 151,
     "metadata": {},
     "output_type": "execute_result"
    }
   ],
   "source": [
    "calc_avg([10, 20, 30, 40, 50])"
   ]
  },
  {
   "cell_type": "markdown",
   "id": "d08997d8",
   "metadata": {},
   "source": [
    "### Attempt 2:"
   ]
  },
  {
   "cell_type": "code",
   "execution_count": 274,
   "id": "52e36d4f",
   "metadata": {},
   "outputs": [],
   "source": [
    "def calculate_average(lst):\n",
    "    total = sum(lst)\n",
    "    \n",
    "    count = len(lst)\n",
    "    \n",
    "    avg = total/count\n",
    "    \n",
    "    return avg"
   ]
  },
  {
   "cell_type": "code",
   "execution_count": 276,
   "id": "02ac70ff",
   "metadata": {},
   "outputs": [
    {
     "data": {
      "text/plain": [
       "42.9"
      ]
     },
     "execution_count": 276,
     "metadata": {},
     "output_type": "execute_result"
    }
   ],
   "source": [
    "calculate_average([10, 20, 30, 40, 50, 90, 88, 23, 55, 23])"
   ]
  },
  {
   "cell_type": "markdown",
   "id": "da2cf848",
   "metadata": {},
   "source": [
    "## **Problem 10:**\n",
    "\n",
    "Write a Python function called `find_maximum` that takes a list of numbers as input and returns the maximum value in the list. You should not use any built-in functions like `max()`.\n",
    "\n",
    "For example:\n",
    "- `find_maximum([1, 5, 3, 9, 2])` should return `9`.\n",
    "- `find_maximum([-10, -5, -3, -9, -2])` should return `-2`.\n",
    "- `find_maximum([2.5, 3.7, 1.2, 4.8])` should return `4.8`.\n",
    "\n",
    "Once you've written the function, you can test it with different lists of numbers to ensure it works correctly.\n",
    "\n",
    "This function can be useful for finding the maximum value in a dataset or determining the largest element in a collection of values."
   ]
  },
  {
   "cell_type": "markdown",
   "id": "ce339bc3",
   "metadata": {
    "heading_collapsed": true
   },
   "source": [
    "### Attempt 1:"
   ]
  },
  {
   "cell_type": "code",
   "execution_count": 168,
   "id": "059c6a87",
   "metadata": {
    "hidden": true
   },
   "outputs": [],
   "source": [
    "def find_maximum(lst):\n",
    "    max_value = lst[0]\n",
    "    ### Attempt 1:\n",
    "    for num in lst[1:]:\n",
    "        if num > max_value:\n",
    "            max_value = num\n",
    "\n",
    "    return max_value"
   ]
  },
  {
   "cell_type": "code",
   "execution_count": 169,
   "id": "3fe924be",
   "metadata": {
    "hidden": true
   },
   "outputs": [
    {
     "data": {
      "text/plain": [
       "4.8"
      ]
     },
     "execution_count": 169,
     "metadata": {},
     "output_type": "execute_result"
    }
   ],
   "source": [
    "find_maximum([2.5, 3.7, 1.2, 4.8])"
   ]
  },
  {
   "cell_type": "markdown",
   "id": "d320b738",
   "metadata": {},
   "source": [
    "### Attempt 2:"
   ]
  },
  {
   "cell_type": "code",
   "execution_count": null,
   "id": "553ced65",
   "metadata": {},
   "outputs": [],
   "source": []
  },
  {
   "cell_type": "markdown",
   "id": "166405f8",
   "metadata": {
    "heading_collapsed": true
   },
   "source": [
    "## **Problem 11:**\n",
    "\n",
    "Write a Python function called `is_prime` that takes an integer as input and returns `True` if the number is prime, and `False` otherwise. A prime number is a positive integer greater than 1 that has no positive integer divisors other than 1 and itself.\n",
    "\n",
    "For example:\n",
    "- `is_prime(2)` should return `True`.\n",
    "- `is_prime(7)` should return `True`.\n",
    "- `is_prime(10)` should return `False`.\n",
    "\n",
    "Once you've written the function, you can test it with different integers to ensure it works correctly.\n",
    "\n",
    "This function can be useful for determining whether a given number is prime, which is a common task in various mathematical and computational problems."
   ]
  },
  {
   "cell_type": "markdown",
   "id": "14dbfed3",
   "metadata": {
    "heading_collapsed": true,
    "hidden": true
   },
   "source": [
    "### Attempt 1:"
   ]
  },
  {
   "cell_type": "code",
   "execution_count": 193,
   "id": "62f3f7a8",
   "metadata": {
    "hidden": true
   },
   "outputs": [],
   "source": [
    "def is_prime(num):\n",
    "    if num <= 1:\n",
    "        return False\n",
    "    elif num <= 3: \n",
    "        return True\n",
    "    elif num % 2 == 0 or num % 3 == 0:\n",
    "        return False\n",
    "    ### Attempt 1:i = 5\n",
    "    while i * i <= num:\n",
    "        if num % i == 0 or num % (i + 2) == 0:\n",
    "            return False\n",
    "        i += 6\n",
    "    return True"
   ]
  },
  {
   "cell_type": "code",
   "execution_count": 198,
   "id": "c251e44d",
   "metadata": {
    "hidden": true
   },
   "outputs": [
    {
     "data": {
      "text/plain": [
       "False"
      ]
     },
     "execution_count": 198,
     "metadata": {},
     "output_type": "execute_result"
    }
   ],
   "source": [
    "is_prime(14)"
   ]
  },
  {
   "cell_type": "markdown",
   "id": "eae09a57",
   "metadata": {
    "heading_collapsed": true,
    "hidden": true
   },
   "source": [
    "### Attempt 2:"
   ]
  },
  {
   "cell_type": "code",
   "execution_count": null,
   "id": "c5a55582",
   "metadata": {
    "hidden": true
   },
   "outputs": [],
   "source": []
  },
  {
   "cell_type": "markdown",
   "id": "0788a13b",
   "metadata": {},
   "source": [
    "## **Problem 12:**\n",
    "\n",
    "Write a Python function called `average_grade` that takes a dictionary as input, where the keys are student names and the values are lists of grades (numbers). The function should calculate the average grade for each student and return a new dictionary where the keys are the student names and the values are their average grades.\n",
    "\n",
    "For example:\n",
    "- `average_grade({'Alice': [80, 90, 75], 'Bob': [85, 90, 92], 'Charlie': [70, 75, 80]})` should return `{'Alice': 81.66666666666667, 'Bob': 89.0, 'Charlie': 75.0}`.\n",
    "\n",
    "Once you've written the function, you can test it with different dictionaries representing students and their grades to ensure it works correctly.\n",
    "\n",
    "This function can be useful for calculating student performance metrics, such as average grades or GPA."
   ]
  },
  {
   "cell_type": "markdown",
   "id": "a2d0e71d",
   "metadata": {
    "heading_collapsed": true
   },
   "source": [
    "### Attempt 1:"
   ]
  },
  {
   "cell_type": "code",
   "execution_count": 221,
   "id": "076dd9a4",
   "metadata": {
    "hidden": true
   },
   "outputs": [],
   "source": [
    "def average_grade(grade):\n",
    "    average_grades = {}\n",
    "    for key, value in grade.items():\n",
    "        total = sum(value)\n",
    "        count = len(value)\n",
    "        avg = total / count if count != 0 else 0\n",
    "        average_grades[key] = avg\n",
    "    return average_grades"
   ]
  },
  {
   "cell_type": "code",
   "execution_count": 222,
   "id": "33d56fd1",
   "metadata": {
    "hidden": true
   },
   "outputs": [
    {
     "data": {
      "text/plain": [
       "{'Alice': 81.66666666666667, 'Bob': 89.0, 'Charlie': 75.0}"
      ]
     },
     "execution_count": 222,
     "metadata": {},
     "output_type": "execute_result"
    }
   ],
   "source": [
    "average_grade({'Alice': [80, 90, 75], 'Bob': [85, 90, 92], 'Charlie': [70, 75, 80]})"
   ]
  },
  {
   "cell_type": "markdown",
   "id": "62caa72a",
   "metadata": {
    "heading_collapsed": true
   },
   "source": [
    "### Attempt 2:"
   ]
  },
  {
   "cell_type": "code",
   "execution_count": null,
   "id": "93e71a8e",
   "metadata": {
    "hidden": true
   },
   "outputs": [],
   "source": []
  }
 ],
 "metadata": {
  "kernelspec": {
   "display_name": "Python (dojo-env)",
   "language": "python",
   "name": "dojo-env"
  },
  "language_info": {
   "codemirror_mode": {
    "name": "ipython",
    "version": 3
   },
   "file_extension": ".py",
   "mimetype": "text/x-python",
   "name": "python",
   "nbconvert_exporter": "python",
   "pygments_lexer": "ipython3",
   "version": "3.9.15"
  },
  "toc": {
   "base_numbering": 1,
   "nav_menu": {},
   "number_sections": false,
   "sideBar": true,
   "skip_h1_title": false,
   "title_cell": "Table of Contents",
   "title_sidebar": "Contents",
   "toc_cell": false,
   "toc_position": {},
   "toc_section_display": true,
   "toc_window_display": false
  }
 },
 "nbformat": 4,
 "nbformat_minor": 5
}
