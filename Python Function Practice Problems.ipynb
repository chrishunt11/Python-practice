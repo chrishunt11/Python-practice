{
 "cells": [
  {
   "cell_type": "markdown",
   "id": "f381eba8",
   "metadata": {},
   "source": [
    "# Python Function Practice Problems"
   ]
  },
  {
   "cell_type": "markdown",
   "id": "29b185d9",
   "metadata": {
    "heading_collapsed": true
   },
   "source": [
    "## **Problem 1:**\n",
    "\n",
    "Write a Python function called `count_vowels` that takes a string as input and returns the count of vowels (a, e, i, o, u) in the string. The function should be case-insensitive, meaning it should count both uppercase and lowercase vowels.\n",
    "\n",
    "For example:\n",
    "- `count_vowels(\"Hello\")` should return 2 because there are two vowels 'e' in the string.\n",
    "- `count_vowels(\"Python\")` should return 1 because there is one vowel 'o' in the string.\n",
    "- `count_vowels(\"Programming\")` should return 3 because there are three vowels 'o', 'a', and 'i' in the string.\n",
    "\n",
    "Once you've written the function, you can test it with different strings to ensure it works correctly."
   ]
  },
  {
   "cell_type": "markdown",
   "id": "c406c3cb",
   "metadata": {
    "heading_collapsed": true,
    "hidden": true
   },
   "source": [
    "### Attempt 1:"
   ]
  },
  {
   "cell_type": "code",
   "execution_count": 1,
   "id": "5c0ea017",
   "metadata": {
    "hidden": true
   },
   "outputs": [],
   "source": [
    "def count_vowels(string):\n",
    "    \n",
    "    # Creating a string of vowels\n",
    "    vowels = 'aeiou'\n",
    "    \n",
    "    # Setting count\n",
    "    count = 0\n",
    "    \n",
    "    # Iterating through each character in the string\n",
    "    for char in string.lower():\n",
    "        if char in vowels:\n",
    "            \n",
    "            # adding 1 to the count for every vowel\n",
    "            count += 1\n",
    "    return count"
   ]
  },
  {
   "cell_type": "code",
   "execution_count": 228,
   "id": "ccc4a7d1",
   "metadata": {
    "hidden": true
   },
   "outputs": [
    {
     "data": {
      "text/plain": [
       "3"
      ]
     },
     "execution_count": 228,
     "metadata": {},
     "output_type": "execute_result"
    }
   ],
   "source": [
    "count_vowels(\"Programming\")"
   ]
  },
  {
   "cell_type": "markdown",
   "id": "d23dde7a",
   "metadata": {
    "heading_collapsed": true,
    "hidden": true
   },
   "source": [
    "### Attempt 2:"
   ]
  },
  {
   "cell_type": "code",
   "execution_count": 225,
   "id": "04187979",
   "metadata": {
    "hidden": true
   },
   "outputs": [],
   "source": [
    "def count_vowels(string):\n",
    "    vowels = 'aeiou'\n",
    "    count = 0\n",
    "    for char in string.lower():\n",
    "        if char in vowels:\n",
    "            count += 1\n",
    "            \n",
    "    return count"
   ]
  },
  {
   "cell_type": "code",
   "execution_count": 227,
   "id": "9a8a8e80",
   "metadata": {
    "hidden": true
   },
   "outputs": [
    {
     "data": {
      "text/plain": [
       "3"
      ]
     },
     "execution_count": 227,
     "metadata": {},
     "output_type": "execute_result"
    }
   ],
   "source": [
    "count_vowels(\"Programming\")"
   ]
  },
  {
   "cell_type": "markdown",
   "id": "348d9ad2",
   "metadata": {},
   "source": [
    "## **Problem 2:**\n",
    "\n",
    "Write a Python function called `reverse_words` that takes a string as input and returns the string with the order of words reversed. Words in the input string are separated by spaces. You should preserve the spaces between words in the output string.\n",
    "\n",
    "For example:\n",
    "- `reverse_words(\"Hello World\")` should return \"World Hello\".\n",
    "- `reverse_words(\"Python is fun\")` should return \"fun is Python\".\n",
    "- `reverse_words(\"Keep coding and learning\")` should return \"learning and coding Keep\".\n",
    "\n",
    "Once you've written the function, you can test it with different strings to ensure it works correctly."
   ]
  },
  {
   "cell_type": "markdown",
   "id": "2fdf7169",
   "metadata": {},
   "source": [
    "### Attempt 1:"
   ]
  },
  {
   "cell_type": "code",
   "execution_count": 3,
   "id": "b8f98cfc",
   "metadata": {},
   "outputs": [],
   "source": [
    "def reverse_words(string):\n",
    "    # split the words in the string\n",
    "    words = string.split()\n",
    "    \n",
    "    # reverse the order of the words\n",
    "    reversed_words = reversed(words)\n",
    "    \n",
    "    # join the words back together\n",
    "    reversed_string = ' '.join(reversed_words)\n",
    "    \n",
    "    return reversed_string"
   ]
  },
  {
   "cell_type": "code",
   "execution_count": 4,
   "id": "e407f828",
   "metadata": {
    "scrolled": true
   },
   "outputs": [
    {
     "data": {
      "text/plain": [
       "'you Hey'"
      ]
     },
     "execution_count": 4,
     "metadata": {},
     "output_type": "execute_result"
    }
   ],
   "source": [
    "reverse_words('Hey you')"
   ]
  },
  {
   "cell_type": "code",
   "execution_count": null,
   "id": "4df67be0",
   "metadata": {},
   "outputs": [],
   "source": []
  },
  {
   "cell_type": "markdown",
   "id": "891b37b7",
   "metadata": {},
   "source": [
    "### Attempt 2:"
   ]
  },
  {
   "cell_type": "code",
   "execution_count": 232,
   "id": "d0ffce43",
   "metadata": {},
   "outputs": [],
   "source": [
    "def reverse_words(string):\n",
    "    words = string.split()\n",
    "    \n",
    "    reversed_words = reversed(words)\n",
    "    \n",
    "    reversed_string = ' '.join(reversed_words)\n",
    "    \n",
    "    return reversed_string"
   ]
  },
  {
   "cell_type": "code",
   "execution_count": 233,
   "id": "eff1ca3d",
   "metadata": {},
   "outputs": [
    {
     "data": {
      "text/plain": [
       "'learning and coding Keep'"
      ]
     },
     "execution_count": 233,
     "metadata": {},
     "output_type": "execute_result"
    }
   ],
   "source": [
    "reverse_words(\"Keep coding and learning\")"
   ]
  },
  {
   "cell_type": "markdown",
   "id": "08c87402",
   "metadata": {},
   "source": [
    "## **Problem 3:**\n",
    "\n",
    "Write a Python function called `remove_duplicates` that takes a list as input and returns a new list with duplicates removed, preserving the original order of elements. \n",
    "\n",
    "For example:\n",
    "- `remove_duplicates([1, 2, 3, 2, 4, 5, 1])` should return `[1, 2, 3, 4, 5]`.\n",
    "- `remove_duplicates(['a', 'b', 'c', 'a', 'd', 'b', 'e'])` should return `['a', 'b', 'c', 'd', 'e']`.\n",
    "\n",
    "Once you've written the function, you can test it with different lists to ensure it works correctly."
   ]
  },
  {
   "cell_type": "markdown",
   "id": "5a6b56f0",
   "metadata": {
    "heading_collapsed": true
   },
   "source": [
    "### Attempt 1:"
   ]
  },
  {
   "cell_type": "code",
   "execution_count": 5,
   "id": "bfab6606",
   "metadata": {
    "hidden": true
   },
   "outputs": [],
   "source": [
    "def remove_duplicates(lst):\n",
    "    new_list = []\n",
    "    for i in lst:\n",
    "        if i not in new_list:\n",
    "            new_list.append(i)\n",
    "            \n",
    "    return new_list"
   ]
  },
  {
   "cell_type": "code",
   "execution_count": 6,
   "id": "339bac2c",
   "metadata": {
    "hidden": true
   },
   "outputs": [
    {
     "data": {
      "text/plain": [
       "['a', 'b', 'c', 'd', 'e']"
      ]
     },
     "execution_count": 6,
     "metadata": {},
     "output_type": "execute_result"
    }
   ],
   "source": [
    "remove_duplicates(['a', 'b', 'c', 'a', 'd', 'b', 'e'])"
   ]
  },
  {
   "cell_type": "markdown",
   "id": "1f735cab",
   "metadata": {},
   "source": [
    "### Attempt 2:"
   ]
  },
  {
   "cell_type": "code",
   "execution_count": 242,
   "id": "9effe61f",
   "metadata": {},
   "outputs": [],
   "source": [
    "def remove_duplicates(lst):\n",
    "    new_list = []\n",
    "    for item in lst:\n",
    "        if item not in new_list:\n",
    "            new_list.append(item)\n",
    "            \n",
    "    return new_list"
   ]
  },
  {
   "cell_type": "code",
   "execution_count": 243,
   "id": "3d4b964a",
   "metadata": {},
   "outputs": [
    {
     "data": {
      "text/plain": [
       "['a', 'b', 'c', 'd', 'e']"
      ]
     },
     "execution_count": 243,
     "metadata": {},
     "output_type": "execute_result"
    }
   ],
   "source": [
    "remove_duplicates(['a', 'b', 'c', 'a', 'd', 'b', 'e']) "
   ]
  },
  {
   "cell_type": "markdown",
   "id": "ed6cf05f",
   "metadata": {},
   "source": [
    "## **Problem 4:**\n",
    "\n",
    "Write a Python function called `find_common_elements` that takes two lists as input and returns a new list containing elements that are common to both input lists. The order of elements in the output list should match the order in which they appear in the first list.\n",
    "\n",
    "For example:\n",
    "- `find_common_elements([1, 2, 3, 4, 5], [4, 5, 6, 7, 8])` should return `[4, 5]` because 4 and 5 are common elements in both lists.\n",
    "- `find_common_elements(['a', 'b', 'c', 'd'], ['x', 'y', 'z', 'a', 'b'])` should return `['a', 'b']` because 'a' and 'b' are common elements in both lists.\n",
    "\n",
    "Once you've written the function, you can test it with different pairs of lists to ensure it works correctly."
   ]
  },
  {
   "cell_type": "markdown",
   "id": "904dee9f",
   "metadata": {
    "heading_collapsed": true
   },
   "source": [
    "### Attempt 1:"
   ]
  },
  {
   "cell_type": "code",
   "execution_count": 21,
   "id": "12aa3354",
   "metadata": {
    "hidden": true
   },
   "outputs": [],
   "source": [
    "def find_common_elements(lst1, lst2):\n",
    "    common_list = []\n",
    "    for item in lst1:\n",
    "        if item in lst2:\n",
    "            common_list.append(item)\n",
    "    return common_list### Attempt 1:"
   ]
  },
  {
   "cell_type": "code",
   "execution_count": 23,
   "id": "68996fa2",
   "metadata": {
    "hidden": true
   },
   "outputs": [
    {
     "data": {
      "text/plain": [
       "[4, 5]"
      ]
     },
     "execution_count": 23,
     "metadata": {},
     "output_type": "execute_result"
    }
   ],
   "source": [
    "find_common_elements([1, 2, 3, 4, 5], [4, 5, 6, 7, 8])"
   ]
  },
  {
   "cell_type": "markdown",
   "id": "0301d16c",
   "metadata": {},
   "source": [
    "### Attempt 2:"
   ]
  },
  {
   "cell_type": "code",
   "execution_count": 244,
   "id": "27c67b3f",
   "metadata": {},
   "outputs": [],
   "source": [
    "def find_common_elements(lst1, lst2):\n",
    "    common_list = []\n",
    "    for item in lst1:\n",
    "        if item in lst2:\n",
    "            common_list.append(item)\n",
    "    return common_list"
   ]
  },
  {
   "cell_type": "code",
   "execution_count": 246,
   "id": "324ade4d",
   "metadata": {},
   "outputs": [
    {
     "data": {
      "text/plain": [
       "['a', 'b', 'z']"
      ]
     },
     "execution_count": 246,
     "metadata": {},
     "output_type": "execute_result"
    }
   ],
   "source": [
    "find_common_elements(['a', 'b', 'c', 'd','z'], ['x', 'y', 'z', 'a', 'b'])"
   ]
  },
  {
   "cell_type": "markdown",
   "id": "020cc2b5",
   "metadata": {},
   "source": [
    "## **Problem 5:**\n",
    "\n",
    "Write a Python function called `is_palindrome` that takes a string as input and returns `True` if the string is a palindrome, and `False` otherwise. A palindrome is a word, phrase, number, or other sequence of characters that reads the same forward and backward, ignoring spaces, punctuation, and capitalization.\n",
    "\n",
    "For example:\n",
    "- `is_palindrome(\"radar\")` should return `True` because \"radar\" reads the same backward and forward.\n",
    "- `is_palindrome(\"hello\")` should return `False` because \"hello\" is not the same backward and forward.\n",
    "- `is_palindrome(\"A man, a plan, a canal, Panama\")` should return `True` because it reads the same backward and forward after ignoring spaces, punctuation, and capitalization.\n",
    "\n",
    "Once you've written the function, you can test it with different strings to ensure it works correctly."
   ]
  },
  {
   "cell_type": "markdown",
   "id": "9d689570",
   "metadata": {},
   "source": [
    "### Attempt 1:"
   ]
  },
  {
   "cell_type": "code",
   "execution_count": 259,
   "id": "95c5593b",
   "metadata": {},
   "outputs": [],
   "source": [
    "import string\n",
    "\n",
    "def is_palindrome(s):\n",
    "    \n",
    "    cleaned_string = ''\n",
    "    \n",
    "    for char in s:\n",
    "        if char not in string.punctuation:\n",
    "            cleaned_string += char\n",
    "            \n",
    "    cleaned_string = cleaned_string.replace(' ', '')\n",
    "    cleaned_string = cleaned_string.lower()\n",
    "    \n",
    "    return cleaned_string.lower() == cleaned_string[::-1]"
   ]
  },
  {
   "cell_type": "code",
   "execution_count": 264,
   "id": "328c3e9b",
   "metadata": {},
   "outputs": [
    {
     "data": {
      "text/plain": [
       "False"
      ]
     },
     "execution_count": 264,
     "metadata": {},
     "output_type": "execute_result"
    }
   ],
   "source": [
    "is_palidrome('yeah, dude')"
   ]
  },
  {
   "cell_type": "markdown",
   "id": "9a0eb40d",
   "metadata": {},
   "source": [
    "### Attempt 2:"
   ]
  },
  {
   "cell_type": "code",
   "execution_count": 267,
   "id": "c26a1e5b",
   "metadata": {},
   "outputs": [],
   "source": [
    "import string\n",
    "def is_palindrome(s):\n",
    "    \n",
    "    cleaned_string = ''\n",
    "    \n",
    "    for char in s:\n",
    "        if char not in string.punctuation:\n",
    "            cleaned_string += char\n",
    "                \n",
    "    cleaned_string = cleaned_string.replace(' ', '')\n",
    "    cleaned_string = cleaned_string.lower()\n",
    "    \n",
    "    return cleaned_string.lower() == cleaned_string[::-1]"
   ]
  },
  {
   "cell_type": "code",
   "execution_count": 268,
   "id": "bb72ae0a",
   "metadata": {},
   "outputs": [
    {
     "data": {
      "text/plain": [
       "True"
      ]
     },
     "execution_count": 268,
     "metadata": {},
     "output_type": "execute_result"
    }
   ],
   "source": [
    "is_palindrome(\"A man, a plan, a canal, Panama\")"
   ]
  },
  {
   "cell_type": "markdown",
   "id": "257fa3a6",
   "metadata": {},
   "source": [
    "## **Problem 6:**\n",
    "\n",
    "Write a Python function called `count_words` that takes a string as input and returns a dictionary containing the count of each word in the input string. Words are delimited by spaces, and you should ignore punctuation marks. The keys of the dictionary should be the unique words in the input string (case-insensitive), and the values should be the corresponding counts of each word.\n",
    "\n",
    "For example:\n",
    "- `count_words(\"Hello world hello\")` should return `{'hello': 2, 'world': 1}`.\n",
    "- `count_words(\"Python is fun, Python is cool!\")` should return `{'python': 2, 'is': 2, 'fun': 1, 'cool': 1}`.\n",
    "\n",
    "Once you've written the function, you can test it with different strings to ensure it works correctly."
   ]
  },
  {
   "cell_type": "markdown",
   "id": "d525aa28",
   "metadata": {
    "heading_collapsed": true
   },
   "source": [
    "### Attempt 1:"
   ]
  },
  {
   "cell_type": "code",
   "execution_count": 269,
   "id": "4b47c361",
   "metadata": {
    "hidden": true
   },
   "outputs": [],
   "source": [
    "import string\n",
    "\n",
    "def count_words(s):\n",
    "    cleaned_string = ''.join(char for char in s if char not in string.punctuation).lower()\n",
    "\n",
    "    words = cleaned_string.split()\n",
    "    \n",
    "    word_count = {}\n",
    "    \n",
    "    for word in words:\n",
    "        word_count[word] = word_count.get(word, 0) + 1\n",
    "        \n",
    "    return word_count"
   ]
  },
  {
   "cell_type": "code",
   "execution_count": 270,
   "id": "c9e68c98",
   "metadata": {
    "hidden": true
   },
   "outputs": [
    {
     "data": {
      "text/plain": [
       "{'hello': 2, 'world': 1}"
      ]
     },
     "execution_count": 270,
     "metadata": {},
     "output_type": "execute_result"
    }
   ],
   "source": [
    "count_words(\"Hello world hello\")"
   ]
  },
  {
   "cell_type": "markdown",
   "id": "b634ecef",
   "metadata": {
    "heading_collapsed": true
   },
   "source": [
    "### Attempt 2:"
   ]
  },
  {
   "cell_type": "code",
   "execution_count": 271,
   "id": "9b84935f",
   "metadata": {
    "hidden": true
   },
   "outputs": [],
   "source": [
    "def count_words(s):\n",
    "    cleaned_string = ''.join(char for char in s if char not in string.punctuation).lower()\n",
    "    \n",
    "    words = cleaned_string.split()\n",
    "    \n",
    "    word_count = {}\n",
    "    \n",
    "    for word in words:\n",
    "        word_count[word] = word_count.get(word, 0) + 1\n",
    "        \n",
    "    return word_count"
   ]
  },
  {
   "cell_type": "code",
   "execution_count": 272,
   "id": "fec07eb1",
   "metadata": {
    "hidden": true
   },
   "outputs": [
    {
     "data": {
      "text/plain": [
       "{'hello': 2, 'world': 1}"
      ]
     },
     "execution_count": 272,
     "metadata": {},
     "output_type": "execute_result"
    }
   ],
   "source": [
    "count_words(\"Hello world hello\")"
   ]
  },
  {
   "cell_type": "markdown",
   "id": "6d6981ac",
   "metadata": {
    "heading_collapsed": true
   },
   "source": [
    "## **Problem 7:**\n",
    "\n",
    "Write a Python function called `reverse_dictionary` that takes a dictionary as input and returns a new dictionary where the keys and values of the input dictionary are swapped. Assume that the values of the input dictionary are unique and immutable.\n",
    "\n",
    "For example:\n",
    "- `reverse_dictionary({'a': 1, 'b': 2, 'c': 3})` should return `{1: 'a', 2: 'b', 3: 'c'}`.\n",
    "- `reverse_dictionary({'apple': 'red', 'banana': 'yellow', 'grape': 'purple'})` should return `{'red': 'apple', 'yellow': 'banana', 'purple': 'grape'}`.\n",
    "\n",
    "Once you've written the function, you can test it with different dictionaries to ensure it works correctly."
   ]
  },
  {
   "cell_type": "markdown",
   "id": "fa1213c8",
   "metadata": {
    "heading_collapsed": true,
    "hidden": true
   },
   "source": [
    "### Attempt 1:"
   ]
  },
  {
   "cell_type": "code",
   "execution_count": 131,
   "id": "13126871",
   "metadata": {
    "hidden": true
   },
   "outputs": [],
   "source": [
    "def reverse_dictionary(d):\n",
    "    reversed_dict### Attempt 1: = {}\n",
    "    for key, value in d.items():\n",
    "        reversed_dict[value] = key\n",
    "    return reversed_dict"
   ]
  },
  {
   "cell_type": "code",
   "execution_count": 133,
   "id": "35c7f1dc",
   "metadata": {
    "hidden": true
   },
   "outputs": [
    {
     "data": {
      "text/plain": [
       "{1: 'a', 2: 'b', 3: 'c'}"
      ]
     },
     "execution_count": 133,
     "metadata": {},
     "output_type": "execute_result"
    }
   ],
   "source": [
    "reverse_dictionary({'a': 1, 'b': 2, 'c': 3})"
   ]
  },
  {
   "cell_type": "markdown",
   "id": "b171708d",
   "metadata": {
    "heading_collapsed": true,
    "hidden": true
   },
   "source": [
    "### Attempt 2:"
   ]
  },
  {
   "cell_type": "code",
   "execution_count": null,
   "id": "51433db2",
   "metadata": {
    "hidden": true
   },
   "outputs": [],
   "source": []
  },
  {
   "cell_type": "markdown",
   "id": "7a7e8565",
   "metadata": {
    "heading_collapsed": true
   },
   "source": [
    "## **Problem 8:**\n",
    "\n",
    "Write a Python function called `merge_dicts` that takes two dictionaries as input and returns a new dictionary containing the merged key-value pairs from both input dictionaries. If a key exists in both dictionaries, the value in the returned dictionary should be the sum of the corresponding values from both input dictionaries.\n",
    "\n",
    "For example:\n",
    "- `merge_dicts({'a': 1, 'b': 2}, {'b': 3, 'c': 4})` should return `{'a': 1, 'b': 5, 'c': 4}` because the value for key 'b' is the sum of 2 and 3.\n",
    "- `merge_dicts({'x': 10, 'y': 20}, {'y': 30, 'z': 40})` should return `{'x': 10, 'y': 50, 'z': 40}` because the value for key 'y' is the sum of 20 and 30.\n",
    "\n",
    "Once you've written the function, you can test it with different pairs of dictionaries to ensure it works correctly."
   ]
  },
  {
   "cell_type": "markdown",
   "id": "6e485139",
   "metadata": {
    "heading_collapsed": true,
    "hidden": true
   },
   "source": [
    "### Attempt 1:"
   ]
  },
  {
   "cell_type": "code",
   "execution_count": 134,
   "id": "d71935db",
   "metadata": {
    "hidden": true
   },
   "outputs": [],
   "source": [
    "def merge_dicts(d1, d2):\n",
    "    new_dict = {}\n",
    "    for key, value in d1.items():\n",
    "        new_dict[key] = value\n",
    "        \n",
    "    for key, value in d2.items():\n",
    "        if key in new_dict:\n",
    "            new_dict[key] += value\n",
    "        else:\n",
    "            new_dict[key] = value\n",
    "    return new_dict### Attempt 1:"
   ]
  },
  {
   "cell_type": "code",
   "execution_count": 135,
   "id": "f43602d9",
   "metadata": {
    "hidden": true
   },
   "outputs": [
    {
     "data": {
      "text/plain": [
       "{'a': 1, 'b': 5, 'c': 4}"
      ]
     },
     "execution_count": 135,
     "metadata": {},
     "output_type": "execute_result"
    }
   ],
   "source": [
    "merge_dicts({'a': 1, 'b': 2}, {'b': 3, 'c': 4})"
   ]
  },
  {
   "cell_type": "markdown",
   "id": "566e9cff",
   "metadata": {
    "hidden": true
   },
   "source": [
    "1. Defining the function `merge_dicts` that takes two dictionaries `d1` and `d2` as input\n",
    "2. Create a new dictionary to store the merged key-value pairs\n",
    "3. Loop over the key-value pairs in `d1` using `d1.items()`\n",
    "4. For each key-value pair `(key, value)` in `d1` we add the key-value pair into the new dictionary\n",
    "\n",
    "After step 4 all of the key-value pairs from `d1`\n",
    "\n",
    "5. Loop over the key-value pairs in `d2` using `d2.items()`\n",
    "6. For each key-value pair (key, value) in `d2`, we check if the key already exists in `new_dict`.\n",
    "7. If the key exists in `new_dict`, we add the value from `d2` to the existing value in `new_dict`\n",
    "8. If the key does not exist in `new_dict`, it means it's unique to `d2`, so we add it to `new_dict`.\n",
    "9. Finally, we return the merged dictionary `new_dict`."
   ]
  },
  {
   "cell_type": "markdown",
   "id": "42760ba3",
   "metadata": {
    "heading_collapsed": true,
    "hidden": true
   },
   "source": [
    "### Attempt 2:"
   ]
  },
  {
   "cell_type": "code",
   "execution_count": null,
   "id": "765951e5",
   "metadata": {
    "hidden": true
   },
   "outputs": [],
   "source": []
  },
  {
   "cell_type": "markdown",
   "id": "e77e560c",
   "metadata": {},
   "source": [
    "## **Problem 9:**\n",
    "\n",
    "Write a Python function called `calculate_average` that takes a list of numbers as input and returns the average (mean) of those numbers.\n",
    "\n",
    "For example:\n",
    "- `calculate_average([1, 2, 3, 4, 5])` should return `3.0`.\n",
    "- `calculate_average([10, 20, 30, 40, 50])` should return `30.0`.\n",
    "- `calculate_average([2.5, 3.5, 4.5])` should return `3.5`.\n",
    "\n",
    "Once you've written the function, you can test it with different lists of numbers to ensure it works correctly.\n",
    "\n",
    "This function can be useful for various tasks, such as calculating average scores, grades, or numerical data in general."
   ]
  },
  {
   "cell_type": "markdown",
   "id": "ee87a84e",
   "metadata": {
    "heading_collapsed": true
   },
   "source": [
    "### Attempt 1:"
   ]
  },
  {
   "cell_type": "code",
   "execution_count": 141,
   "id": "520337cf",
   "metadata": {
    "hidden": true
   },
   "outputs": [],
   "source": [
    "def calculate_average(lst):\n",
    "    total = 0\n",
    "    count = 0\n",
    "    for num in lst:\n",
    "        total += num\n",
    "        count += 1\n",
    "    avg = total/count\n",
    "    return avg### Attempt 1:"
   ]
  },
  {
   "cell_type": "code",
   "execution_count": 148,
   "id": "963796fe",
   "metadata": {
    "hidden": true
   },
   "outputs": [
    {
     "data": {
      "text/plain": [
       "30.0"
      ]
     },
     "execution_count": 148,
     "metadata": {},
     "output_type": "execute_result"
    }
   ],
   "source": [
    "calculate_average([10, 20, 30, 40, 50])"
   ]
  },
  {
   "cell_type": "code",
   "execution_count": 150,
   "id": "c8884151",
   "metadata": {
    "hidden": true
   },
   "outputs": [],
   "source": [
    "def calc_avg(lst):\n",
    "    total = sum(lst)\n",
    "    count = len(lst)\n",
    "    avg = total/count if count != 0 else 0\n",
    "    return avg"
   ]
  },
  {
   "cell_type": "code",
   "execution_count": 151,
   "id": "c63cbdd6",
   "metadata": {
    "hidden": true
   },
   "outputs": [
    {
     "data": {
      "text/plain": [
       "30.0"
      ]
     },
     "execution_count": 151,
     "metadata": {},
     "output_type": "execute_result"
    }
   ],
   "source": [
    "calc_avg([10, 20, 30, 40, 50])"
   ]
  },
  {
   "cell_type": "markdown",
   "id": "92531230",
   "metadata": {},
   "source": [
    "### Attempt 2:"
   ]
  },
  {
   "cell_type": "code",
   "execution_count": 274,
   "id": "af27275e",
   "metadata": {},
   "outputs": [],
   "source": [
    "def calculate_average(lst):\n",
    "    total = sum(lst)\n",
    "    \n",
    "    count = len(lst)\n",
    "    \n",
    "    avg = total/count\n",
    "    \n",
    "    return avg"
   ]
  },
  {
   "cell_type": "code",
   "execution_count": 276,
   "id": "f0dc26ed",
   "metadata": {},
   "outputs": [
    {
     "data": {
      "text/plain": [
       "42.9"
      ]
     },
     "execution_count": 276,
     "metadata": {},
     "output_type": "execute_result"
    }
   ],
   "source": [
    "calculate_average([10, 20, 30, 40, 50, 90, 88, 23, 55, 23])"
   ]
  },
  {
   "cell_type": "markdown",
   "id": "bf95c352",
   "metadata": {},
   "source": [
    "## **Problem 10:**\n",
    "\n",
    "Write a Python function called `find_maximum` that takes a list of numbers as input and returns the maximum value in the list. You should not use any built-in functions like `max()`.\n",
    "\n",
    "For example:\n",
    "- `find_maximum([1, 5, 3, 9, 2])` should return `9`.\n",
    "- `find_maximum([-10, -5, -3, -9, -2])` should return `-2`.\n",
    "- `find_maximum([2.5, 3.7, 1.2, 4.8])` should return `4.8`.\n",
    "\n",
    "Once you've written the function, you can test it with different lists of numbers to ensure it works correctly.\n",
    "\n",
    "This function can be useful for finding the maximum value in a dataset or determining the largest element in a collection of values."
   ]
  },
  {
   "cell_type": "markdown",
   "id": "f9b8623a",
   "metadata": {
    "heading_collapsed": true
   },
   "source": [
    "### Attempt 1:"
   ]
  },
  {
   "cell_type": "code",
   "execution_count": 168,
   "id": "7a3de193",
   "metadata": {
    "hidden": true
   },
   "outputs": [],
   "source": [
    "def find_maximum(lst):\n",
    "    max_value = lst[0]\n",
    "    ### Attempt 1:\n",
    "    for num in lst[1:]:\n",
    "        if num > max_value:\n",
    "            max_value = num\n",
    "\n",
    "    return max_value"
   ]
  },
  {
   "cell_type": "code",
   "execution_count": 169,
   "id": "3d9f5f38",
   "metadata": {
    "hidden": true
   },
   "outputs": [
    {
     "data": {
      "text/plain": [
       "4.8"
      ]
     },
     "execution_count": 169,
     "metadata": {},
     "output_type": "execute_result"
    }
   ],
   "source": [
    "find_maximum([2.5, 3.7, 1.2, 4.8])"
   ]
  },
  {
   "cell_type": "markdown",
   "id": "46965c90",
   "metadata": {},
   "source": [
    "### Attempt 2:"
   ]
  },
  {
   "cell_type": "code",
   "execution_count": null,
   "id": "313bedc5",
   "metadata": {},
   "outputs": [],
   "source": []
  },
  {
   "cell_type": "markdown",
   "id": "95e71931",
   "metadata": {
    "heading_collapsed": true
   },
   "source": [
    "## **Problem 11:**\n",
    "\n",
    "Write a Python function called `is_prime` that takes an integer as input and returns `True` if the number is prime, and `False` otherwise. A prime number is a positive integer greater than 1 that has no positive integer divisors other than 1 and itself.\n",
    "\n",
    "For example:\n",
    "- `is_prime(2)` should return `True`.\n",
    "- `is_prime(7)` should return `True`.\n",
    "- `is_prime(10)` should return `False`.\n",
    "\n",
    "Once you've written the function, you can test it with different integers to ensure it works correctly.\n",
    "\n",
    "This function can be useful for determining whether a given number is prime, which is a common task in various mathematical and computational problems."
   ]
  },
  {
   "cell_type": "markdown",
   "id": "6395773d",
   "metadata": {
    "heading_collapsed": true,
    "hidden": true
   },
   "source": [
    "### Attempt 1:"
   ]
  },
  {
   "cell_type": "code",
   "execution_count": 193,
   "id": "af2f80a0",
   "metadata": {
    "hidden": true
   },
   "outputs": [],
   "source": [
    "def is_prime(num):\n",
    "    if num <= 1:\n",
    "        return False\n",
    "    elif num <= 3: \n",
    "        return True\n",
    "    elif num % 2 == 0 or num % 3 == 0:\n",
    "        return False\n",
    "    ### Attempt 1:i = 5\n",
    "    while i * i <= num:\n",
    "        if num % i == 0 or num % (i + 2) == 0:\n",
    "            return False\n",
    "        i += 6\n",
    "    return True"
   ]
  },
  {
   "cell_type": "code",
   "execution_count": 198,
   "id": "056880ed",
   "metadata": {
    "hidden": true
   },
   "outputs": [
    {
     "data": {
      "text/plain": [
       "False"
      ]
     },
     "execution_count": 198,
     "metadata": {},
     "output_type": "execute_result"
    }
   ],
   "source": [
    "is_prime(14)"
   ]
  },
  {
   "cell_type": "markdown",
   "id": "4bcf9575",
   "metadata": {
    "heading_collapsed": true,
    "hidden": true
   },
   "source": [
    "### Attempt 2:"
   ]
  },
  {
   "cell_type": "code",
   "execution_count": null,
   "id": "229c808a",
   "metadata": {
    "hidden": true
   },
   "outputs": [],
   "source": []
  },
  {
   "cell_type": "markdown",
   "id": "541a394b",
   "metadata": {},
   "source": [
    "## **Problem 12:**\n",
    "\n",
    "Write a Python function called `average_grade` that takes a dictionary as input, where the keys are student names and the values are lists of grades (numbers). The function should calculate the average grade for each student and return a new dictionary where the keys are the student names and the values are their average grades.\n",
    "\n",
    "For example:\n",
    "- `average_grade({'Alice': [80, 90, 75], 'Bob': [85, 90, 92], 'Charlie': [70, 75, 80]})` should return `{'Alice': 81.66666666666667, 'Bob': 89.0, 'Charlie': 75.0}`.\n",
    "\n",
    "Once you've written the function, you can test it with different dictionaries representing students and their grades to ensure it works correctly.\n",
    "\n",
    "This function can be useful for calculating student performance metrics, such as average grades or GPA."
   ]
  },
  {
   "cell_type": "markdown",
   "id": "8d5d5b8a",
   "metadata": {
    "heading_collapsed": true
   },
   "source": [
    "### Attempt 1:"
   ]
  },
  {
   "cell_type": "code",
   "execution_count": 221,
   "id": "d05dc611",
   "metadata": {
    "hidden": true
   },
   "outputs": [],
   "source": [
    "def average_grade(grade):\n",
    "    average_grades = {}\n",
    "    for key, value in grade.items():\n",
    "        total = sum(value)\n",
    "        count = len(value)\n",
    "        avg = total / count if count != 0 else 0\n",
    "        average_grades[key] = avg\n",
    "    return average_grades"
   ]
  },
  {
   "cell_type": "code",
   "execution_count": 222,
   "id": "94e06991",
   "metadata": {
    "hidden": true
   },
   "outputs": [
    {
     "data": {
      "text/plain": [
       "{'Alice': 81.66666666666667, 'Bob': 89.0, 'Charlie': 75.0}"
      ]
     },
     "execution_count": 222,
     "metadata": {},
     "output_type": "execute_result"
    }
   ],
   "source": [
    "average_grade({'Alice': [80, 90, 75], 'Bob': [85, 90, 92], 'Charlie': [70, 75, 80]})"
   ]
  },
  {
   "cell_type": "markdown",
   "id": "08558f1a",
   "metadata": {},
   "source": [
    "### Attempt 2:"
   ]
  },
  {
   "cell_type": "code",
   "execution_count": 287,
   "id": "4addbe74",
   "metadata": {},
   "outputs": [
    {
     "name": "stdout",
     "output_type": "stream",
     "text": [
      "What is your name? cj\n",
      "If you could visit one place in the world, where would you go?africa\n",
      "Does anyone else who wants to take the poll? (yes/no)no\n",
      "--- Poll Results ---\n",
      "Cj would like to travel to africa.\n"
     ]
    }
   ],
   "source": [
    "responses = {}\n",
    "\n",
    "polling_active = True\n",
    "\n",
    "while polling_active:\n",
    "    name = input(\"What is your name? \")\n",
    "    response = \"If you could visit one place in the world, \"\n",
    "    response += \"where would you go?\"\n",
    "    response = input(response)\n",
    "    \n",
    "    responses[name] = response\n",
    "    \n",
    "    repeat = input(\"Does anyone else who wants to take the poll? (yes/no)\")\n",
    "    \n",
    "    if repeat.lower() == 'no':\n",
    "        polling_active = False\n",
    "        \n",
    "print(\"--- Poll Results ---\")\n",
    "for name, response in responses.items():\n",
    "    print(f\"{name.title()} would like to travel to {response}.\")"
   ]
  },
  {
   "cell_type": "code",
   "execution_count": null,
   "id": "7d9d267f",
   "metadata": {},
   "outputs": [],
   "source": []
  }
 ],
 "metadata": {
  "kernelspec": {
   "display_name": "Python (dojo-env)",
   "language": "python",
   "name": "dojo-env"
  },
  "language_info": {
   "codemirror_mode": {
    "name": "ipython",
    "version": 3
   },
   "file_extension": ".py",
   "mimetype": "text/x-python",
   "name": "python",
   "nbconvert_exporter": "python",
   "pygments_lexer": "ipython3",
   "version": "3.9.15"
  },
  "toc": {
   "base_numbering": 1,
   "nav_menu": {},
   "number_sections": false,
   "sideBar": true,
   "skip_h1_title": false,
   "title_cell": "Table of Contents",
   "title_sidebar": "Contents",
   "toc_cell": false,
   "toc_position": {},
   "toc_section_display": true,
   "toc_window_display": false
  }
 },
 "nbformat": 4,
 "nbformat_minor": 5
}
