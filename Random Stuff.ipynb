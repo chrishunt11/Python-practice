{
 "cells": [
  {
   "cell_type": "markdown",
   "id": "a2b05d79",
   "metadata": {},
   "source": [
    "# Python Stuff"
   ]
  },
  {
   "cell_type": "markdown",
   "id": "ed9e82ad",
   "metadata": {},
   "source": [
    "## Number Guesser"
   ]
  },
  {
   "cell_type": "code",
   "execution_count": 3,
   "id": "f81ac2d6",
   "metadata": {},
   "outputs": [
    {
     "name": "stdout",
     "output_type": "stream",
     "text": [
      "Welcome to the Guessing Game!\n",
      "\n",
      "Try to guess the secret number between 1 and 1000.\n",
      "\n",
      "Guess a number: 25\n",
      "Too low! Try again.\n",
      "\n",
      "Guess a number: 99\n",
      "Too low! Try again.\n",
      "\n",
      "Guess a number: 1000\n",
      "Too high! Try again.\n",
      "\n",
      "Guess a number: 500\n",
      "Too low! Try again.\n",
      "\n",
      "Guess a number: 750\n",
      "Too low! Try again.\n",
      "\n",
      "Guess a number: 850\n",
      "Too high! Try again.\n",
      "\n",
      "Guess a number: 800\n",
      "Too high! Try again.\n",
      "\n",
      "Guess a number: 775\n",
      "Too low! Try again.\n",
      "\n",
      "Guess a number: 780\n",
      "Too low! Try again.\n",
      "\n",
      "Guess a number: 790\n",
      "Congratulations! You guessed the secret number!\n"
     ]
    }
   ],
   "source": [
    "import random\n",
    "\n",
    "# Example usage of the read_int() function\n",
    "def main():\n",
    "    secret_number = random.randint(1, 1000)  # Generate a random number between 1 and 100\n",
    "\n",
    "    print(\"Welcome to the Guessing Game!\\n\")\n",
    "    print(\"Try to guess the secret number between 1 and 1000.\\n\")\n",
    "\n",
    "    while True:\n",
    "        guess = read_int()\n",
    "\n",
    "        if guess < secret_number:\n",
    "            print(\"Too low! Try again.\\n\")\n",
    "        elif guess > secret_number:\n",
    "            print(\"Too high! Try again.\\n\")\n",
    "        else:\n",
    "            print(\"Congratulations! You guessed the secret number!\")\n",
    "            break  # Exit the loop if the guess is correct\n",
    "            \n",
    "def read_int() -> int:\n",
    "    while True:\n",
    "        try:\n",
    "            return int(input(\"Guess a number: \"))\n",
    "        except ValueError:\n",
    "            print(\"That's not a number!\")\n",
    "\n",
    "if __name__ == \"__main__\":\n",
    "    main()"
   ]
  },
  {
   "cell_type": "markdown",
   "id": "cb8c85de",
   "metadata": {},
   "source": [
    "## Quiz Game"
   ]
  },
  {
   "cell_type": "code",
   "execution_count": 9,
   "id": "20192c26",
   "metadata": {},
   "outputs": [
    {
     "name": "stdout",
     "output_type": "stream",
     "text": [
      "Welcome to my computer quiz!\n",
      "\n",
      "Do you want to play? yes\n",
      "\n",
      "Okay! Let's play!\n",
      "\n",
      "What does CPU stand for? \n",
      "Incorrect. The correct answer is `Central Processing Unit`\n",
      "\n",
      "Can the Philadelphia Eagles play defense? \n",
      "Incorrect! They don't know how!\n",
      "\n",
      "What is Joel Embiid's career high? 70 big ones\n",
      "Correct!\n",
      "\n"
     ]
    }
   ],
   "source": [
    "print(\"Welcome to my computer quiz!\\n\")\n",
    "\n",
    "playing = input(\"Do you want to play? \")\n",
    "\n",
    "if 'n' in playing.lower():\n",
    "    print(\"Okay, maybe next time!\")\n",
    "else:\n",
    "    print(\"\\nOkay! Let's play!\\n\")\n",
    "\n",
    "    # Question 1\n",
    "    answer = input(\"What does CPU stand for? \")\n",
    "\n",
    "    if answer.lower() == 'central processing unit':\n",
    "        print('Correct!\\n')\n",
    "    else:\n",
    "        print('Incorrect. The correct answer is `Central Processing Unit`\\n')        \n",
    "    # Question 2\n",
    "    answer = input(\"Can the Philadelphia Eagles play defense? \")\n",
    "\n",
    "    if 'n' in answer.lower():\n",
    "        print('Correct! Swiss cheese defense!\\n')\n",
    "    else:\n",
    "        print(\"Incorrect! They don't know how!\\n\")\n",
    "        \n",
    "    # Question 3\n",
    "    answer = input(\"What is Joel Embiid's career high? \")\n",
    "\n",
    "    if '70' in answer.lower():\n",
    "        print('Correct!\\n')\n",
    "    else:\n",
    "        print('Incorrect! He scored 70!\\n')"
   ]
  },
  {
   "cell_type": "code",
   "execution_count": null,
   "id": "2b5e7a34",
   "metadata": {},
   "outputs": [],
   "source": []
  }
 ],
 "metadata": {
  "kernelspec": {
   "display_name": "Python (dojo-env)",
   "language": "python",
   "name": "dojo-env"
  },
  "language_info": {
   "codemirror_mode": {
    "name": "ipython",
    "version": 3
   },
   "file_extension": ".py",
   "mimetype": "text/x-python",
   "name": "python",
   "nbconvert_exporter": "python",
   "pygments_lexer": "ipython3",
   "version": "3.9.15"
  },
  "toc": {
   "base_numbering": 1,
   "nav_menu": {},
   "number_sections": false,
   "sideBar": true,
   "skip_h1_title": false,
   "title_cell": "Table of Contents",
   "title_sidebar": "Contents",
   "toc_cell": false,
   "toc_position": {},
   "toc_section_display": true,
   "toc_window_display": false
  }
 },
 "nbformat": 4,
 "nbformat_minor": 5
}
