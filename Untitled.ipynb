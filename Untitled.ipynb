{
 "cells": [
  {
   "cell_type": "markdown",
   "id": "a2b05d79",
   "metadata": {},
   "source": [
    "# Python Stuff"
   ]
  },
  {
   "cell_type": "markdown",
   "id": "ed9e82ad",
   "metadata": {},
   "source": [
    "## Number Guesser"
   ]
  },
  {
   "cell_type": "code",
   "execution_count": 1,
   "id": "f81ac2d6",
   "metadata": {},
   "outputs": [],
   "source": [
    "import random\n",
    "\n",
    "def read_int() -> int:\n",
    "    while True:\n",
    "        try:\n",
    "            return int(input(\"Guess a number: \"))\n",
    "        except ValueError:\n",
    "            print(\"That's not a number!\")"
   ]
  },
  {
   "cell_type": "markdown",
   "id": "cb8c85de",
   "metadata": {},
   "source": [
    "## Quiz Game"
   ]
  },
  {
   "cell_type": "code",
   "execution_count": 1,
   "id": "20192c26",
   "metadata": {},
   "outputs": [
    {
     "name": "stdout",
     "output_type": "stream",
     "text": [
      "Welcome to my computer quiz!\n",
      "Do you want to play? sure\n",
      "Okay! Let's play! :)\n",
      "What does CPU stand for? Computers Play Underage\n",
      "Wrong lmao\n",
      "Can the Philadelphia Eagles play defense? NO\n",
      "Correct!\n",
      "How many points did Joel Embiid score last night 1/22/24? 53\n",
      "Wrong lmao\n"
     ]
    }
   ],
   "source": [
    "print(\"Welcome to my computer quiz!\")\n",
    "\n",
    "playing = input(\"Do you want to play? \")\n",
    "\n",
    "if playing.lower() != \"yes\":\n",
    "    quit()\n",
    "\n",
    "print(\"Okay! Let's play! :)\")\n",
    "\n",
    "# Question 1\n",
    "answer = input(\"What does CPU stand for? \")\n",
    "\n",
    "if answer.lower() == 'central processing unit':\n",
    "    print('Correct!')\n",
    "else:\n",
    "    print('Wrong lmao')\n",
    "    \n",
    "# Question 2\n",
    "answer = input(\"Can the Philadelphia Eagles play defense? \")\n",
    "\n",
    "if answer.lower() == 'no':\n",
    "    print('Correct!')\n",
    "else:\n",
    "    print('Wrong lmao')\n",
    "    \n",
    "# Question 3\n",
    "answer = input(\"How many points did Joel Embiid score last night 1/22/24? \")\n",
    "\n",
    "if answer.lower() == '70':\n",
    "    print('Correct!')\n",
    "else:\n",
    "    print('Wrong lmao')"
   ]
  },
  {
   "cell_type": "code",
   "execution_count": null,
   "id": "4a2694ee",
   "metadata": {},
   "outputs": [],
   "source": []
  }
 ],
 "metadata": {
  "kernelspec": {
   "display_name": "Python (dojo-env)",
   "language": "python",
   "name": "dojo-env"
  },
  "language_info": {
   "codemirror_mode": {
    "name": "ipython",
    "version": 3
   },
   "file_extension": ".py",
   "mimetype": "text/x-python",
   "name": "python",
   "nbconvert_exporter": "python",
   "pygments_lexer": "ipython3",
   "version": "3.9.15"
  },
  "toc": {
   "base_numbering": 1,
   "nav_menu": {},
   "number_sections": false,
   "sideBar": true,
   "skip_h1_title": false,
   "title_cell": "Table of Contents",
   "title_sidebar": "Contents",
   "toc_cell": false,
   "toc_position": {},
   "toc_section_display": true,
   "toc_window_display": false
  }
 },
 "nbformat": 4,
 "nbformat_minor": 5
}
