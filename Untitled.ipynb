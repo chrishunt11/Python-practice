{
 "cells": [
  {
   "cell_type": "code",
   "execution_count": 3,
   "id": "ad45c005",
   "metadata": {},
   "outputs": [
    {
     "data": {
      "text/plain": [
       "{'addition': 10,\n",
       " 'subtraction': 10,\n",
       " 'multiplication': 0,\n",
       " 'division': \"Can't divide by 0\"}"
      ]
     },
     "execution_count": 3,
     "metadata": {},
     "output_type": "execute_result"
    }
   ],
   "source": [
    "def basic_arithmetic(a, b):\n",
    "    \n",
    "    return {\n",
    "        'addition': a + b,\n",
    "        'subtraction': a - b,\n",
    "        'multiplication': a * b,\n",
    "        'division': a / b if b != 0 else \"Can't divide by 0\"\n",
    "    }\n",
    "\n",
    "# Example usage:\n",
    "basic_arithmetic(10, 0)  #should return {'addition': 15, 'subtraction': 5, 'multiplication': 50, 'division': 2.0}\n"
   ]
  },
  {
   "cell_type": "code",
   "execution_count": 13,
   "id": "3b9611f8",
   "metadata": {},
   "outputs": [],
   "source": [
    "def fizz_buzz():\n",
    "    for num in range(1,100):\n",
    "        if num % 3 == 0 and num % 5 == 0:\n",
    "            print(\"FizzBuzz\")\n",
    "        elif num % 3 == 0:\n",
    "            print(\"Fizz\")\n",
    "        elif num % 5 == 0:\n",
    "            print(\"Buzz\")\n",
    "        else:\n",
    "            print(num)\n",
    "\n",
    "#fizz_buzz() \n"
   ]
  },
  {
   "cell_type": "code",
   "execution_count": 18,
   "id": "7db44f6a",
   "metadata": {},
   "outputs": [
    {
     "data": {
      "text/plain": [
       "{'hello': 2, 'world': 1, 'how': 1, 'are': 1, 'you': 1}"
      ]
     },
     "execution_count": 18,
     "metadata": {},
     "output_type": "execute_result"
    }
   ],
   "source": [
    "def count_words(sentence):\n",
    "    word_count = {}\n",
    "    words = sentence.split()\n",
    "    for word in words:\n",
    "        if word in word_count:\n",
    "            word_count[word] += 1\n",
    "        else:\n",
    "            word_count[word] = 1\n",
    "    \n",
    "    return word_count\n",
    "\n",
    "# Example usage:\n",
    "count_words('hello world hello how are you') #should return {'hello': 2, 'world': 1}\n"
   ]
  },
  {
   "cell_type": "code",
   "execution_count": null,
   "id": "9b30dcc0",
   "metadata": {},
   "outputs": [],
   "source": []
  }
 ],
 "metadata": {
  "kernelspec": {
   "display_name": "Python (dojo-env)",
   "language": "python",
   "name": "dojo-env"
  },
  "language_info": {
   "codemirror_mode": {
    "name": "ipython",
    "version": 3
   },
   "file_extension": ".py",
   "mimetype": "text/x-python",
   "name": "python",
   "nbconvert_exporter": "python",
   "pygments_lexer": "ipython3",
   "version": "3.9.15"
  },
  "toc": {
   "base_numbering": 1,
   "nav_menu": {},
   "number_sections": false,
   "sideBar": true,
   "skip_h1_title": false,
   "title_cell": "Table of Contents",
   "title_sidebar": "Contents",
   "toc_cell": false,
   "toc_position": {},
   "toc_section_display": true,
   "toc_window_display": false
  }
 },
 "nbformat": 4,
 "nbformat_minor": 5
}
