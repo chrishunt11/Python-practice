{
 "cells": [
  {
   "cell_type": "markdown",
   "id": "a2b05d79",
   "metadata": {},
   "source": [
    "# Python Stuff"
   ]
  },
  {
   "cell_type": "markdown",
   "id": "ed9e82ad",
   "metadata": {},
   "source": [
    "## Number Guesser"
   ]
  },
  {
   "cell_type": "code",
   "execution_count": 5,
   "id": "f81ac2d6",
   "metadata": {},
   "outputs": [],
   "source": [
    "import random\n",
    "\n",
    "def read_int() -> int:\n",
    "    while True:\n",
    "        try:\n",
    "            return int(input(\"Guess a number: \"))\n",
    "        except ValueError:\n",
    "            print(\"That's not a number!\")"
   ]
  },
  {
   "cell_type": "code",
   "execution_count": null,
   "id": "0a79db8e",
   "metadata": {},
   "outputs": [],
   "source": []
  }
 ],
 "metadata": {
  "kernelspec": {
   "display_name": "Python (dojo-env)",
   "language": "python",
   "name": "dojo-env"
  },
  "language_info": {
   "codemirror_mode": {
    "name": "ipython",
    "version": 3
   },
   "file_extension": ".py",
   "mimetype": "text/x-python",
   "name": "python",
   "nbconvert_exporter": "python",
   "pygments_lexer": "ipython3",
   "version": "3.9.15"
  },
  "toc": {
   "base_numbering": 1,
   "nav_menu": {},
   "number_sections": false,
   "sideBar": true,
   "skip_h1_title": false,
   "title_cell": "Table of Contents",
   "title_sidebar": "Contents",
   "toc_cell": false,
   "toc_position": {},
   "toc_section_display": true,
   "toc_window_display": false
  }
 },
 "nbformat": 4,
 "nbformat_minor": 5
}
