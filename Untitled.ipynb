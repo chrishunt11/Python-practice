{
 "cells": [
  {
   "cell_type": "markdown",
   "id": "d01a4267",
   "metadata": {},
   "source": [
    "# function practice yeah"
   ]
  },
  {
   "cell_type": "code",
   "execution_count": 3,
   "id": "ad45c005",
   "metadata": {},
   "outputs": [
    {
     "data": {
      "text/plain": [
       "{'addition': 10,\n",
       " 'subtraction': 10,\n",
       " 'multiplication': 0,\n",
       " 'division': \"Can't divide by 0\"}"
      ]
     },
     "execution_count": 3,
     "metadata": {},
     "output_type": "execute_result"
    }
   ],
   "source": [
    "def basic_arithmetic(a, b):\n",
    "    \n",
    "    return {\n",
    "        'addition': a + b,\n",
    "        'subtraction': a - b,\n",
    "        'multiplication': a * b,\n",
    "        'division': a / b if b != 0 else \"Can't divide by 0\"\n",
    "    }\n",
    "\n",
    "# Example usage:\n",
    "basic_arithmetic(10, 0)  #should return {'addition': 15, 'subtraction': 5, 'multiplication': 50, 'division': 2.0}\n"
   ]
  },
  {
   "cell_type": "code",
   "execution_count": 13,
   "id": "3b9611f8",
   "metadata": {},
   "outputs": [],
   "source": [
    "def fizz_buzz():\n",
    "    for num in range(1,100):\n",
    "        if num % 3 == 0 and num % 5 == 0:\n",
    "            print(\"FizzBuzz\")\n",
    "        elif num % 3 == 0:\n",
    "            print(\"Fizz\")\n",
    "        elif num % 5 == 0:\n",
    "            print(\"Buzz\")\n",
    "        else:\n",
    "            print(num)\n",
    "\n",
    "#fizz_buzz() \n"
   ]
  },
  {
   "cell_type": "code",
   "execution_count": 18,
   "id": "7db44f6a",
   "metadata": {},
   "outputs": [
    {
     "data": {
      "text/plain": [
       "{'hello': 2, 'world': 1, 'how': 1, 'are': 1, 'you': 1}"
      ]
     },
     "execution_count": 18,
     "metadata": {},
     "output_type": "execute_result"
    }
   ],
   "source": [
    "def count_words(sentence):\n",
    "    word_count = {}\n",
    "    words = sentence.split()\n",
    "    for word in words:\n",
    "        if word in word_count:\n",
    "            word_count[word] += 1\n",
    "        else:\n",
    "            word_count[word] = 1\n",
    "    \n",
    "    return word_count\n",
    "\n",
    "# Example usage:\n",
    "count_words('hello world hello how are you') #should return {'hello': 2, 'world': 1}\n"
   ]
  },
  {
   "cell_type": "markdown",
   "id": "648d8638",
   "metadata": {},
   "source": [
    "# ReLearning"
   ]
  },
  {
   "cell_type": "markdown",
   "id": "d6cf336f",
   "metadata": {
    "heading_collapsed": true
   },
   "source": [
    "### Write a function that takes a list of numbers and returns the largest number in the list."
   ]
  },
  {
   "cell_type": "code",
   "execution_count": 1,
   "id": "1b50acf2",
   "metadata": {
    "hidden": true
   },
   "outputs": [],
   "source": [
    "nums = [1,2,3,4,5,6,7,8,9]"
   ]
  },
  {
   "cell_type": "code",
   "execution_count": 9,
   "id": "c1a89325",
   "metadata": {
    "hidden": true
   },
   "outputs": [],
   "source": [
    "def largest_num(nums):\n",
    "    # set the largest number to 0\n",
    "    largest = 0\n",
    "    # for each number in numbers\n",
    "    for num in nums:\n",
    "        # if the current number is bigger than the largest\n",
    "        if num > largest:\n",
    "            # set 'largest' to that number\n",
    "            largest = num\n",
    "        # return the largest number\n",
    "    return largest"
   ]
  },
  {
   "cell_type": "code",
   "execution_count": 10,
   "id": "1b7cdf93",
   "metadata": {
    "hidden": true
   },
   "outputs": [
    {
     "data": {
      "text/plain": [
       "9"
      ]
     },
     "execution_count": 10,
     "metadata": {},
     "output_type": "execute_result"
    }
   ],
   "source": [
    "largest_num(nums)"
   ]
  },
  {
   "cell_type": "markdown",
   "id": "e348a4d2",
   "metadata": {
    "heading_collapsed": true
   },
   "source": [
    "### Write a program to check if a string is a palindrome (reads forward and backward, example: racecar, level)."
   ]
  },
  {
   "cell_type": "code",
   "execution_count": 12,
   "id": "4901dfae",
   "metadata": {
    "hidden": true
   },
   "outputs": [],
   "source": [
    "def palindrome(word):\n",
    "    reversed_word = word[::-1]\n",
    "    if reversed_word == word:\n",
    "        return True\n",
    "    else:\n",
    "        return False"
   ]
  },
  {
   "cell_type": "code",
   "execution_count": 16,
   "id": "f40dff28",
   "metadata": {
    "hidden": true
   },
   "outputs": [],
   "source": [
    "def pal(word):\n",
    "    return word == word[::-1]"
   ]
  },
  {
   "cell_type": "code",
   "execution_count": 17,
   "id": "a7fcb0bc",
   "metadata": {
    "hidden": true
   },
   "outputs": [
    {
     "data": {
      "text/plain": [
       "False"
      ]
     },
     "execution_count": 17,
     "metadata": {},
     "output_type": "execute_result"
    }
   ],
   "source": [
    "pal('hi')"
   ]
  },
  {
   "cell_type": "code",
   "execution_count": 18,
   "id": "177deb16",
   "metadata": {
    "hidden": true
   },
   "outputs": [
    {
     "data": {
      "text/plain": [
       "True"
      ]
     },
     "execution_count": 18,
     "metadata": {},
     "output_type": "execute_result"
    }
   ],
   "source": [
    "pal('level')"
   ]
  },
  {
   "cell_type": "code",
   "execution_count": null,
   "id": "05784833",
   "metadata": {
    "hidden": true
   },
   "outputs": [],
   "source": []
  },
  {
   "cell_type": "markdown",
   "id": "3f4c5aaa",
   "metadata": {
    "heading_collapsed": true
   },
   "source": [
    "### Write a program that prints the numbers from 1 to 50. For multiples of 3, print \"Fizz\" instead of the number, and for multiples of 5, print \"Buzz.\" For multiples of both 3 and 5, print \"FizzBuzz.\""
   ]
  },
  {
   "cell_type": "code",
   "execution_count": 24,
   "id": "a00ba17c",
   "metadata": {
    "hidden": true
   },
   "outputs": [],
   "source": [
    "def fizz_or_buzz():\n",
    "    for num in range(1,51):\n",
    "        if num % 3 == 0 and num % 5 == 0:\n",
    "            print(\"FizzBuzz\")\n",
    "        elif num % 3 == 0:\n",
    "            print(\"Fizz\")\n",
    "        elif num % 5 == 0:\n",
    "            print(\"Buzz\")\n",
    "        else:\n",
    "            print(num)"
   ]
  },
  {
   "cell_type": "code",
   "execution_count": 27,
   "id": "cdbc799f",
   "metadata": {
    "hidden": true
   },
   "outputs": [
    {
     "name": "stdout",
     "output_type": "stream",
     "text": [
      "1\n",
      "2\n",
      "Fizz\n",
      "4\n",
      "Buzz\n",
      "Fizz\n",
      "7\n",
      "8\n",
      "Fizz\n",
      "Buzz\n",
      "11\n",
      "Fizz\n",
      "13\n",
      "14\n",
      "FizzBuzz\n",
      "16\n",
      "17\n",
      "Fizz\n",
      "19\n",
      "Buzz\n",
      "Fizz\n",
      "22\n",
      "23\n",
      "Fizz\n",
      "Buzz\n",
      "26\n",
      "Fizz\n",
      "28\n",
      "29\n",
      "FizzBuzz\n",
      "31\n",
      "32\n",
      "Fizz\n",
      "34\n",
      "Buzz\n",
      "Fizz\n",
      "37\n",
      "38\n",
      "Fizz\n",
      "Buzz\n",
      "41\n",
      "Fizz\n",
      "43\n",
      "44\n",
      "FizzBuzz\n",
      "46\n",
      "47\n",
      "Fizz\n",
      "49\n",
      "Buzz\n"
     ]
    }
   ],
   "source": [
    "fizz_or_buzz()"
   ]
  },
  {
   "cell_type": "markdown",
   "id": "5d9d092f",
   "metadata": {},
   "source": [
    "### Write a function that checks if a given number is a prime number. \n",
    "\n",
    "A prime number is greater than 1 and divisible only by 1 and itself."
   ]
  },
  {
   "cell_type": "code",
   "execution_count": null,
   "id": "3825306a",
   "metadata": {},
   "outputs": [],
   "source": [
    "def prime(num):\n",
    "    if num "
   ]
  },
  {
   "cell_type": "markdown",
   "id": "c5f7bb37",
   "metadata": {},
   "source": [
    "# Leet code"
   ]
  },
  {
   "cell_type": "markdown",
   "id": "b147946f",
   "metadata": {},
   "source": [
    "You are given two integer arrays nums1 and nums2, sorted in non-decreasing order, and two integers m and n, representing the number of elements in nums1 and nums2 respectively.\n",
    "\n",
    "`Merge nums1 and nums2 into a single array sorted in non-decreasing order.`\n",
    "\n",
    "The final sorted array should not be returned by the function, but instead be stored inside the array nums1. To accommodate this, nums1 has a length of m + n, where the first m elements denote the elements that should be merged, and the last n elements are set to 0 and should be ignored. nums2 has a length of n."
   ]
  },
  {
   "cell_type": "code",
   "execution_count": 28,
   "id": "08ca64fe",
   "metadata": {},
   "outputs": [],
   "source": [
    "class Solution(object):\n",
    "    def merge(self, nums1, m, nums2, n):\n",
    "        p1 = m - 1  # last num of nums1\n",
    "        p2 = n - 1  # last num of nums2\n",
    "        p = m + n - 1  # last spot in nums1\n",
    "\n",
    "        while p2 >= 0:  # While nums2 still has elements\n",
    "            if p1 >= 0 and nums1[p1] > nums2[p2]:  # Compare only if p1 is valid\n",
    "                nums1[p] = nums1[p1]\n",
    "                p1 -= 1\n",
    "            else:  # If nums2[p2] is greater or p1 is out of bounds\n",
    "                nums1[p] = nums2[p2]\n",
    "                p2 -= 1\n",
    "            p -= 1  # Move the last position pointer\n"
   ]
  },
  {
   "cell_type": "markdown",
   "id": "21b7c90b",
   "metadata": {},
   "source": [
    "### Problem Example: Remove All Occurrences of Duplicates After k Times\n",
    "You are given a sorted array nums. Modify it in-place such that each unique element appears at most k times (instead of exactly 2 times as in your example). The relative order of elements should be preserved. Then return the new length of the array."
   ]
  },
  {
   "cell_type": "code",
   "execution_count": 43,
   "id": "9f39b384",
   "metadata": {},
   "outputs": [],
   "source": [
    "class Solution(object):\n",
    "    def remove_dup(self, nums, k):\n",
    "        nums.sort()\n",
    "        # start with the safe zone at index 'k'\n",
    "        safe_position = k\n",
    "        \n",
    "        # Iterate through the array of nums, starting at point k\n",
    "        for i in range(k, len(nums)):\n",
    "            # Compare current element with the element 'k' steps behind in safe zone\n",
    "            if nums[i] != nums[safe_position - k]: \n",
    "                # Writing valid element into safe zone\n",
    "                nums[safe_position] = nums[i]\n",
    "                # move safe zone forward\n",
    "                safe_position += 1\n",
    "        return safe_position"
   ]
  },
  {
   "cell_type": "code",
   "execution_count": 44,
   "id": "a40e089d",
   "metadata": {},
   "outputs": [],
   "source": [
    "nums = [1, 1, 1, 2, 2, 2, 3, 3, 3, 3,4,4,5,5,6,7,7,8,8,8,8,9,9,9,0,0]\n",
    "k = 2"
   ]
  },
  {
   "cell_type": "code",
   "execution_count": 45,
   "id": "236e1c04",
   "metadata": {},
   "outputs": [],
   "source": [
    "solution = Solution()\n",
    "\n",
    "new_length = solution.remove_dup(nums, k)"
   ]
  },
  {
   "cell_type": "code",
   "execution_count": 46,
   "id": "e4892d1f",
   "metadata": {},
   "outputs": [
    {
     "name": "stdout",
     "output_type": "stream",
     "text": [
      "New length of array: 19\n",
      "Modified array [0, 0, 1, 1, 2, 2, 3, 3, 4, 4, 5, 5, 6, 7, 7, 8, 8, 9, 9]\n"
     ]
    }
   ],
   "source": [
    "print(\"New length of array:\", new_length)\n",
    "print(\"Modified array\", nums[:new_length])"
   ]
  },
  {
   "cell_type": "code",
   "execution_count": null,
   "id": "a735f7ef",
   "metadata": {},
   "outputs": [],
   "source": []
  },
  {
   "cell_type": "code",
   "execution_count": null,
   "id": "406c69c6",
   "metadata": {},
   "outputs": [],
   "source": []
  },
  {
   "cell_type": "code",
   "execution_count": null,
   "id": "e011b101",
   "metadata": {},
   "outputs": [],
   "source": []
  },
  {
   "cell_type": "code",
   "execution_count": null,
   "id": "7c418109",
   "metadata": {},
   "outputs": [],
   "source": []
  },
  {
   "cell_type": "code",
   "execution_count": null,
   "id": "27596e7a",
   "metadata": {},
   "outputs": [],
   "source": []
  },
  {
   "cell_type": "code",
   "execution_count": null,
   "id": "ac822f2f",
   "metadata": {},
   "outputs": [],
   "source": []
  },
  {
   "cell_type": "code",
   "execution_count": 65,
   "id": "445af289",
   "metadata": {},
   "outputs": [],
   "source": [
    "lst = []"
   ]
  },
  {
   "cell_type": "code",
   "execution_count": 68,
   "id": "f2178cda",
   "metadata": {},
   "outputs": [],
   "source": [
    "def find_smallest(lst):\n",
    "    # check for an empty list\n",
    "    if not lst:\n",
    "        return None\n",
    "    # assign smallest value to first index\n",
    "    smallest_value = lst[0]\n",
    "    \n",
    "    # loop through the list\n",
    "    for i in lst:\n",
    "        # if the current number is smaller than the smallest value\n",
    "        if i < smallest_value:\n",
    "            # assign that to the smallest value\n",
    "            smallest_value = i\n",
    "    return smallest_value"
   ]
  },
  {
   "cell_type": "code",
   "execution_count": 69,
   "id": "c51a273c",
   "metadata": {},
   "outputs": [],
   "source": [
    "find_smallest(lst)"
   ]
  },
  {
   "cell_type": "code",
   "execution_count": 84,
   "id": "f1685109",
   "metadata": {},
   "outputs": [],
   "source": [
    "nums = [1, 1, 1, 2, 2, 4, 5, 6]"
   ]
  },
  {
   "cell_type": "code",
   "execution_count": 85,
   "id": "b22f37aa",
   "metadata": {},
   "outputs": [],
   "source": [
    "def find_sum(lst):\n",
    "    total = 0\n",
    "    for i in lst:\n",
    "        total += i\n",
    "    return total"
   ]
  },
  {
   "cell_type": "code",
   "execution_count": 86,
   "id": "2d68ded8",
   "metadata": {},
   "outputs": [
    {
     "data": {
      "text/plain": [
       "22"
      ]
     },
     "execution_count": 86,
     "metadata": {},
     "output_type": "execute_result"
    }
   ],
   "source": [
    "find_sum(nums)"
   ]
  },
  {
   "cell_type": "code",
   "execution_count": 87,
   "id": "1483bf81",
   "metadata": {},
   "outputs": [],
   "source": [
    "def find_evens(lst):\n",
    "    total = 0\n",
    "    for i in lst:\n",
    "        if i % 2 == 0:\n",
    "            total += 1\n",
    "    return total"
   ]
  },
  {
   "cell_type": "code",
   "execution_count": 88,
   "id": "0376961d",
   "metadata": {},
   "outputs": [
    {
     "data": {
      "text/plain": [
       "4"
      ]
     },
     "execution_count": 88,
     "metadata": {},
     "output_type": "execute_result"
    }
   ],
   "source": [
    "find_evens(nums)"
   ]
  },
  {
   "cell_type": "code",
   "execution_count": 89,
   "id": "93df18de",
   "metadata": {},
   "outputs": [
    {
     "ename": "SyntaxError",
     "evalue": "invalid syntax (369052196.py, line 1)",
     "output_type": "error",
     "traceback": [
      "\u001b[1;36m  Cell \u001b[1;32mIn [89], line 1\u001b[1;36m\u001b[0m\n\u001b[1;33m    input: list of numbers, value the numbers need to be greater than\u001b[0m\n\u001b[1;37m                ^\u001b[0m\n\u001b[1;31mSyntaxError\u001b[0m\u001b[1;31m:\u001b[0m invalid syntax\n"
     ]
    }
   ],
   "source": [
    "input: list of numbers, value the numbers need to be greater than\n",
    "output: amount of numbers greater than specified value\n",
    "\n",
    "set a count variable to 0\n",
    "loop through the list\n",
    "if the current number is greater than the valued number\n",
    "add 1 to the count\n",
    "return the count after running through the entire list"
   ]
  },
  {
   "cell_type": "code",
   "execution_count": 93,
   "id": "818d474a",
   "metadata": {},
   "outputs": [],
   "source": [
    "def greater_than(lst, value):\n",
    "    if not lst:\n",
    "        return 0\n",
    "    count = 0\n",
    "    for num in lst:\n",
    "        if num > value:\n",
    "            count += 1\n",
    "    return count"
   ]
  },
  {
   "cell_type": "code",
   "execution_count": 103,
   "id": "8888576d",
   "metadata": {},
   "outputs": [],
   "source": [
    "lst = [1, 5, 10, 20, 25, 34, 8]\n",
    "value = 40"
   ]
  },
  {
   "cell_type": "code",
   "execution_count": 100,
   "id": "6980bab7",
   "metadata": {},
   "outputs": [
    {
     "data": {
      "text/plain": [
       "0"
      ]
     },
     "execution_count": 100,
     "metadata": {},
     "output_type": "execute_result"
    }
   ],
   "source": [
    "greater_than(lst, value)"
   ]
  },
  {
   "cell_type": "code",
   "execution_count": null,
   "id": "c5174b64",
   "metadata": {},
   "outputs": [],
   "source": [
    "input is the list\n",
    "output is the count of numbers divisible by the value\n",
    "\n",
    "set variable count to 0\n",
    "for loop running through each number\n",
    "divide each number by the value \n",
    "if it equals 0 (using modulo)\n",
    "add 1 to the count\n",
    "return the count"
   ]
  },
  {
   "cell_type": "code",
   "execution_count": 105,
   "id": "554972d7",
   "metadata": {},
   "outputs": [],
   "source": [
    "def find_divisible(lst, value):\n",
    "    count = 0\n",
    "    for num in lst:\n",
    "        if num % value == 0:\n",
    "            count += 1\n",
    "    return count"
   ]
  },
  {
   "cell_type": "code",
   "execution_count": 113,
   "id": "15125233",
   "metadata": {},
   "outputs": [],
   "source": [
    "lst = [3, 6, 9, 12, 15]\n",
    "value = 4"
   ]
  },
  {
   "cell_type": "code",
   "execution_count": 114,
   "id": "b99b2954",
   "metadata": {},
   "outputs": [
    {
     "data": {
      "text/plain": [
       "1"
      ]
     },
     "execution_count": 114,
     "metadata": {},
     "output_type": "execute_result"
    }
   ],
   "source": [
    "find_divisible(lst, value)"
   ]
  },
  {
   "cell_type": "code",
   "execution_count": 119,
   "id": "3b8dd252",
   "metadata": {},
   "outputs": [],
   "source": [
    "def reverse(lst):\n",
    "    if not lst:\n",
    "        return None\n",
    "    a = 0\n",
    "    b = len(lst) - 1\n",
    "    while a < b:\n",
    "        lst[a], lst[b] = lst[b], lst[a]\n",
    "        a += 1\n",
    "        b -= 1\n",
    "    return lst"
   ]
  },
  {
   "cell_type": "code",
   "execution_count": 120,
   "id": "1697dc95",
   "metadata": {},
   "outputs": [
    {
     "data": {
      "text/plain": [
       "[15, 12, 9, 6, 3]"
      ]
     },
     "execution_count": 120,
     "metadata": {},
     "output_type": "execute_result"
    }
   ],
   "source": [
    "reverse(lst)"
   ]
  },
  {
   "cell_type": "code",
   "execution_count": 122,
   "id": "72c945ea",
   "metadata": {},
   "outputs": [],
   "source": [
    "def odd_num(lst):\n",
    "    count = 0\n",
    "    for num in lst:\n",
    "        if num % 2 != 0:\n",
    "            count += 1\n",
    "    return count"
   ]
  },
  {
   "cell_type": "code",
   "execution_count": 123,
   "id": "d546a39d",
   "metadata": {},
   "outputs": [
    {
     "data": {
      "text/plain": [
       "4"
      ]
     },
     "execution_count": 123,
     "metadata": {},
     "output_type": "execute_result"
    }
   ],
   "source": [
    "odd_num(nums)"
   ]
  },
  {
   "cell_type": "code",
   "execution_count": 133,
   "id": "25d51f44",
   "metadata": {},
   "outputs": [],
   "source": [
    "lst = [11, 17, 23, 21, 39]\n",
    "value = 5"
   ]
  },
  {
   "cell_type": "code",
   "execution_count": 134,
   "id": "8b78b8a1",
   "metadata": {},
   "outputs": [],
   "source": [
    "def sum_of_divisible(lst, value):\n",
    "    total = 0\n",
    "    for num in lst:\n",
    "        if num % value == 0:\n",
    "            total += num\n",
    "    return total"
   ]
  },
  {
   "cell_type": "code",
   "execution_count": 135,
   "id": "8e23f231",
   "metadata": {},
   "outputs": [
    {
     "data": {
      "text/plain": [
       "0"
      ]
     },
     "execution_count": 135,
     "metadata": {},
     "output_type": "execute_result"
    }
   ],
   "source": [
    "sum_of_divisible(lst, value)"
   ]
  },
  {
   "cell_type": "code",
   "execution_count": 143,
   "id": "1e5a168a",
   "metadata": {},
   "outputs": [],
   "source": [
    "words = [\"apple\", \"banana\", \"cherry\", \"date\", \"iuehuwehfuiehfiu\"]"
   ]
  },
  {
   "cell_type": "code",
   "execution_count": 146,
   "id": "e3495563",
   "metadata": {},
   "outputs": [],
   "source": [
    "def find_longest_word(words):\n",
    "    if not words:\n",
    "        return \"\"\n",
    "    longest_word = words[0]\n",
    "    for word in words:\n",
    "        if len(word) > len(longest_word):\n",
    "            longest_word = word\n",
    "    return longest_word"
   ]
  },
  {
   "cell_type": "code",
   "execution_count": 147,
   "id": "7bef686b",
   "metadata": {},
   "outputs": [
    {
     "data": {
      "text/plain": [
       "'iuehuwehfuiehfiu'"
      ]
     },
     "execution_count": 147,
     "metadata": {},
     "output_type": "execute_result"
    }
   ],
   "source": [
    "find_longest_word(words)"
   ]
  },
  {
   "cell_type": "code",
   "execution_count": 151,
   "id": "16d8ddc1",
   "metadata": {},
   "outputs": [],
   "source": [
    "# Create an empty dictionary\n",
    "# Loop through the list\n",
    "    # for each number, update the count in the dictionary\n",
    "# Find the number with the highest count in the dictionary\n",
    "# Return the number with highest frequency\n",
    "\n",
    "def most_freq_num(nums):\n",
    "    # empty case\n",
    "    if not nums:\n",
    "        return None\n",
    "    \n",
    "    # Dictionary to store counts\n",
    "    counts = {}\n",
    "    for num in nums:\n",
    "        if num in counts:\n",
    "            counts[num] += 1\n",
    "        else:\n",
    "            counts[num] = 1\n",
    "    \n",
    "    # Find the number with the higest count\n",
    "    most_frequent = None\n",
    "    max_count = 0\n",
    "    for num, count in counts.items():\n",
    "        if count > max_count:\n",
    "            max_count = count\n",
    "            most_frequent = num\n",
    "            \n",
    "    return most_frequent"
   ]
  },
  {
   "cell_type": "code",
   "execution_count": 152,
   "id": "10498d0b",
   "metadata": {},
   "outputs": [
    {
     "data": {
      "text/plain": [
       "3"
      ]
     },
     "execution_count": 152,
     "metadata": {},
     "output_type": "execute_result"
    }
   ],
   "source": [
    "most_freq_num([1, 2, 2, 3, 3, 3])"
   ]
  },
  {
   "cell_type": "code",
   "execution_count": null,
   "id": "dda97c2a",
   "metadata": {},
   "outputs": [],
   "source": []
  }
 ],
 "metadata": {
  "kernelspec": {
   "display_name": "Python (dojo-env)",
   "language": "python",
   "name": "dojo-env"
  },
  "language_info": {
   "codemirror_mode": {
    "name": "ipython",
    "version": 3
   },
   "file_extension": ".py",
   "mimetype": "text/x-python",
   "name": "python",
   "nbconvert_exporter": "python",
   "pygments_lexer": "ipython3",
   "version": "3.9.15"
  },
  "toc": {
   "base_numbering": 1,
   "nav_menu": {},
   "number_sections": false,
   "sideBar": true,
   "skip_h1_title": false,
   "title_cell": "Table of Contents",
   "title_sidebar": "Contents",
   "toc_cell": false,
   "toc_position": {},
   "toc_section_display": true,
   "toc_window_display": false
  }
 },
 "nbformat": 4,
 "nbformat_minor": 5
}
